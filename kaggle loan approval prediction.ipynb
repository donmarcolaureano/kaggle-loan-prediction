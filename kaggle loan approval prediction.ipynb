{
 "cells": [
  {
   "cell_type": "markdown",
   "id": "f2c07762-80bf-4604-a7a3-fa3075f35f0c",
   "metadata": {
    "tags": []
   },
   "source": [
    "# Kaggle Loan Prediction Competition"
   ]
  },
  {
   "cell_type": "markdown",
   "id": "f2d8dc53-ac15-4545-a516-8a3a39565620",
   "metadata": {},
   "source": [
    "The goal for this competition is to create a model that can predict whether an applicant is approved for a loan.\n",
    "https://www.kaggle.com/competitions/loan-approval-quantitativedata/data"
   ]
  },
  {
   "cell_type": "markdown",
   "id": "6d6100b9-933c-449b-aba9-27514e944b06",
   "metadata": {
    "tags": []
   },
   "source": [
    "## Packages"
   ]
  },
  {
   "cell_type": "code",
   "execution_count": 1,
   "id": "fc16d0ad-ffc0-4102-afd8-6e1e853ae56a",
   "metadata": {
    "tags": []
   },
   "outputs": [],
   "source": [
    "import pandas as pd\n",
    "import numpy as np\n",
    "import datetime as dt\n",
    "import matplotlib as mpl\n",
    "import matplotlib.pyplot as plt\n",
    "import seaborn as sns\n",
    "import matplotlib.ticker as mticks\n",
    "import matplotlib.dates as mdates\n",
    "import os\n",
    "import itertools\n",
    "import statsmodels.tsa.api as tsa\n",
    "from pmdarima.model_selection import train_test_split\n",
    "from pmdarima.arima.utils import ndiffs\n",
    "from statsmodels.tsa.arima.model import ARIMA\n",
    "from sklearn.metrics import mean_squared_error\n",
    "import warnings"
   ]
  },
  {
   "cell_type": "code",
   "execution_count": 2,
   "id": "11b36581-3813-4533-b657-706907d3a101",
   "metadata": {
    "tags": []
   },
   "outputs": [],
   "source": [
    "import statsmodels.tsa.api as tsa\n",
    "import statsmodels.api as sm\n",
    "import statsmodels.tsa.api as tsa\n",
    "import pmdarima as pm\n",
    "from pmdarima.arima.utils import ndiffs, nsdiffs\n",
    "from pmdarima.model_selection import train_test_split\n",
    "import pmdarima as pm\n",
    "from sklearn.linear_model import LinearRegression\n",
    "from sklearn.metrics import mean_absolute_error, mean_squared_error, r2_score, mean_absolute_percentage_error\n",
    "from sklearn import set_config"
   ]
  },
  {
   "cell_type": "markdown",
   "id": "cce10222-dc95-4435-ae9e-804946401096",
   "metadata": {},
   "source": [
    "## Functions"
   ]
  },
  {
   "cell_type": "code",
   "execution_count": 3,
   "id": "395b3e3a-9fab-4a24-9cac-f55bf3c2467d",
   "metadata": {
    "tags": []
   },
   "outputs": [],
   "source": [
    "def get_adfuller_results(ts, alpha=.05, label='adfuller', **kwargs): #kwargs for adfuller()\n",
    "    # Saving each output\n",
    "    (test_stat, pval, nlags, nobs, crit_vals_d, \n",
    "    icbest ) = tsa.adfuller(ts, **kwargs)\n",
    "    # Converting output to a dictionary with the interpretation of p\n",
    "    adfuller_results = {'Test Statistic': test_stat,\n",
    "                        \"# of Lags Used\":nlags, \n",
    "                       '# of Observations':nobs,\n",
    "                        'p-value': round(pval,6),\n",
    "                        'alpha': alpha,\n",
    "                       'sig/stationary?': pval < alpha}\n",
    "    return pd.DataFrame(adfuller_results, index =[label])"
   ]
  },
  {
   "cell_type": "code",
   "execution_count": 4,
   "id": "a92c3575-4421-4cc7-bf7e-b459fe06fdb2",
   "metadata": {
    "tags": []
   },
   "outputs": [],
   "source": [
    "def plot_acf_pacf(ts, nlags=40, figsize=(10, 5), \n",
    "                  annotate_sig=False, alpha=.05,\n",
    "                 acf_kws={}, pacf_kws={},  \n",
    "                  annotate_seas=False, m = None,\n",
    "                 seas_color='black'):\n",
    "    \n",
    "    fig, axes = plt.subplots(nrows=2, figsize=figsize)\n",
    "\n",
    "    \n",
    "    # Sig lags line style\n",
    "    sig_vline_kwargs = dict( ls=':', lw=1, zorder=0, color='red')\n",
    "\n",
    "    # ACF\n",
    "    tsa.graphics.plot_acf(ts, ax=axes[0], lags=nlags, **acf_kws)\n",
    "    \n",
    "    ## Annotating sig acf lags\n",
    "    if annotate_sig == True:\n",
    "        sig_acf_lags = get_sig_lags(ts,nlags=nlags,alpha=alpha, type='ACF')\n",
    "        for lag in sig_acf_lags:\n",
    "            axes[0].axvline(lag,label='sig', **sig_vline_kwargs )\n",
    "\n",
    "    # PACF\n",
    "    tsa.graphics.plot_pacf(ts,ax=axes[1], lags=nlags, **pacf_kws)\n",
    "    \n",
    "    ## Annotating sig pacf lags\n",
    "    if annotate_sig == True:\n",
    "        ## ANNOTATING SIG LAGS\n",
    "        sig_pacf_lags = get_sig_lags(ts,nlags=nlags,alpha=alpha, type='PACF')\n",
    "        for lag in sig_pacf_lags:\n",
    "            axes[1].axvline(lag, label='sig', **sig_vline_kwargs)\n",
    "\n",
    "\n",
    "\n",
    "    \n",
    "    ### ANNOTATE SEASONS\n",
    "    if annotate_seas == True:\n",
    "        # Ensure m was defined\n",
    "        if m is None:\n",
    "            raise Exception(\"Must define value of m if annotate_seas=True.\")\n",
    "\n",
    "        ## Calculate number of complete seasons to annotate\n",
    "        n_seasons = nlags//m \n",
    "\n",
    "        # Seasonal Lines style\n",
    "        seas_vline_kwargs = dict( ls='--',lw=1, alpha=.7, color=seas_color, zorder=-1)\n",
    "        \n",
    "        ## for each season, add a line\n",
    "        for i in range(1, n_seasons+1):\n",
    "            axes[0].axvline(m*i, **seas_vline_kwargs, label=\"season\")\n",
    "            axes[1].axvline(m*i, **seas_vline_kwargs, label=\"season\")\n",
    "\n",
    "    fig.tight_layout()\n",
    "    "
   ]
  },
  {
   "cell_type": "code",
   "execution_count": 5,
   "id": "29a3cdf3-6710-49b8-bd83-4db91d7bf52f",
   "metadata": {
    "tags": []
   },
   "outputs": [],
   "source": [
    "def plot_forecast(ts_train, ts_test, forecast_df, n_train_lags=None, \n",
    "                  figsize=(10,4), title='Comparing Forecast vs. True Data'):\n",
    "    ### PLot training data, and forecast (with upper/,lower ci)\n",
    "    fig, ax = plt.subplots(figsize=figsize)\n",
    "\n",
    "    # setting the number of train lags to plot if not specified\n",
    "    if n_train_lags==None:\n",
    "        n_train_lags = len(ts_train)\n",
    "            \n",
    "    # Plotting Training  and test data\n",
    "    ts_train.iloc[-n_train_lags:].plot(ax=ax, label=\"train\")\n",
    "    ts_test.plot(label=\"test\", ax=ax)\n",
    "\n",
    "    # Plot forecast\n",
    "    forecast_df['mean'].plot(ax=ax, color='green', label=\"forecast\")\n",
    "\n",
    "    # Add the shaded confidence interval\n",
    "    ax.fill_between(forecast_df.index, \n",
    "                    forecast_df['mean_ci_lower'],\n",
    "                   forecast_df['mean_ci_upper'],\n",
    "                   color='green', alpha=0.3,  lw=2)\n",
    "\n",
    "    # set the title and add legend\n",
    "    ax.set_title(title)\n",
    "    ax.legend();\n",
    "    \n",
    "    return fig, ax"
   ]
  },
  {
   "cell_type": "code",
   "execution_count": 6,
   "id": "d97e8c1b-7a66-4106-972d-551c32f94f7c",
   "metadata": {
    "tags": []
   },
   "outputs": [],
   "source": [
    "from sklearn.metrics import mean_absolute_error, mean_squared_error, r2_score, mean_absolute_percentage_error\n",
    "\n",
    "def regression_metrics_ts(ts_true, ts_pred, label=\"\", verbose=True, output_dict=False,):\n",
    "    # Get metrics\n",
    "    mae = mean_absolute_error(ts_true, ts_pred)\n",
    "    mse = mean_squared_error(ts_true, ts_pred)\n",
    "    rmse = mean_squared_error(ts_true, ts_pred, squared=False)\n",
    "    r_squared = r2_score(ts_true, ts_pred)\n",
    "    mae_perc = mean_absolute_percentage_error(ts_true, ts_pred) * 100\n",
    "\n",
    "    if verbose == True:\n",
    "        # Print Result with label\n",
    "        header = \"---\" * 20\n",
    "        print(header, f\"Regression Metrics: {label}\", header, sep=\"\\n\")\n",
    "        print(f\"- MAE = {mae:,.3f}\")\n",
    "        print(f\"- MSE = {mse:,.3f}\")\n",
    "        print(f\"- RMSE = {rmse:,.3f}\")\n",
    "        print(f\"- R^2 = {r_squared:,.3f}\")\n",
    "        print(f\"- MAPE = {mae_perc:,.2f}%\")\n",
    "\n",
    "    if output_dict == True:\n",
    "        metrics = {\n",
    "            \"Label\": label,\n",
    "            \"MAE\": mae,\n",
    "            \"MSE\": mse,\n",
    "            \"RMSE\": rmse,\n",
    "            \"R^2\": r_squared,\n",
    "            \"MAPE(%)\": mae_perc,\n",
    "        }\n",
    "        return metrics"
   ]
  },
  {
   "cell_type": "markdown",
   "id": "e31e5335-6423-42f8-85f5-2f40e92e9c28",
   "metadata": {
    "tags": []
   },
   "source": [
    "## Data"
   ]
  },
  {
   "cell_type": "code",
   "execution_count": 7,
   "id": "49ade67d-a5f8-471e-abca-e229134c8649",
   "metadata": {
    "tags": []
   },
   "outputs": [],
   "source": [
    "loan_data = pd.read_csv('/Users/marcolaureano2/Documents/GitHub/kaggle-loan-prediction/credit_risk_dataset.csv')"
   ]
  },
  {
   "cell_type": "code",
   "execution_count": 8,
   "id": "a34d506e-01ae-44f2-b668-12a340ce91bc",
   "metadata": {
    "tags": []
   },
   "outputs": [
    {
     "data": {
      "text/html": [
       "<div>\n",
       "<style scoped>\n",
       "    .dataframe tbody tr th:only-of-type {\n",
       "        vertical-align: middle;\n",
       "    }\n",
       "\n",
       "    .dataframe tbody tr th {\n",
       "        vertical-align: top;\n",
       "    }\n",
       "\n",
       "    .dataframe thead th {\n",
       "        text-align: right;\n",
       "    }\n",
       "</style>\n",
       "<table border=\"1\" class=\"dataframe\">\n",
       "  <thead>\n",
       "    <tr style=\"text-align: right;\">\n",
       "      <th></th>\n",
       "      <th>person_age</th>\n",
       "      <th>person_income</th>\n",
       "      <th>person_home_ownership</th>\n",
       "      <th>person_emp_length</th>\n",
       "      <th>loan_intent</th>\n",
       "      <th>loan_grade</th>\n",
       "      <th>loan_amnt</th>\n",
       "      <th>loan_int_rate</th>\n",
       "      <th>loan_status</th>\n",
       "      <th>loan_percent_income</th>\n",
       "      <th>cb_person_default_on_file</th>\n",
       "      <th>cb_person_cred_hist_length</th>\n",
       "    </tr>\n",
       "  </thead>\n",
       "  <tbody>\n",
       "    <tr>\n",
       "      <th>0</th>\n",
       "      <td>22</td>\n",
       "      <td>59000</td>\n",
       "      <td>RENT</td>\n",
       "      <td>123.0</td>\n",
       "      <td>PERSONAL</td>\n",
       "      <td>D</td>\n",
       "      <td>35000</td>\n",
       "      <td>16.02</td>\n",
       "      <td>1</td>\n",
       "      <td>0.59</td>\n",
       "      <td>Y</td>\n",
       "      <td>3</td>\n",
       "    </tr>\n",
       "    <tr>\n",
       "      <th>1</th>\n",
       "      <td>21</td>\n",
       "      <td>9600</td>\n",
       "      <td>OWN</td>\n",
       "      <td>5.0</td>\n",
       "      <td>EDUCATION</td>\n",
       "      <td>B</td>\n",
       "      <td>1000</td>\n",
       "      <td>11.14</td>\n",
       "      <td>0</td>\n",
       "      <td>0.10</td>\n",
       "      <td>N</td>\n",
       "      <td>2</td>\n",
       "    </tr>\n",
       "    <tr>\n",
       "      <th>2</th>\n",
       "      <td>25</td>\n",
       "      <td>9600</td>\n",
       "      <td>MORTGAGE</td>\n",
       "      <td>1.0</td>\n",
       "      <td>MEDICAL</td>\n",
       "      <td>C</td>\n",
       "      <td>5500</td>\n",
       "      <td>12.87</td>\n",
       "      <td>1</td>\n",
       "      <td>0.57</td>\n",
       "      <td>N</td>\n",
       "      <td>3</td>\n",
       "    </tr>\n",
       "    <tr>\n",
       "      <th>3</th>\n",
       "      <td>23</td>\n",
       "      <td>65500</td>\n",
       "      <td>RENT</td>\n",
       "      <td>4.0</td>\n",
       "      <td>MEDICAL</td>\n",
       "      <td>C</td>\n",
       "      <td>35000</td>\n",
       "      <td>15.23</td>\n",
       "      <td>1</td>\n",
       "      <td>0.53</td>\n",
       "      <td>N</td>\n",
       "      <td>2</td>\n",
       "    </tr>\n",
       "    <tr>\n",
       "      <th>4</th>\n",
       "      <td>24</td>\n",
       "      <td>54400</td>\n",
       "      <td>RENT</td>\n",
       "      <td>8.0</td>\n",
       "      <td>MEDICAL</td>\n",
       "      <td>C</td>\n",
       "      <td>35000</td>\n",
       "      <td>14.27</td>\n",
       "      <td>1</td>\n",
       "      <td>0.55</td>\n",
       "      <td>Y</td>\n",
       "      <td>4</td>\n",
       "    </tr>\n",
       "    <tr>\n",
       "      <th>...</th>\n",
       "      <td>...</td>\n",
       "      <td>...</td>\n",
       "      <td>...</td>\n",
       "      <td>...</td>\n",
       "      <td>...</td>\n",
       "      <td>...</td>\n",
       "      <td>...</td>\n",
       "      <td>...</td>\n",
       "      <td>...</td>\n",
       "      <td>...</td>\n",
       "      <td>...</td>\n",
       "      <td>...</td>\n",
       "    </tr>\n",
       "    <tr>\n",
       "      <th>32576</th>\n",
       "      <td>57</td>\n",
       "      <td>53000</td>\n",
       "      <td>MORTGAGE</td>\n",
       "      <td>1.0</td>\n",
       "      <td>PERSONAL</td>\n",
       "      <td>C</td>\n",
       "      <td>5800</td>\n",
       "      <td>13.16</td>\n",
       "      <td>0</td>\n",
       "      <td>0.11</td>\n",
       "      <td>N</td>\n",
       "      <td>30</td>\n",
       "    </tr>\n",
       "    <tr>\n",
       "      <th>32577</th>\n",
       "      <td>54</td>\n",
       "      <td>120000</td>\n",
       "      <td>MORTGAGE</td>\n",
       "      <td>4.0</td>\n",
       "      <td>PERSONAL</td>\n",
       "      <td>A</td>\n",
       "      <td>17625</td>\n",
       "      <td>7.49</td>\n",
       "      <td>0</td>\n",
       "      <td>0.15</td>\n",
       "      <td>N</td>\n",
       "      <td>19</td>\n",
       "    </tr>\n",
       "    <tr>\n",
       "      <th>32578</th>\n",
       "      <td>65</td>\n",
       "      <td>76000</td>\n",
       "      <td>RENT</td>\n",
       "      <td>3.0</td>\n",
       "      <td>HOMEIMPROVEMENT</td>\n",
       "      <td>B</td>\n",
       "      <td>35000</td>\n",
       "      <td>10.99</td>\n",
       "      <td>1</td>\n",
       "      <td>0.46</td>\n",
       "      <td>N</td>\n",
       "      <td>28</td>\n",
       "    </tr>\n",
       "    <tr>\n",
       "      <th>32579</th>\n",
       "      <td>56</td>\n",
       "      <td>150000</td>\n",
       "      <td>MORTGAGE</td>\n",
       "      <td>5.0</td>\n",
       "      <td>PERSONAL</td>\n",
       "      <td>B</td>\n",
       "      <td>15000</td>\n",
       "      <td>11.48</td>\n",
       "      <td>0</td>\n",
       "      <td>0.10</td>\n",
       "      <td>N</td>\n",
       "      <td>26</td>\n",
       "    </tr>\n",
       "    <tr>\n",
       "      <th>32580</th>\n",
       "      <td>66</td>\n",
       "      <td>42000</td>\n",
       "      <td>RENT</td>\n",
       "      <td>2.0</td>\n",
       "      <td>MEDICAL</td>\n",
       "      <td>B</td>\n",
       "      <td>6475</td>\n",
       "      <td>9.99</td>\n",
       "      <td>0</td>\n",
       "      <td>0.15</td>\n",
       "      <td>N</td>\n",
       "      <td>30</td>\n",
       "    </tr>\n",
       "  </tbody>\n",
       "</table>\n",
       "<p>32581 rows × 12 columns</p>\n",
       "</div>"
      ],
      "text/plain": [
       "       person_age  person_income person_home_ownership  person_emp_length  \\\n",
       "0              22          59000                  RENT              123.0   \n",
       "1              21           9600                   OWN                5.0   \n",
       "2              25           9600              MORTGAGE                1.0   \n",
       "3              23          65500                  RENT                4.0   \n",
       "4              24          54400                  RENT                8.0   \n",
       "...           ...            ...                   ...                ...   \n",
       "32576          57          53000              MORTGAGE                1.0   \n",
       "32577          54         120000              MORTGAGE                4.0   \n",
       "32578          65          76000                  RENT                3.0   \n",
       "32579          56         150000              MORTGAGE                5.0   \n",
       "32580          66          42000                  RENT                2.0   \n",
       "\n",
       "           loan_intent loan_grade  loan_amnt  loan_int_rate  loan_status  \\\n",
       "0             PERSONAL          D      35000          16.02            1   \n",
       "1            EDUCATION          B       1000          11.14            0   \n",
       "2              MEDICAL          C       5500          12.87            1   \n",
       "3              MEDICAL          C      35000          15.23            1   \n",
       "4              MEDICAL          C      35000          14.27            1   \n",
       "...                ...        ...        ...            ...          ...   \n",
       "32576         PERSONAL          C       5800          13.16            0   \n",
       "32577         PERSONAL          A      17625           7.49            0   \n",
       "32578  HOMEIMPROVEMENT          B      35000          10.99            1   \n",
       "32579         PERSONAL          B      15000          11.48            0   \n",
       "32580          MEDICAL          B       6475           9.99            0   \n",
       "\n",
       "       loan_percent_income cb_person_default_on_file  \\\n",
       "0                     0.59                         Y   \n",
       "1                     0.10                         N   \n",
       "2                     0.57                         N   \n",
       "3                     0.53                         N   \n",
       "4                     0.55                         Y   \n",
       "...                    ...                       ...   \n",
       "32576                 0.11                         N   \n",
       "32577                 0.15                         N   \n",
       "32578                 0.46                         N   \n",
       "32579                 0.10                         N   \n",
       "32580                 0.15                         N   \n",
       "\n",
       "       cb_person_cred_hist_length  \n",
       "0                               3  \n",
       "1                               2  \n",
       "2                               3  \n",
       "3                               2  \n",
       "4                               4  \n",
       "...                           ...  \n",
       "32576                          30  \n",
       "32577                          19  \n",
       "32578                          28  \n",
       "32579                          26  \n",
       "32580                          30  \n",
       "\n",
       "[32581 rows x 12 columns]"
      ]
     },
     "execution_count": 8,
     "metadata": {},
     "output_type": "execute_result"
    }
   ],
   "source": [
    "loan_data"
   ]
  },
  {
   "cell_type": "code",
   "execution_count": 9,
   "id": "574506d5-3d78-49bc-801e-591dc90960b0",
   "metadata": {
    "tags": []
   },
   "outputs": [
    {
     "data": {
      "text/html": [
       "<div>\n",
       "<style scoped>\n",
       "    .dataframe tbody tr th:only-of-type {\n",
       "        vertical-align: middle;\n",
       "    }\n",
       "\n",
       "    .dataframe tbody tr th {\n",
       "        vertical-align: top;\n",
       "    }\n",
       "\n",
       "    .dataframe thead th {\n",
       "        text-align: right;\n",
       "    }\n",
       "</style>\n",
       "<table border=\"1\" class=\"dataframe\">\n",
       "  <thead>\n",
       "    <tr style=\"text-align: right;\">\n",
       "      <th></th>\n",
       "      <th>person_age</th>\n",
       "      <th>person_income</th>\n",
       "      <th>person_home_ownership</th>\n",
       "      <th>person_emp_length</th>\n",
       "      <th>loan_intent</th>\n",
       "      <th>loan_grade</th>\n",
       "      <th>loan_amnt</th>\n",
       "      <th>loan_int_rate</th>\n",
       "      <th>loan_status</th>\n",
       "      <th>loan_percent_income</th>\n",
       "      <th>cb_person_default_on_file</th>\n",
       "      <th>cb_person_cred_hist_length</th>\n",
       "    </tr>\n",
       "  </thead>\n",
       "  <tbody>\n",
       "    <tr>\n",
       "      <th>0</th>\n",
       "      <td>22</td>\n",
       "      <td>59000</td>\n",
       "      <td>RENT</td>\n",
       "      <td>123.0</td>\n",
       "      <td>PERSONAL</td>\n",
       "      <td>D</td>\n",
       "      <td>35000</td>\n",
       "      <td>16.02</td>\n",
       "      <td>1</td>\n",
       "      <td>0.59</td>\n",
       "      <td>Y</td>\n",
       "      <td>3</td>\n",
       "    </tr>\n",
       "    <tr>\n",
       "      <th>1</th>\n",
       "      <td>21</td>\n",
       "      <td>9600</td>\n",
       "      <td>OWN</td>\n",
       "      <td>5.0</td>\n",
       "      <td>EDUCATION</td>\n",
       "      <td>B</td>\n",
       "      <td>1000</td>\n",
       "      <td>11.14</td>\n",
       "      <td>0</td>\n",
       "      <td>0.10</td>\n",
       "      <td>N</td>\n",
       "      <td>2</td>\n",
       "    </tr>\n",
       "    <tr>\n",
       "      <th>2</th>\n",
       "      <td>25</td>\n",
       "      <td>9600</td>\n",
       "      <td>MORTGAGE</td>\n",
       "      <td>1.0</td>\n",
       "      <td>MEDICAL</td>\n",
       "      <td>C</td>\n",
       "      <td>5500</td>\n",
       "      <td>12.87</td>\n",
       "      <td>1</td>\n",
       "      <td>0.57</td>\n",
       "      <td>N</td>\n",
       "      <td>3</td>\n",
       "    </tr>\n",
       "    <tr>\n",
       "      <th>3</th>\n",
       "      <td>23</td>\n",
       "      <td>65500</td>\n",
       "      <td>RENT</td>\n",
       "      <td>4.0</td>\n",
       "      <td>MEDICAL</td>\n",
       "      <td>C</td>\n",
       "      <td>35000</td>\n",
       "      <td>15.23</td>\n",
       "      <td>1</td>\n",
       "      <td>0.53</td>\n",
       "      <td>N</td>\n",
       "      <td>2</td>\n",
       "    </tr>\n",
       "    <tr>\n",
       "      <th>4</th>\n",
       "      <td>24</td>\n",
       "      <td>54400</td>\n",
       "      <td>RENT</td>\n",
       "      <td>8.0</td>\n",
       "      <td>MEDICAL</td>\n",
       "      <td>C</td>\n",
       "      <td>35000</td>\n",
       "      <td>14.27</td>\n",
       "      <td>1</td>\n",
       "      <td>0.55</td>\n",
       "      <td>Y</td>\n",
       "      <td>4</td>\n",
       "    </tr>\n",
       "  </tbody>\n",
       "</table>\n",
       "</div>"
      ],
      "text/plain": [
       "   person_age  person_income person_home_ownership  person_emp_length  \\\n",
       "0          22          59000                  RENT              123.0   \n",
       "1          21           9600                   OWN                5.0   \n",
       "2          25           9600              MORTGAGE                1.0   \n",
       "3          23          65500                  RENT                4.0   \n",
       "4          24          54400                  RENT                8.0   \n",
       "\n",
       "  loan_intent loan_grade  loan_amnt  loan_int_rate  loan_status  \\\n",
       "0    PERSONAL          D      35000          16.02            1   \n",
       "1   EDUCATION          B       1000          11.14            0   \n",
       "2     MEDICAL          C       5500          12.87            1   \n",
       "3     MEDICAL          C      35000          15.23            1   \n",
       "4     MEDICAL          C      35000          14.27            1   \n",
       "\n",
       "   loan_percent_income cb_person_default_on_file  cb_person_cred_hist_length  \n",
       "0                 0.59                         Y                           3  \n",
       "1                 0.10                         N                           2  \n",
       "2                 0.57                         N                           3  \n",
       "3                 0.53                         N                           2  \n",
       "4                 0.55                         Y                           4  "
      ]
     },
     "execution_count": 9,
     "metadata": {},
     "output_type": "execute_result"
    }
   ],
   "source": [
    "loan_data.head()"
   ]
  },
  {
   "cell_type": "code",
   "execution_count": 10,
   "id": "d002ada4-7546-4bde-9a61-5260316c0b17",
   "metadata": {
    "tags": []
   },
   "outputs": [
    {
     "data": {
      "text/html": [
       "<div>\n",
       "<style scoped>\n",
       "    .dataframe tbody tr th:only-of-type {\n",
       "        vertical-align: middle;\n",
       "    }\n",
       "\n",
       "    .dataframe tbody tr th {\n",
       "        vertical-align: top;\n",
       "    }\n",
       "\n",
       "    .dataframe thead th {\n",
       "        text-align: right;\n",
       "    }\n",
       "</style>\n",
       "<table border=\"1\" class=\"dataframe\">\n",
       "  <thead>\n",
       "    <tr style=\"text-align: right;\">\n",
       "      <th></th>\n",
       "      <th>person_age</th>\n",
       "      <th>person_income</th>\n",
       "      <th>person_home_ownership</th>\n",
       "      <th>person_emp_length</th>\n",
       "      <th>loan_intent</th>\n",
       "      <th>loan_grade</th>\n",
       "      <th>loan_amnt</th>\n",
       "      <th>loan_int_rate</th>\n",
       "      <th>loan_status</th>\n",
       "      <th>loan_percent_income</th>\n",
       "      <th>cb_person_default_on_file</th>\n",
       "      <th>cb_person_cred_hist_length</th>\n",
       "    </tr>\n",
       "  </thead>\n",
       "  <tbody>\n",
       "    <tr>\n",
       "      <th>32576</th>\n",
       "      <td>57</td>\n",
       "      <td>53000</td>\n",
       "      <td>MORTGAGE</td>\n",
       "      <td>1.0</td>\n",
       "      <td>PERSONAL</td>\n",
       "      <td>C</td>\n",
       "      <td>5800</td>\n",
       "      <td>13.16</td>\n",
       "      <td>0</td>\n",
       "      <td>0.11</td>\n",
       "      <td>N</td>\n",
       "      <td>30</td>\n",
       "    </tr>\n",
       "    <tr>\n",
       "      <th>32577</th>\n",
       "      <td>54</td>\n",
       "      <td>120000</td>\n",
       "      <td>MORTGAGE</td>\n",
       "      <td>4.0</td>\n",
       "      <td>PERSONAL</td>\n",
       "      <td>A</td>\n",
       "      <td>17625</td>\n",
       "      <td>7.49</td>\n",
       "      <td>0</td>\n",
       "      <td>0.15</td>\n",
       "      <td>N</td>\n",
       "      <td>19</td>\n",
       "    </tr>\n",
       "    <tr>\n",
       "      <th>32578</th>\n",
       "      <td>65</td>\n",
       "      <td>76000</td>\n",
       "      <td>RENT</td>\n",
       "      <td>3.0</td>\n",
       "      <td>HOMEIMPROVEMENT</td>\n",
       "      <td>B</td>\n",
       "      <td>35000</td>\n",
       "      <td>10.99</td>\n",
       "      <td>1</td>\n",
       "      <td>0.46</td>\n",
       "      <td>N</td>\n",
       "      <td>28</td>\n",
       "    </tr>\n",
       "    <tr>\n",
       "      <th>32579</th>\n",
       "      <td>56</td>\n",
       "      <td>150000</td>\n",
       "      <td>MORTGAGE</td>\n",
       "      <td>5.0</td>\n",
       "      <td>PERSONAL</td>\n",
       "      <td>B</td>\n",
       "      <td>15000</td>\n",
       "      <td>11.48</td>\n",
       "      <td>0</td>\n",
       "      <td>0.10</td>\n",
       "      <td>N</td>\n",
       "      <td>26</td>\n",
       "    </tr>\n",
       "    <tr>\n",
       "      <th>32580</th>\n",
       "      <td>66</td>\n",
       "      <td>42000</td>\n",
       "      <td>RENT</td>\n",
       "      <td>2.0</td>\n",
       "      <td>MEDICAL</td>\n",
       "      <td>B</td>\n",
       "      <td>6475</td>\n",
       "      <td>9.99</td>\n",
       "      <td>0</td>\n",
       "      <td>0.15</td>\n",
       "      <td>N</td>\n",
       "      <td>30</td>\n",
       "    </tr>\n",
       "  </tbody>\n",
       "</table>\n",
       "</div>"
      ],
      "text/plain": [
       "       person_age  person_income person_home_ownership  person_emp_length  \\\n",
       "32576          57          53000              MORTGAGE                1.0   \n",
       "32577          54         120000              MORTGAGE                4.0   \n",
       "32578          65          76000                  RENT                3.0   \n",
       "32579          56         150000              MORTGAGE                5.0   \n",
       "32580          66          42000                  RENT                2.0   \n",
       "\n",
       "           loan_intent loan_grade  loan_amnt  loan_int_rate  loan_status  \\\n",
       "32576         PERSONAL          C       5800          13.16            0   \n",
       "32577         PERSONAL          A      17625           7.49            0   \n",
       "32578  HOMEIMPROVEMENT          B      35000          10.99            1   \n",
       "32579         PERSONAL          B      15000          11.48            0   \n",
       "32580          MEDICAL          B       6475           9.99            0   \n",
       "\n",
       "       loan_percent_income cb_person_default_on_file  \\\n",
       "32576                 0.11                         N   \n",
       "32577                 0.15                         N   \n",
       "32578                 0.46                         N   \n",
       "32579                 0.10                         N   \n",
       "32580                 0.15                         N   \n",
       "\n",
       "       cb_person_cred_hist_length  \n",
       "32576                          30  \n",
       "32577                          19  \n",
       "32578                          28  \n",
       "32579                          26  \n",
       "32580                          30  "
      ]
     },
     "execution_count": 10,
     "metadata": {},
     "output_type": "execute_result"
    }
   ],
   "source": [
    "loan_data.tail()"
   ]
  },
  {
   "cell_type": "code",
   "execution_count": 11,
   "id": "ac8e323e-fba8-4d23-9cd7-35a79147d7b8",
   "metadata": {
    "tags": []
   },
   "outputs": [
    {
     "name": "stdout",
     "output_type": "stream",
     "text": [
      "<class 'pandas.core.frame.DataFrame'>\n",
      "RangeIndex: 32581 entries, 0 to 32580\n",
      "Data columns (total 12 columns):\n",
      " #   Column                      Non-Null Count  Dtype  \n",
      "---  ------                      --------------  -----  \n",
      " 0   person_age                  32581 non-null  int64  \n",
      " 1   person_income               32581 non-null  int64  \n",
      " 2   person_home_ownership       32581 non-null  object \n",
      " 3   person_emp_length           31686 non-null  float64\n",
      " 4   loan_intent                 32581 non-null  object \n",
      " 5   loan_grade                  32581 non-null  object \n",
      " 6   loan_amnt                   32581 non-null  int64  \n",
      " 7   loan_int_rate               29465 non-null  float64\n",
      " 8   loan_status                 32581 non-null  int64  \n",
      " 9   loan_percent_income         32581 non-null  float64\n",
      " 10  cb_person_default_on_file   32581 non-null  object \n",
      " 11  cb_person_cred_hist_length  32581 non-null  int64  \n",
      "dtypes: float64(3), int64(5), object(4)\n",
      "memory usage: 3.0+ MB\n"
     ]
    }
   ],
   "source": [
    "loan_data.info()"
   ]
  },
  {
   "cell_type": "code",
   "execution_count": 12,
   "id": "705894f2-2c28-4800-ba26-d42fe7d274e5",
   "metadata": {
    "tags": []
   },
   "outputs": [
    {
     "data": {
      "text/plain": [
       "person_age                       0\n",
       "person_income                    0\n",
       "person_home_ownership            0\n",
       "person_emp_length              895\n",
       "loan_intent                      0\n",
       "loan_grade                       0\n",
       "loan_amnt                        0\n",
       "loan_int_rate                 3116\n",
       "loan_status                      0\n",
       "loan_percent_income              0\n",
       "cb_person_default_on_file        0\n",
       "cb_person_cred_hist_length       0\n",
       "dtype: int64"
      ]
     },
     "execution_count": 12,
     "metadata": {},
     "output_type": "execute_result"
    }
   ],
   "source": [
    "loan_data.isna().sum()"
   ]
  },
  {
   "cell_type": "markdown",
   "id": "23f6dc4e-e881-4935-aa87-22972df4681e",
   "metadata": {},
   "source": [
    "### Variables"
   ]
  },
  {
   "cell_type": "markdown",
   "id": "c192f662-9680-4b77-9bed-86370aabaafc",
   "metadata": {},
   "source": [
    "Variables\n",
    "\n",
    "- loan_data\n",
    "- approved_loans / status_0\n",
    "- denied_loans / status_1\n",
    "- loan_test\n",
    "- loan_train"
   ]
  },
  {
   "cell_type": "markdown",
   "id": "9dce3fd3-ee90-4e91-a77b-24d88c9b9856",
   "metadata": {
    "tags": []
   },
   "source": [
    "## Inspect Columns"
   ]
  },
  {
   "cell_type": "markdown",
   "id": "a203ffd8-a620-4506-8038-56328817c164",
   "metadata": {
    "jp-MarkdownHeadingCollapsed": true,
    "tags": []
   },
   "source": [
    "### person_age"
   ]
  },
  {
   "cell_type": "code",
   "execution_count": 13,
   "id": "8870d8fc-120d-4e99-82c0-f444867c8c65",
   "metadata": {
    "tags": []
   },
   "outputs": [
    {
     "data": {
      "text/plain": [
       "array([ 22,  21,  25,  23,  24,  26, 144, 123,  20,  32,  34,  29,  33,\n",
       "        28,  35,  31,  27,  30,  36,  40,  50,  45,  37,  39,  44,  43,\n",
       "        41,  46,  38,  47,  42,  48,  49,  58,  65,  51,  53,  66,  61,\n",
       "        54,  57,  59,  62,  60,  55,  52,  64,  70,  78,  69,  56,  73,\n",
       "        63,  94,  80,  84,  76,  67])"
      ]
     },
     "execution_count": 13,
     "metadata": {},
     "output_type": "execute_result"
    }
   ],
   "source": [
    "loan_data['person_age'].unique()"
   ]
  },
  {
   "cell_type": "markdown",
   "id": "92007882-328b-4180-a4c5-c4ebcecfc34b",
   "metadata": {
    "jp-MarkdownHeadingCollapsed": true,
    "tags": []
   },
   "source": [
    "### person_income"
   ]
  },
  {
   "cell_type": "code",
   "execution_count": 14,
   "id": "2b667607-3b04-4689-ba84-7de602bcfd5d",
   "metadata": {
    "tags": []
   },
   "outputs": [
    {
     "data": {
      "text/plain": [
       "array([  59000,    9600,   65500, ...,  720000, 1900000,    4888])"
      ]
     },
     "execution_count": 14,
     "metadata": {},
     "output_type": "execute_result"
    }
   ],
   "source": [
    "loan_data['person_income'].unique()"
   ]
  },
  {
   "cell_type": "code",
   "execution_count": 15,
   "id": "767b601a-76d1-4198-b204-4f7a92b8913b",
   "metadata": {
    "tags": []
   },
   "outputs": [
    {
     "data": {
      "text/plain": [
       "4000"
      ]
     },
     "execution_count": 15,
     "metadata": {},
     "output_type": "execute_result"
    }
   ],
   "source": [
    "loan_data['person_income'].min()"
   ]
  },
  {
   "cell_type": "code",
   "execution_count": 16,
   "id": "62b5d187-fcb9-4627-a012-e7385215ee9e",
   "metadata": {
    "tags": []
   },
   "outputs": [
    {
     "data": {
      "text/plain": [
       "6000000"
      ]
     },
     "execution_count": 16,
     "metadata": {},
     "output_type": "execute_result"
    }
   ],
   "source": [
    "loan_data['person_income'].max()"
   ]
  },
  {
   "cell_type": "markdown",
   "id": "d8ed7148-6d96-4820-ae69-e28a2c683ab0",
   "metadata": {
    "jp-MarkdownHeadingCollapsed": true,
    "tags": []
   },
   "source": [
    "### person_home_ownership "
   ]
  },
  {
   "cell_type": "markdown",
   "id": "e0e40619-d6b2-4f23-8724-ff4e5d4aaac8",
   "metadata": {
    "jp-MarkdownHeadingCollapsed": true,
    "tags": []
   },
   "source": [
    "### person_emp_length"
   ]
  },
  {
   "cell_type": "code",
   "execution_count": 17,
   "id": "b0727aa8-8b95-4865-acf2-a9da18319602",
   "metadata": {
    "tags": []
   },
   "outputs": [
    {
     "data": {
      "text/plain": [
       "array([  59000,    9600,   65500, ...,  720000, 1900000,    4888])"
      ]
     },
     "execution_count": 17,
     "metadata": {},
     "output_type": "execute_result"
    }
   ],
   "source": [
    "loan_data['person_income'].unique()"
   ]
  },
  {
   "cell_type": "code",
   "execution_count": 18,
   "id": "46e14dad-3e1d-4bb4-a664-f5f4bbc40b58",
   "metadata": {
    "tags": []
   },
   "outputs": [
    {
     "data": {
      "text/plain": [
       "array(['RENT', 'OWN', 'MORTGAGE', 'OTHER'], dtype=object)"
      ]
     },
     "execution_count": 18,
     "metadata": {},
     "output_type": "execute_result"
    }
   ],
   "source": [
    "loan_data['person_home_ownership'].unique()"
   ]
  },
  {
   "cell_type": "markdown",
   "id": "2ef17290-1531-4caa-8402-38e298f547e4",
   "metadata": {
    "jp-MarkdownHeadingCollapsed": true,
    "tags": []
   },
   "source": [
    "### loan_intent"
   ]
  },
  {
   "cell_type": "code",
   "execution_count": 19,
   "id": "21abe7ba-50bc-47ef-814c-0ba0cb3a7a12",
   "metadata": {
    "tags": []
   },
   "outputs": [
    {
     "data": {
      "text/plain": [
       "array(['PERSONAL', 'EDUCATION', 'MEDICAL', 'VENTURE', 'HOMEIMPROVEMENT',\n",
       "       'DEBTCONSOLIDATION'], dtype=object)"
      ]
     },
     "execution_count": 19,
     "metadata": {},
     "output_type": "execute_result"
    }
   ],
   "source": [
    "loan_data['loan_intent'].unique()"
   ]
  },
  {
   "cell_type": "markdown",
   "id": "dbf38936-c4b9-474a-92e2-d1c5f92ed2ad",
   "metadata": {
    "jp-MarkdownHeadingCollapsed": true,
    "tags": []
   },
   "source": [
    "### loan_grade"
   ]
  },
  {
   "cell_type": "code",
   "execution_count": 20,
   "id": "50b23c93-fa3f-4d18-834f-f37cd0a5f4a5",
   "metadata": {
    "tags": []
   },
   "outputs": [
    {
     "data": {
      "text/plain": [
       "array(['D', 'B', 'C', 'A', 'E', 'F', 'G'], dtype=object)"
      ]
     },
     "execution_count": 20,
     "metadata": {},
     "output_type": "execute_result"
    }
   ],
   "source": [
    "loan_data['loan_grade'].unique()"
   ]
  },
  {
   "cell_type": "code",
   "execution_count": 21,
   "id": "08702122-ff1a-46b6-9836-6d0b7461ec95",
   "metadata": {
    "tags": []
   },
   "outputs": [
    {
     "data": {
      "text/plain": [
       "A    10777\n",
       "B    10451\n",
       "C     6458\n",
       "D     3626\n",
       "E      964\n",
       "F      241\n",
       "G       64\n",
       "Name: loan_grade, dtype: int64"
      ]
     },
     "execution_count": 21,
     "metadata": {},
     "output_type": "execute_result"
    }
   ],
   "source": [
    "loan_data['loan_grade'].value_counts()"
   ]
  },
  {
   "cell_type": "markdown",
   "id": "a15139ac-5e19-4610-a388-545ad1e44222",
   "metadata": {
    "jp-MarkdownHeadingCollapsed": true,
    "tags": []
   },
   "source": [
    "### loan_amnt"
   ]
  },
  {
   "cell_type": "code",
   "execution_count": 22,
   "id": "36e67344-0601-42ef-a533-efcf4f39e78e",
   "metadata": {
    "tags": []
   },
   "outputs": [
    {
     "data": {
      "text/plain": [
       "array([35000,  1000,  5500,  2500,  1600,  4500, 30000,  1750, 34800,\n",
       "       34000,  1500, 33950, 33000,  4575,  1400, 32500,  4000,  2000,\n",
       "       32000, 31050, 24250,  7800, 20000, 10000, 25000, 18000, 12000,\n",
       "       29100, 28000,  9600,  3000,  6100,  4200,  4750,  4800,  2700,\n",
       "       27600,  3250, 27500, 27050, 27000, 26000, 25600, 25475, 21600,\n",
       "       11900, 25300,  3650,  6000,  2400,  3600,  7500,  4950, 21000,\n",
       "       16000, 22000,  7750, 24000, 15000, 15500,  9000, 23050,  5375,\n",
       "        6250,  5000,  2100, 14000,  6200,  9950,  4475,  2600,  8000,\n",
       "        4600,  3500,  7200,  8800,  3175,  2800, 13000,  1800,  3300,\n",
       "        3200,  2275,  5600,  3625,  4375, 24750, 24500,  3900, 13750,\n",
       "       15250, 24150,  2250,  4975,  4900, 23975, 23750, 23600, 23575,\n",
       "        5400,  3375, 23400, 23000,  1200, 22750, 22500, 22400, 22250,\n",
       "        7400, 21700,  7000, 21500, 21450, 21250,  9250, 20900, 20500,\n",
       "       20400, 20375, 20050,  6400,  5650, 16600,  7125,  3550,  1275,\n",
       "        3800,  1625,  8500,  7575,  5200,  4025,  4400,  3825,  6500,\n",
       "        5875,  1550,  7350,  6700,  8300, 10625, 19900, 19800,   500,\n",
       "         700,   750, 19000, 18950, 18800, 18750, 18725, 18550,  7100,\n",
       "       18500, 18400, 18250,  1300,  5800, 18225, 18200,  1375, 17950,\n",
       "       17800, 17750, 17700,  3975, 17625, 17600, 17500, 17475, 17400,\n",
       "       17200, 17000, 16950, 16875, 16800, 16750, 16700, 16525, 16500,\n",
       "       11500, 16425, 16400, 16300, 16250, 16075, 16050, 11100,  1525,\n",
       "       10800,  7850, 11325, 14500,  5975,  1075,  1100,  1150,  3025,\n",
       "        9475,  1325,  2750,  1350,  3725,  1925,  5175,  6300,  8400,\n",
       "        1450,  9800,  1475, 14125, 12300,  9500,  5225, 12200, 10750,\n",
       "        1675,  1700,  8875,  5150,  1775,  6075,  1825,  1850,  1875,\n",
       "        1900,  1950, 11000, 14950, 14900,  7600, 14850, 14800, 13250,\n",
       "        5125,  2050,  2125,  2150,  3075,  2200,  2225,  2300,  2350,\n",
       "        6600,  6950,  2425,  2450, 13600, 13500,  9200, 13475, 13450,\n",
       "       13400, 13350, 13300, 13275, 13225, 13200, 13100, 13050, 12250,\n",
       "        7550, 11200,  1050, 11225,  8250, 11050,  2850,  2875,  2900,\n",
       "        2925,  2975, 12500, 10150,  8325,  1250, 12375,  8125,  6425,\n",
       "        9750, 14400,  5100, 10950,  6800,  9450, 22550,  6900,  8575,\n",
       "        3050,  3100,  3125,  3150,  7775, 13650,  2950, 12800,   800,\n",
       "        3325,  3350,  3400,  3450,  5775,  8700, 11625, 11300,  5250,\n",
       "        7275, 14775,  5300,  6725,  3525,  3575, 15800, 14600,  6350,\n",
       "       10900, 10875, 12400, 10775, 10700, 10600, 10500, 10450, 10400,\n",
       "       10375, 10325, 10300, 10250, 10200,  3700,  3750,  3850,  3950,\n",
       "        5550,  7675,  5700,  5325,  9875,  4350,  4450,  4300, 10850,\n",
       "        8100,  4550,  4650,  4700,  4725, 13025,  2525, 15450,  6625,\n",
       "       17050,  7975,  9700,  8200,  4850, 19200, 13975,  8675,  9350,\n",
       "        9975,  9100,  9900, 14750,  7050,  5750, 15075, 12600, 15600,\n",
       "       22800,  6650, 13800,  8475, 18900, 14300,  8975,  8950,  8900,\n",
       "        8850,  8650, 14550,  4150,  9050,  4075, 14650,  8450,  9125,\n",
       "        4325,  5950,  9925,  7375, 11700,  9225, 10075,  5275, 23500,\n",
       "        8600,  5425,  5450, 12725, 13850,  5525,  5575,  5625,  5675,\n",
       "        5825,  5850,  5900,  5925,  2550, 15750, 19500, 10525, 18650,\n",
       "       13700,  9825,  9175,  7075,  7025, 11400,  8375,  6025,  6150,\n",
       "       15825,  6225, 15200, 14100,  2650,  6975,  6325,  6375, 19750,\n",
       "        2625,  6550,  6575,  5025,  6850,  6750,  6775,  6475,  6450,\n",
       "        6825,  6875,  6925,  8525,  3775, 24200, 11075,  7150,  7175,\n",
       "        4225,  7875, 21825,  7250,  7300, 19125,  7325,  7475, 17300,\n",
       "        9575, 12875, 11425, 19725,   900, 17450, 14075, 12275, 31300,\n",
       "        7525, 15700, 11600, 14825,  7650,  7700,  7900,  7925,  7950,\n",
       "       13375, 25850, 21200, 23275, 10425, 15850,  6125,  5075,  5050,\n",
       "       12900,  9525, 29800, 21650,  8050,  8075, 23525,  8150,  8350,\n",
       "       27250,  2475,  8550,  8625,  8725,  8750,  8775,  7425,  9150,\n",
       "        9300,  9325,  9375,  9400,  9425,  9550, 29000, 12150, 19600,\n",
       "       26400, 15900,  4275,  4250, 13950,  7450,  4125,  4100,  4050,\n",
       "       11875, 18300, 31825, 11125, 16100, 29700,  6675, 15350, 10675,\n",
       "       10025, 10100, 10125,  3425, 14200, 11250, 17825, 11525, 11550,\n",
       "       11575, 11650, 11750, 11775, 11800, 11850, 11975, 25975, 14625,\n",
       "        8825, 27525, 19075, 14700, 18600,  2825,  4925, 21400,  1125,\n",
       "       20675, 16200, 12475, 18150, 12100, 12125, 13675, 12450,  2775,\n",
       "        2725,  2675,  4175, 12950, 12700, 12750, 24175, 10925, 13625,\n",
       "       13900, 25200, 12975, 14350,  3275, 14275, 20600, 23800, 29175,\n",
       "       21850,  9850, 14525, 14575, 27300, 12075, 17325,  9625, 19950,\n",
       "        4525, 22600, 19400, 20800, 15125, 12225, 15400, 18325, 15550,\n",
       "       15625, 15650, 15675, 23450, 10575, 19425, 19550, 19650,  2375,\n",
       "        2325, 31000, 30750, 29550, 28800, 14725, 22200, 24625, 23850,\n",
       "       23475, 22950, 22650, 21725, 20200,  2075,  5725, 19975, 19850,\n",
       "       19775,   725,   950, 18825, 17975, 17900, 17725, 17250, 16775,\n",
       "       16450, 14975, 13575, 13425, 13150, 13075, 10225,  3925,  5350,\n",
       "       10725, 10550, 10275,  3675, 12775,  9775,  1425, 14675,  4625,\n",
       "        4425,  4675, 12650,  4875,  1225, 17350,  9275, 10825, 10175,\n",
       "       15150,  5475, 17375, 10650,  8275, 15025,  9725,  6525, 15875,\n",
       "       10475, 27575, 10975, 12625,  8025,  7225, 10050,  4775, 20475,\n",
       "        7725,  8225, 23200, 16725, 21100, 22100,  7625, 25500, 20150,\n",
       "       18050, 23700, 19700, 15275, 11175, 11350, 11450, 11475, 19150,\n",
       "       19450,  9075, 21125, 24800, 24400, 12325, 12350,  2575, 12025,\n",
       "       14150, 17875, 11025, 14475, 26375, 13125, 27400, 14050, 28250,\n",
       "       15975, 33250,  6275, 22350, 24100, 15050, 17525, 15175, 23100,\n",
       "       11275, 13175, 19925, 32400, 30600, 31400, 27175, 24375,  8175,\n",
       "       23325, 18125,  3225, 26800, 17925, 14250, 12925, 13775, 17850,\n",
       "       20700, 11375, 15575, 15775, 19275, 29850])"
      ]
     },
     "execution_count": 22,
     "metadata": {},
     "output_type": "execute_result"
    }
   ],
   "source": [
    "loan_data['loan_amnt'].unique()"
   ]
  },
  {
   "cell_type": "markdown",
   "id": "dcd2cd41-72b9-49e9-a47f-a8dab10be757",
   "metadata": {
    "jp-MarkdownHeadingCollapsed": true,
    "tags": []
   },
   "source": [
    "### loan_int_rate"
   ]
  },
  {
   "cell_type": "code",
   "execution_count": 23,
   "id": "f41ce453-4852-4fa9-a2d5-5c1ee7e321d7",
   "metadata": {
    "tags": []
   },
   "outputs": [
    {
     "data": {
      "text/plain": [
       "array([16.02, 11.14, 12.87, 15.23, 14.27,  7.14, 12.42, 11.11,  8.9 ,\n",
       "       14.74, 10.37,  8.63,  7.9 , 18.39, 10.65, 20.25, 18.25, 10.99,\n",
       "        7.49, 16.77, 17.58,  7.29, 14.54, 12.68, 17.74,  9.32,  9.99,\n",
       "       12.84, 11.12,  6.62, 14.17, 13.85, 13.49,  7.51, 16.89,   nan,\n",
       "       17.99, 12.69,  7.88, 19.41, 10.38, 15.33, 16.45, 18.62, 15.96,\n",
       "       11.48,  5.99, 11.58, 15.7 , 15.99, 14.84, 14.42,  6.99, 13.61,\n",
       "        9.91, 13.48, 12.98, 13.57, 15.68, 13.06, 15.62, 11.71,  8.88,\n",
       "       12.18, 13.99,  5.42, 12.73, 11.49, 19.91, 11.83, 14.59,  9.64,\n",
       "       16.35, 18.67, 10.08, 10.36, 12.23, 16.07, 14.22, 14.79, 13.22,\n",
       "       11.86, 13.43, 15.28, 17.93,  9.25, 10.62, 18.43, 11.36, 15.65,\n",
       "       13.04, 17.04, 14.83, 14.65, 16.82, 10.25, 14.96, 11.99,  8.49,\n",
       "        6.17, 16.32, 14.35, 15.21, 14.09, 17.49, 13.92, 16.49,  5.79,\n",
       "       13.11,  6.54, 12.53, 15.95, 10.74, 15.27, 14.72, 13.35,  7.68,\n",
       "       14.46, 13.47,  6.03, 12.92, 18.64, 16.7 , 18.3 ,  9.63, 14.7 ,\n",
       "       15.37, 14.26,  8.  , 11.26, 19.04, 13.98, 15.58, 15.31,  9.33,\n",
       "       11.91,  8.38, 10.59, 16.  , 11.54, 12.61, 17.27, 15.05, 10.75,\n",
       "        6.39, 18.09, 19.74,  6.91, 14.93, 17.14, 11.03,  8.94, 11.46,\n",
       "        7.66, 17.56, 10.39, 16.29, 17.8 , 19.69, 15.83, 20.03, 20.16,\n",
       "       13.79, 11.89, 14.5 , 11.34,  9.62,  9.96, 18.99, 14.11, 17.19,\n",
       "        7.4 , 17.51, 14.61, 21.21, 14.91, 17.26, 10.71, 10.  , 16.95,\n",
       "       11.97, 12.99, 13.16,  9.76, 11.22, 16.69, 12.21,  7.74, 11.78,\n",
       "       11.66, 19.79,  9.88, 13.87, 17.39, 12.29, 10.83, 15.2 , 14.82,\n",
       "       14.88, 13.36,  6.76, 13.23,  9.45, 10.96, 13.72, 12.36, 11.41,\n",
       "       14.3 , 10.91, 16.63,  6.92, 10.95,  8.7 , 12.67, 12.41, 20.11,\n",
       "       14.18, 12.8 , 13.24, 12.09, 17.15, 19.47,  7.91, 10.46,  7.37,\n",
       "       11.28,  8.59, 19.03, 15.57,  8.32, 10.14, 19.29, 11.63, 12.72,\n",
       "       13.8 ,  7.12, 13.3 , 16.59, 21.27,  8.07,  9.67, 11.72, 12.22,\n",
       "       13.75,  9.38, 10.2 , 16.4 , 10.33, 12.54, 21.74,  7.43,  9.07,\n",
       "        6.  ,  9.7 , 10.01,  7.05, 10.28, 20.3 , 13.67,  7.42, 19.42,\n",
       "       21.36, 12.17,  9.83, 18.79, 14.38,  7.75, 14.75, 10.51, 13.12,\n",
       "       17.88,  9.2 , 11.59, 17.43, 13.93, 15.76, 18.21, 13.55, 15.13,\n",
       "        9.01, 16.08, 16.11, 14.12, 12.86, 19.39, 13.17, 15.45, 22.11,\n",
       "       12.62, 19.13, 12.49, 16.2 , 18.84, 16.33, 19.82, 20.89, 10.78,\n",
       "       15.88, 19.16, 20.62, 20.2 ,  9.51, 14.67, 12.12, 12.04, 15.07,\n",
       "       17.06, 13.62, 20.48, 18.53, 17.9 , 11.09, 13.84, 18.78, 15.01,\n",
       "       18.07, 17.03, 21.14, 17.46, 20.99, 21.64, 18.36, 20.17, 18.17,\n",
       "       22.06, 17.54, 17.44, 18.49, 20.86, 20.52, 15.25, 18.72, 20.9 ,\n",
       "       16.96, 15.38, 17.34, 14.62, 14.25, 14.07, 10.64, 22.48, 19.66,\n",
       "       23.22, 20.4 , 16.71, 18.54, 20.69, 16.15, 20.53])"
      ]
     },
     "execution_count": 23,
     "metadata": {},
     "output_type": "execute_result"
    }
   ],
   "source": [
    "loan_data['loan_int_rate'].unique()"
   ]
  },
  {
   "cell_type": "markdown",
   "id": "f655b5f2-04ff-4b26-93be-ad44d3a561c3",
   "metadata": {
    "jp-MarkdownHeadingCollapsed": true,
    "tags": []
   },
   "source": [
    "### loan_status "
   ]
  },
  {
   "cell_type": "code",
   "execution_count": 24,
   "id": "94d1099a-1588-4329-b191-9e5d2ab7be11",
   "metadata": {
    "tags": []
   },
   "outputs": [
    {
     "data": {
      "text/plain": [
       "array([1, 0])"
      ]
     },
     "execution_count": 24,
     "metadata": {},
     "output_type": "execute_result"
    }
   ],
   "source": [
    "loan_data['loan_status'].unique()"
   ]
  },
  {
   "cell_type": "markdown",
   "id": "9b5ff0cd-5cfa-47dd-855c-65a32f753abb",
   "metadata": {
    "jp-MarkdownHeadingCollapsed": true,
    "tags": []
   },
   "source": [
    "### loan_percent_income"
   ]
  },
  {
   "cell_type": "code",
   "execution_count": 25,
   "id": "adde8708-2128-42fd-847d-75d1da122678",
   "metadata": {
    "tags": []
   },
   "outputs": [
    {
     "data": {
      "text/plain": [
       "array([0.59, 0.1 , 0.57, 0.53, 0.55, 0.25, 0.45, 0.44, 0.42, 0.16, 0.41,\n",
       "       0.37, 0.32, 0.3 , 0.06, 0.29, 0.31, 0.22, 0.52, 0.14, 0.49, 0.13,\n",
       "       0.5 , 0.35, 0.17, 0.27, 0.33, 0.08, 0.03, 0.21, 0.63, 0.47, 0.4 ,\n",
       "       0.07, 0.38, 0.34, 0.04, 0.23, 0.15, 0.11, 0.43, 0.51, 0.02, 0.28,\n",
       "       0.26, 0.19, 0.39, 0.09, 0.05, 0.61, 0.18, 0.6 , 0.01, 0.48, 0.12,\n",
       "       0.54, 0.56, 0.46, 0.36, 0.24, 0.2 , 0.72, 0.64, 0.69, 0.77, 0.83,\n",
       "       0.65, 0.67, 0.58, 0.71, 0.68, 0.7 , 0.66, 0.  , 0.76, 0.62, 0.78])"
      ]
     },
     "execution_count": 25,
     "metadata": {},
     "output_type": "execute_result"
    }
   ],
   "source": [
    "loan_data['loan_percent_income'].unique()"
   ]
  },
  {
   "cell_type": "markdown",
   "id": "7d9ffaf5-fb5c-41be-b00b-98309b9231e7",
   "metadata": {
    "jp-MarkdownHeadingCollapsed": true,
    "tags": []
   },
   "source": [
    "### cb_person_default_on_file "
   ]
  },
  {
   "cell_type": "code",
   "execution_count": 26,
   "id": "8668ce5e-6282-4ab3-8f53-f1914b4c9538",
   "metadata": {
    "tags": []
   },
   "outputs": [
    {
     "data": {
      "text/plain": [
       "array(['Y', 'N'], dtype=object)"
      ]
     },
     "execution_count": 26,
     "metadata": {},
     "output_type": "execute_result"
    }
   ],
   "source": [
    "loan_data['cb_person_default_on_file'].unique()"
   ]
  },
  {
   "cell_type": "markdown",
   "id": "f10a404e-181e-4488-87bd-bfbd48bfe66f",
   "metadata": {
    "jp-MarkdownHeadingCollapsed": true,
    "tags": []
   },
   "source": [
    "### cb_person_cred_hist_length"
   ]
  },
  {
   "cell_type": "code",
   "execution_count": 27,
   "id": "04dc7f63-e586-431e-bee8-786cd8c8bd31",
   "metadata": {
    "tags": []
   },
   "outputs": [
    {
     "data": {
      "text/plain": [
       "array([ 3,  2,  4,  8,  7,  6,  9, 10,  5, 11, 16, 15, 12, 13, 17, 14, 25,\n",
       "       28, 27, 22, 19, 29, 23, 26, 20, 21, 30, 24, 18])"
      ]
     },
     "execution_count": 27,
     "metadata": {},
     "output_type": "execute_result"
    }
   ],
   "source": [
    "loan_data['cb_person_cred_hist_length'].unique()"
   ]
  },
  {
   "cell_type": "markdown",
   "id": "41870818-e386-4ad1-9b48-f420c9a1b1d0",
   "metadata": {
    "tags": []
   },
   "source": [
    "## EDA"
   ]
  },
  {
   "cell_type": "markdown",
   "id": "f347ab37-d4c6-4ead-985c-d36332093134",
   "metadata": {
    "tags": []
   },
   "source": [
    "### Loan approval vs denial"
   ]
  },
  {
   "cell_type": "code",
   "execution_count": 28,
   "id": "ab5657bb-d9e2-4fdb-a6e0-b8a469db111c",
   "metadata": {
    "tags": []
   },
   "outputs": [
    {
     "data": {
      "text/html": [
       "<div>\n",
       "<style scoped>\n",
       "    .dataframe tbody tr th:only-of-type {\n",
       "        vertical-align: middle;\n",
       "    }\n",
       "\n",
       "    .dataframe tbody tr th {\n",
       "        vertical-align: top;\n",
       "    }\n",
       "\n",
       "    .dataframe thead th {\n",
       "        text-align: right;\n",
       "    }\n",
       "</style>\n",
       "<table border=\"1\" class=\"dataframe\">\n",
       "  <thead>\n",
       "    <tr style=\"text-align: right;\">\n",
       "      <th></th>\n",
       "      <th>person_age</th>\n",
       "      <th>person_income</th>\n",
       "      <th>person_home_ownership</th>\n",
       "      <th>person_emp_length</th>\n",
       "      <th>loan_intent</th>\n",
       "      <th>loan_grade</th>\n",
       "      <th>loan_amnt</th>\n",
       "      <th>loan_int_rate</th>\n",
       "      <th>loan_percent_income</th>\n",
       "      <th>cb_person_default_on_file</th>\n",
       "      <th>cb_person_cred_hist_length</th>\n",
       "    </tr>\n",
       "    <tr>\n",
       "      <th>loan_status</th>\n",
       "      <th></th>\n",
       "      <th></th>\n",
       "      <th></th>\n",
       "      <th></th>\n",
       "      <th></th>\n",
       "      <th></th>\n",
       "      <th></th>\n",
       "      <th></th>\n",
       "      <th></th>\n",
       "      <th></th>\n",
       "      <th></th>\n",
       "    </tr>\n",
       "  </thead>\n",
       "  <tbody>\n",
       "    <tr>\n",
       "      <th>0</th>\n",
       "      <td>25473</td>\n",
       "      <td>25473</td>\n",
       "      <td>25473</td>\n",
       "      <td>24860</td>\n",
       "      <td>25473</td>\n",
       "      <td>25473</td>\n",
       "      <td>25473</td>\n",
       "      <td>23001</td>\n",
       "      <td>25473</td>\n",
       "      <td>25473</td>\n",
       "      <td>25473</td>\n",
       "    </tr>\n",
       "    <tr>\n",
       "      <th>1</th>\n",
       "      <td>7108</td>\n",
       "      <td>7108</td>\n",
       "      <td>7108</td>\n",
       "      <td>6826</td>\n",
       "      <td>7108</td>\n",
       "      <td>7108</td>\n",
       "      <td>7108</td>\n",
       "      <td>6464</td>\n",
       "      <td>7108</td>\n",
       "      <td>7108</td>\n",
       "      <td>7108</td>\n",
       "    </tr>\n",
       "  </tbody>\n",
       "</table>\n",
       "</div>"
      ],
      "text/plain": [
       "             person_age  person_income  person_home_ownership  \\\n",
       "loan_status                                                     \n",
       "0                 25473          25473                  25473   \n",
       "1                  7108           7108                   7108   \n",
       "\n",
       "             person_emp_length  loan_intent  loan_grade  loan_amnt  \\\n",
       "loan_status                                                          \n",
       "0                        24860        25473       25473      25473   \n",
       "1                         6826         7108        7108       7108   \n",
       "\n",
       "             loan_int_rate  loan_percent_income  cb_person_default_on_file  \\\n",
       "loan_status                                                                  \n",
       "0                    23001                25473                      25473   \n",
       "1                     6464                 7108                       7108   \n",
       "\n",
       "             cb_person_cred_hist_length  \n",
       "loan_status                              \n",
       "0                                 25473  \n",
       "1                                  7108  "
      ]
     },
     "execution_count": 28,
     "metadata": {},
     "output_type": "execute_result"
    }
   ],
   "source": [
    "# separate data by loan status in order to figure out which are approved and which are not\n",
    "loan_data.groupby(['loan_status']).count()"
   ]
  },
  {
   "cell_type": "markdown",
   "id": "aad3b3e0-4ed0-4507-ad7a-eed6e07146e8",
   "metadata": {
    "tags": []
   },
   "source": [
    "#### status 1"
   ]
  },
  {
   "cell_type": "code",
   "execution_count": 29,
   "id": "cf412b5b-2725-4348-a448-8233e0f6b1fb",
   "metadata": {
    "tags": []
   },
   "outputs": [
    {
     "data": {
      "text/html": [
       "<div>\n",
       "<style scoped>\n",
       "    .dataframe tbody tr th:only-of-type {\n",
       "        vertical-align: middle;\n",
       "    }\n",
       "\n",
       "    .dataframe tbody tr th {\n",
       "        vertical-align: top;\n",
       "    }\n",
       "\n",
       "    .dataframe thead th {\n",
       "        text-align: right;\n",
       "    }\n",
       "</style>\n",
       "<table border=\"1\" class=\"dataframe\">\n",
       "  <thead>\n",
       "    <tr style=\"text-align: right;\">\n",
       "      <th></th>\n",
       "      <th>person_age</th>\n",
       "      <th>person_income</th>\n",
       "      <th>person_home_ownership</th>\n",
       "      <th>person_emp_length</th>\n",
       "      <th>loan_intent</th>\n",
       "      <th>loan_grade</th>\n",
       "      <th>loan_amnt</th>\n",
       "      <th>loan_int_rate</th>\n",
       "      <th>loan_status</th>\n",
       "      <th>loan_percent_income</th>\n",
       "      <th>cb_person_default_on_file</th>\n",
       "      <th>cb_person_cred_hist_length</th>\n",
       "    </tr>\n",
       "  </thead>\n",
       "  <tbody>\n",
       "    <tr>\n",
       "      <th>0</th>\n",
       "      <td>22</td>\n",
       "      <td>59000</td>\n",
       "      <td>RENT</td>\n",
       "      <td>123.0</td>\n",
       "      <td>PERSONAL</td>\n",
       "      <td>D</td>\n",
       "      <td>35000</td>\n",
       "      <td>16.02</td>\n",
       "      <td>1</td>\n",
       "      <td>0.59</td>\n",
       "      <td>Y</td>\n",
       "      <td>3</td>\n",
       "    </tr>\n",
       "    <tr>\n",
       "      <th>2</th>\n",
       "      <td>25</td>\n",
       "      <td>9600</td>\n",
       "      <td>MORTGAGE</td>\n",
       "      <td>1.0</td>\n",
       "      <td>MEDICAL</td>\n",
       "      <td>C</td>\n",
       "      <td>5500</td>\n",
       "      <td>12.87</td>\n",
       "      <td>1</td>\n",
       "      <td>0.57</td>\n",
       "      <td>N</td>\n",
       "      <td>3</td>\n",
       "    </tr>\n",
       "    <tr>\n",
       "      <th>3</th>\n",
       "      <td>23</td>\n",
       "      <td>65500</td>\n",
       "      <td>RENT</td>\n",
       "      <td>4.0</td>\n",
       "      <td>MEDICAL</td>\n",
       "      <td>C</td>\n",
       "      <td>35000</td>\n",
       "      <td>15.23</td>\n",
       "      <td>1</td>\n",
       "      <td>0.53</td>\n",
       "      <td>N</td>\n",
       "      <td>2</td>\n",
       "    </tr>\n",
       "    <tr>\n",
       "      <th>4</th>\n",
       "      <td>24</td>\n",
       "      <td>54400</td>\n",
       "      <td>RENT</td>\n",
       "      <td>8.0</td>\n",
       "      <td>MEDICAL</td>\n",
       "      <td>C</td>\n",
       "      <td>35000</td>\n",
       "      <td>14.27</td>\n",
       "      <td>1</td>\n",
       "      <td>0.55</td>\n",
       "      <td>Y</td>\n",
       "      <td>4</td>\n",
       "    </tr>\n",
       "    <tr>\n",
       "      <th>5</th>\n",
       "      <td>21</td>\n",
       "      <td>9900</td>\n",
       "      <td>OWN</td>\n",
       "      <td>2.0</td>\n",
       "      <td>VENTURE</td>\n",
       "      <td>A</td>\n",
       "      <td>2500</td>\n",
       "      <td>7.14</td>\n",
       "      <td>1</td>\n",
       "      <td>0.25</td>\n",
       "      <td>N</td>\n",
       "      <td>2</td>\n",
       "    </tr>\n",
       "    <tr>\n",
       "      <th>...</th>\n",
       "      <td>...</td>\n",
       "      <td>...</td>\n",
       "      <td>...</td>\n",
       "      <td>...</td>\n",
       "      <td>...</td>\n",
       "      <td>...</td>\n",
       "      <td>...</td>\n",
       "      <td>...</td>\n",
       "      <td>...</td>\n",
       "      <td>...</td>\n",
       "      <td>...</td>\n",
       "      <td>...</td>\n",
       "    </tr>\n",
       "    <tr>\n",
       "      <th>32563</th>\n",
       "      <td>52</td>\n",
       "      <td>71520</td>\n",
       "      <td>RENT</td>\n",
       "      <td>0.0</td>\n",
       "      <td>EDUCATION</td>\n",
       "      <td>E</td>\n",
       "      <td>7000</td>\n",
       "      <td>16.82</td>\n",
       "      <td>1</td>\n",
       "      <td>0.10</td>\n",
       "      <td>Y</td>\n",
       "      <td>24</td>\n",
       "    </tr>\n",
       "    <tr>\n",
       "      <th>32565</th>\n",
       "      <td>57</td>\n",
       "      <td>40000</td>\n",
       "      <td>RENT</td>\n",
       "      <td>1.0</td>\n",
       "      <td>MEDICAL</td>\n",
       "      <td>A</td>\n",
       "      <td>15000</td>\n",
       "      <td>8.90</td>\n",
       "      <td>1</td>\n",
       "      <td>0.38</td>\n",
       "      <td>N</td>\n",
       "      <td>21</td>\n",
       "    </tr>\n",
       "    <tr>\n",
       "      <th>32571</th>\n",
       "      <td>60</td>\n",
       "      <td>45600</td>\n",
       "      <td>RENT</td>\n",
       "      <td>1.0</td>\n",
       "      <td>VENTURE</td>\n",
       "      <td>B</td>\n",
       "      <td>20000</td>\n",
       "      <td>10.00</td>\n",
       "      <td>1</td>\n",
       "      <td>0.44</td>\n",
       "      <td>N</td>\n",
       "      <td>26</td>\n",
       "    </tr>\n",
       "    <tr>\n",
       "      <th>32574</th>\n",
       "      <td>52</td>\n",
       "      <td>65004</td>\n",
       "      <td>RENT</td>\n",
       "      <td>4.0</td>\n",
       "      <td>PERSONAL</td>\n",
       "      <td>D</td>\n",
       "      <td>20000</td>\n",
       "      <td>15.58</td>\n",
       "      <td>1</td>\n",
       "      <td>0.31</td>\n",
       "      <td>Y</td>\n",
       "      <td>19</td>\n",
       "    </tr>\n",
       "    <tr>\n",
       "      <th>32578</th>\n",
       "      <td>65</td>\n",
       "      <td>76000</td>\n",
       "      <td>RENT</td>\n",
       "      <td>3.0</td>\n",
       "      <td>HOMEIMPROVEMENT</td>\n",
       "      <td>B</td>\n",
       "      <td>35000</td>\n",
       "      <td>10.99</td>\n",
       "      <td>1</td>\n",
       "      <td>0.46</td>\n",
       "      <td>N</td>\n",
       "      <td>28</td>\n",
       "    </tr>\n",
       "  </tbody>\n",
       "</table>\n",
       "<p>7108 rows × 12 columns</p>\n",
       "</div>"
      ],
      "text/plain": [
       "       person_age  person_income person_home_ownership  person_emp_length  \\\n",
       "0              22          59000                  RENT              123.0   \n",
       "2              25           9600              MORTGAGE                1.0   \n",
       "3              23          65500                  RENT                4.0   \n",
       "4              24          54400                  RENT                8.0   \n",
       "5              21           9900                   OWN                2.0   \n",
       "...           ...            ...                   ...                ...   \n",
       "32563          52          71520                  RENT                0.0   \n",
       "32565          57          40000                  RENT                1.0   \n",
       "32571          60          45600                  RENT                1.0   \n",
       "32574          52          65004                  RENT                4.0   \n",
       "32578          65          76000                  RENT                3.0   \n",
       "\n",
       "           loan_intent loan_grade  loan_amnt  loan_int_rate  loan_status  \\\n",
       "0             PERSONAL          D      35000          16.02            1   \n",
       "2              MEDICAL          C       5500          12.87            1   \n",
       "3              MEDICAL          C      35000          15.23            1   \n",
       "4              MEDICAL          C      35000          14.27            1   \n",
       "5              VENTURE          A       2500           7.14            1   \n",
       "...                ...        ...        ...            ...          ...   \n",
       "32563        EDUCATION          E       7000          16.82            1   \n",
       "32565          MEDICAL          A      15000           8.90            1   \n",
       "32571          VENTURE          B      20000          10.00            1   \n",
       "32574         PERSONAL          D      20000          15.58            1   \n",
       "32578  HOMEIMPROVEMENT          B      35000          10.99            1   \n",
       "\n",
       "       loan_percent_income cb_person_default_on_file  \\\n",
       "0                     0.59                         Y   \n",
       "2                     0.57                         N   \n",
       "3                     0.53                         N   \n",
       "4                     0.55                         Y   \n",
       "5                     0.25                         N   \n",
       "...                    ...                       ...   \n",
       "32563                 0.10                         Y   \n",
       "32565                 0.38                         N   \n",
       "32571                 0.44                         N   \n",
       "32574                 0.31                         Y   \n",
       "32578                 0.46                         N   \n",
       "\n",
       "       cb_person_cred_hist_length  \n",
       "0                               3  \n",
       "2                               3  \n",
       "3                               2  \n",
       "4                               4  \n",
       "5                               2  \n",
       "...                           ...  \n",
       "32563                          24  \n",
       "32565                          21  \n",
       "32571                          26  \n",
       "32574                          19  \n",
       "32578                          28  \n",
       "\n",
       "[7108 rows x 12 columns]"
      ]
     },
     "execution_count": 29,
     "metadata": {},
     "output_type": "execute_result"
    }
   ],
   "source": [
    "status_1 = loan_data.loc[loan_data['loan_status'] > 0]\n",
    "status_1"
   ]
  },
  {
   "cell_type": "code",
   "execution_count": 30,
   "id": "9902264a-1cb4-4c16-9b69-b5601da52e66",
   "metadata": {
    "tags": []
   },
   "outputs": [
    {
     "data": {
      "text/plain": [
       "array(['D', 'C', 'A', 'B', 'E', 'F', 'G'], dtype=object)"
      ]
     },
     "execution_count": 30,
     "metadata": {},
     "output_type": "execute_result"
    }
   ],
   "source": [
    "status_1['loan_grade'].unique()"
   ]
  },
  {
   "cell_type": "code",
   "execution_count": 31,
   "id": "1d6adc20-3d62-44fd-bb51-5907742e3e89",
   "metadata": {
    "tags": []
   },
   "outputs": [
    {
     "data": {
      "text/plain": [
       "D    2141\n",
       "B    1701\n",
       "C    1339\n",
       "A    1073\n",
       "E     621\n",
       "F     170\n",
       "G      63\n",
       "Name: loan_grade, dtype: int64"
      ]
     },
     "execution_count": 31,
     "metadata": {},
     "output_type": "execute_result"
    }
   ],
   "source": [
    "status_1['loan_grade'].value_counts()"
   ]
  },
  {
   "cell_type": "code",
   "execution_count": 32,
   "id": "0117f794-f5b7-4b9a-8722-8df370acc4ae",
   "metadata": {
    "tags": []
   },
   "outputs": [
    {
     "data": {
      "text/plain": [
       "N    4936\n",
       "Y    2172\n",
       "Name: cb_person_default_on_file, dtype: int64"
      ]
     },
     "execution_count": 32,
     "metadata": {},
     "output_type": "execute_result"
    }
   ],
   "source": [
    "status_1['cb_person_default_on_file'].value_counts()"
   ]
  },
  {
   "cell_type": "code",
   "execution_count": 33,
   "id": "871da685-87c7-4101-bfb1-c0cfacda7b7c",
   "metadata": {
    "tags": []
   },
   "outputs": [
    {
     "data": {
      "text/plain": [
       "4000"
      ]
     },
     "execution_count": 33,
     "metadata": {},
     "output_type": "execute_result"
    }
   ],
   "source": [
    "status_1['person_income'].min()"
   ]
  },
  {
   "cell_type": "code",
   "execution_count": 34,
   "id": "e2088037-05ba-4246-9437-029f66848b7d",
   "metadata": {
    "tags": []
   },
   "outputs": [
    {
     "data": {
      "text/plain": [
       "703800"
      ]
     },
     "execution_count": 34,
     "metadata": {},
     "output_type": "execute_result"
    }
   ],
   "source": [
    "status_1['person_income'].max()"
   ]
  },
  {
   "cell_type": "code",
   "execution_count": 35,
   "id": "acce1ef6-91a8-460f-b07d-fe461030d59f",
   "metadata": {
    "tags": []
   },
   "outputs": [
    {
     "data": {
      "text/plain": [
       "RENT        5192\n",
       "MORTGAGE    1690\n",
       "OWN          193\n",
       "OTHER         33\n",
       "Name: person_home_ownership, dtype: int64"
      ]
     },
     "execution_count": 35,
     "metadata": {},
     "output_type": "execute_result"
    }
   ],
   "source": [
    "status_1['person_home_ownership'].value_counts()"
   ]
  },
  {
   "cell_type": "markdown",
   "id": "42e11928-af22-4efe-bcd6-db907a7b45d8",
   "metadata": {
    "tags": []
   },
   "source": [
    "#### Status 0"
   ]
  },
  {
   "cell_type": "code",
   "execution_count": 36,
   "id": "98267f40-d8a2-4a2a-8d4b-88340163acae",
   "metadata": {
    "tags": []
   },
   "outputs": [
    {
     "data": {
      "text/html": [
       "<div>\n",
       "<style scoped>\n",
       "    .dataframe tbody tr th:only-of-type {\n",
       "        vertical-align: middle;\n",
       "    }\n",
       "\n",
       "    .dataframe tbody tr th {\n",
       "        vertical-align: top;\n",
       "    }\n",
       "\n",
       "    .dataframe thead th {\n",
       "        text-align: right;\n",
       "    }\n",
       "</style>\n",
       "<table border=\"1\" class=\"dataframe\">\n",
       "  <thead>\n",
       "    <tr style=\"text-align: right;\">\n",
       "      <th></th>\n",
       "      <th>person_age</th>\n",
       "      <th>person_income</th>\n",
       "      <th>person_home_ownership</th>\n",
       "      <th>person_emp_length</th>\n",
       "      <th>loan_intent</th>\n",
       "      <th>loan_grade</th>\n",
       "      <th>loan_amnt</th>\n",
       "      <th>loan_int_rate</th>\n",
       "      <th>loan_status</th>\n",
       "      <th>loan_percent_income</th>\n",
       "      <th>cb_person_default_on_file</th>\n",
       "      <th>cb_person_cred_hist_length</th>\n",
       "    </tr>\n",
       "  </thead>\n",
       "  <tbody>\n",
       "    <tr>\n",
       "      <th>1</th>\n",
       "      <td>21</td>\n",
       "      <td>9600</td>\n",
       "      <td>OWN</td>\n",
       "      <td>5.0</td>\n",
       "      <td>EDUCATION</td>\n",
       "      <td>B</td>\n",
       "      <td>1000</td>\n",
       "      <td>11.14</td>\n",
       "      <td>0</td>\n",
       "      <td>0.10</td>\n",
       "      <td>N</td>\n",
       "      <td>2</td>\n",
       "    </tr>\n",
       "    <tr>\n",
       "      <th>14</th>\n",
       "      <td>23</td>\n",
       "      <td>115000</td>\n",
       "      <td>RENT</td>\n",
       "      <td>2.0</td>\n",
       "      <td>EDUCATION</td>\n",
       "      <td>A</td>\n",
       "      <td>35000</td>\n",
       "      <td>7.90</td>\n",
       "      <td>0</td>\n",
       "      <td>0.30</td>\n",
       "      <td>N</td>\n",
       "      <td>4</td>\n",
       "    </tr>\n",
       "    <tr>\n",
       "      <th>15</th>\n",
       "      <td>23</td>\n",
       "      <td>500000</td>\n",
       "      <td>MORTGAGE</td>\n",
       "      <td>7.0</td>\n",
       "      <td>DEBTCONSOLIDATION</td>\n",
       "      <td>B</td>\n",
       "      <td>30000</td>\n",
       "      <td>10.65</td>\n",
       "      <td>0</td>\n",
       "      <td>0.06</td>\n",
       "      <td>N</td>\n",
       "      <td>3</td>\n",
       "    </tr>\n",
       "    <tr>\n",
       "      <th>16</th>\n",
       "      <td>23</td>\n",
       "      <td>120000</td>\n",
       "      <td>RENT</td>\n",
       "      <td>0.0</td>\n",
       "      <td>EDUCATION</td>\n",
       "      <td>A</td>\n",
       "      <td>35000</td>\n",
       "      <td>7.90</td>\n",
       "      <td>0</td>\n",
       "      <td>0.29</td>\n",
       "      <td>N</td>\n",
       "      <td>4</td>\n",
       "    </tr>\n",
       "    <tr>\n",
       "      <th>20</th>\n",
       "      <td>25</td>\n",
       "      <td>162500</td>\n",
       "      <td>RENT</td>\n",
       "      <td>2.0</td>\n",
       "      <td>VENTURE</td>\n",
       "      <td>A</td>\n",
       "      <td>35000</td>\n",
       "      <td>7.49</td>\n",
       "      <td>0</td>\n",
       "      <td>0.22</td>\n",
       "      <td>N</td>\n",
       "      <td>4</td>\n",
       "    </tr>\n",
       "    <tr>\n",
       "      <th>...</th>\n",
       "      <td>...</td>\n",
       "      <td>...</td>\n",
       "      <td>...</td>\n",
       "      <td>...</td>\n",
       "      <td>...</td>\n",
       "      <td>...</td>\n",
       "      <td>...</td>\n",
       "      <td>...</td>\n",
       "      <td>...</td>\n",
       "      <td>...</td>\n",
       "      <td>...</td>\n",
       "      <td>...</td>\n",
       "    </tr>\n",
       "    <tr>\n",
       "      <th>32575</th>\n",
       "      <td>52</td>\n",
       "      <td>64500</td>\n",
       "      <td>RENT</td>\n",
       "      <td>0.0</td>\n",
       "      <td>EDUCATION</td>\n",
       "      <td>B</td>\n",
       "      <td>5000</td>\n",
       "      <td>11.26</td>\n",
       "      <td>0</td>\n",
       "      <td>0.08</td>\n",
       "      <td>N</td>\n",
       "      <td>20</td>\n",
       "    </tr>\n",
       "    <tr>\n",
       "      <th>32576</th>\n",
       "      <td>57</td>\n",
       "      <td>53000</td>\n",
       "      <td>MORTGAGE</td>\n",
       "      <td>1.0</td>\n",
       "      <td>PERSONAL</td>\n",
       "      <td>C</td>\n",
       "      <td>5800</td>\n",
       "      <td>13.16</td>\n",
       "      <td>0</td>\n",
       "      <td>0.11</td>\n",
       "      <td>N</td>\n",
       "      <td>30</td>\n",
       "    </tr>\n",
       "    <tr>\n",
       "      <th>32577</th>\n",
       "      <td>54</td>\n",
       "      <td>120000</td>\n",
       "      <td>MORTGAGE</td>\n",
       "      <td>4.0</td>\n",
       "      <td>PERSONAL</td>\n",
       "      <td>A</td>\n",
       "      <td>17625</td>\n",
       "      <td>7.49</td>\n",
       "      <td>0</td>\n",
       "      <td>0.15</td>\n",
       "      <td>N</td>\n",
       "      <td>19</td>\n",
       "    </tr>\n",
       "    <tr>\n",
       "      <th>32579</th>\n",
       "      <td>56</td>\n",
       "      <td>150000</td>\n",
       "      <td>MORTGAGE</td>\n",
       "      <td>5.0</td>\n",
       "      <td>PERSONAL</td>\n",
       "      <td>B</td>\n",
       "      <td>15000</td>\n",
       "      <td>11.48</td>\n",
       "      <td>0</td>\n",
       "      <td>0.10</td>\n",
       "      <td>N</td>\n",
       "      <td>26</td>\n",
       "    </tr>\n",
       "    <tr>\n",
       "      <th>32580</th>\n",
       "      <td>66</td>\n",
       "      <td>42000</td>\n",
       "      <td>RENT</td>\n",
       "      <td>2.0</td>\n",
       "      <td>MEDICAL</td>\n",
       "      <td>B</td>\n",
       "      <td>6475</td>\n",
       "      <td>9.99</td>\n",
       "      <td>0</td>\n",
       "      <td>0.15</td>\n",
       "      <td>N</td>\n",
       "      <td>30</td>\n",
       "    </tr>\n",
       "  </tbody>\n",
       "</table>\n",
       "<p>25473 rows × 12 columns</p>\n",
       "</div>"
      ],
      "text/plain": [
       "       person_age  person_income person_home_ownership  person_emp_length  \\\n",
       "1              21           9600                   OWN                5.0   \n",
       "14             23         115000                  RENT                2.0   \n",
       "15             23         500000              MORTGAGE                7.0   \n",
       "16             23         120000                  RENT                0.0   \n",
       "20             25         162500                  RENT                2.0   \n",
       "...           ...            ...                   ...                ...   \n",
       "32575          52          64500                  RENT                0.0   \n",
       "32576          57          53000              MORTGAGE                1.0   \n",
       "32577          54         120000              MORTGAGE                4.0   \n",
       "32579          56         150000              MORTGAGE                5.0   \n",
       "32580          66          42000                  RENT                2.0   \n",
       "\n",
       "             loan_intent loan_grade  loan_amnt  loan_int_rate  loan_status  \\\n",
       "1              EDUCATION          B       1000          11.14            0   \n",
       "14             EDUCATION          A      35000           7.90            0   \n",
       "15     DEBTCONSOLIDATION          B      30000          10.65            0   \n",
       "16             EDUCATION          A      35000           7.90            0   \n",
       "20               VENTURE          A      35000           7.49            0   \n",
       "...                  ...        ...        ...            ...          ...   \n",
       "32575          EDUCATION          B       5000          11.26            0   \n",
       "32576           PERSONAL          C       5800          13.16            0   \n",
       "32577           PERSONAL          A      17625           7.49            0   \n",
       "32579           PERSONAL          B      15000          11.48            0   \n",
       "32580            MEDICAL          B       6475           9.99            0   \n",
       "\n",
       "       loan_percent_income cb_person_default_on_file  \\\n",
       "1                     0.10                         N   \n",
       "14                    0.30                         N   \n",
       "15                    0.06                         N   \n",
       "16                    0.29                         N   \n",
       "20                    0.22                         N   \n",
       "...                    ...                       ...   \n",
       "32575                 0.08                         N   \n",
       "32576                 0.11                         N   \n",
       "32577                 0.15                         N   \n",
       "32579                 0.10                         N   \n",
       "32580                 0.15                         N   \n",
       "\n",
       "       cb_person_cred_hist_length  \n",
       "1                               2  \n",
       "14                              4  \n",
       "15                              3  \n",
       "16                              4  \n",
       "20                              4  \n",
       "...                           ...  \n",
       "32575                          20  \n",
       "32576                          30  \n",
       "32577                          19  \n",
       "32579                          26  \n",
       "32580                          30  \n",
       "\n",
       "[25473 rows x 12 columns]"
      ]
     },
     "execution_count": 36,
     "metadata": {},
     "output_type": "execute_result"
    }
   ],
   "source": [
    "status_0 = loan_data.loc[loan_data['loan_status'] < 1]\n",
    "status_0"
   ]
  },
  {
   "cell_type": "code",
   "execution_count": 37,
   "id": "cb78a91f-3ae7-4f85-afd1-86db08a07e8a",
   "metadata": {
    "tags": []
   },
   "outputs": [
    {
     "data": {
      "text/plain": [
       "array(['B', 'A', 'E', 'C', 'F', 'D', 'G'], dtype=object)"
      ]
     },
     "execution_count": 37,
     "metadata": {},
     "output_type": "execute_result"
    }
   ],
   "source": [
    "status_0['loan_grade'].unique()"
   ]
  },
  {
   "cell_type": "code",
   "execution_count": 38,
   "id": "23f48bde-eead-4f1d-85bc-63174a99c565",
   "metadata": {
    "tags": []
   },
   "outputs": [
    {
     "data": {
      "text/plain": [
       "A    9704\n",
       "B    8750\n",
       "C    5119\n",
       "D    1485\n",
       "E     343\n",
       "F      71\n",
       "G       1\n",
       "Name: loan_grade, dtype: int64"
      ]
     },
     "execution_count": 38,
     "metadata": {},
     "output_type": "execute_result"
    }
   ],
   "source": [
    "status_0['loan_grade'].value_counts()"
   ]
  },
  {
   "cell_type": "code",
   "execution_count": 39,
   "id": "e91b39d2-509c-4cd3-b875-0d9a7fec12f2",
   "metadata": {
    "tags": []
   },
   "outputs": [
    {
     "data": {
      "text/plain": [
       "N    21900\n",
       "Y     3573\n",
       "Name: cb_person_default_on_file, dtype: int64"
      ]
     },
     "execution_count": 39,
     "metadata": {},
     "output_type": "execute_result"
    }
   ],
   "source": [
    "status_0['cb_person_default_on_file'].value_counts()"
   ]
  },
  {
   "cell_type": "code",
   "execution_count": 40,
   "id": "8e4e3e59-fc61-4920-9db6-c983b54ec01f",
   "metadata": {
    "tags": []
   },
   "outputs": [
    {
     "data": {
      "text/plain": [
       "7000"
      ]
     },
     "execution_count": 40,
     "metadata": {},
     "output_type": "execute_result"
    }
   ],
   "source": [
    "status_0['person_income'].min()"
   ]
  },
  {
   "cell_type": "code",
   "execution_count": 41,
   "id": "594541b3-4f6d-4e5e-8fc9-ba99f3920552",
   "metadata": {
    "tags": []
   },
   "outputs": [
    {
     "data": {
      "text/plain": [
       "6000000"
      ]
     },
     "execution_count": 41,
     "metadata": {},
     "output_type": "execute_result"
    }
   ],
   "source": [
    "status_0['person_income'].max()"
   ]
  },
  {
   "cell_type": "code",
   "execution_count": 42,
   "id": "24ad1828-b48d-4e47-bc26-fa8f918083c4",
   "metadata": {
    "tags": []
   },
   "outputs": [
    {
     "data": {
      "text/plain": [
       "MORTGAGE    11754\n",
       "RENT        11254\n",
       "OWN          2391\n",
       "OTHER          74\n",
       "Name: person_home_ownership, dtype: int64"
      ]
     },
     "execution_count": 42,
     "metadata": {},
     "output_type": "execute_result"
    }
   ],
   "source": [
    "status_0['person_home_ownership'].value_counts()"
   ]
  },
  {
   "cell_type": "markdown",
   "id": "cceff2e2-fc13-43ba-8c66-bf881af5697a",
   "metadata": {
    "tags": []
   },
   "source": [
    "#### results"
   ]
  },
  {
   "cell_type": "code",
   "execution_count": 43,
   "id": "d3abbe1e-ce47-473d-a530-cf51077e268e",
   "metadata": {
    "tags": []
   },
   "outputs": [],
   "source": [
    "# based off of these findings, it can be concluded that status_1 is a denied loan & status_0 is an approved loan"
   ]
  },
  {
   "cell_type": "code",
   "execution_count": 44,
   "id": "b05975ee-b6e7-4e0c-909a-950a729a33ef",
   "metadata": {
    "tags": []
   },
   "outputs": [
    {
     "data": {
      "text/html": [
       "<div>\n",
       "<style scoped>\n",
       "    .dataframe tbody tr th:only-of-type {\n",
       "        vertical-align: middle;\n",
       "    }\n",
       "\n",
       "    .dataframe tbody tr th {\n",
       "        vertical-align: top;\n",
       "    }\n",
       "\n",
       "    .dataframe thead th {\n",
       "        text-align: right;\n",
       "    }\n",
       "</style>\n",
       "<table border=\"1\" class=\"dataframe\">\n",
       "  <thead>\n",
       "    <tr style=\"text-align: right;\">\n",
       "      <th></th>\n",
       "      <th>person_age</th>\n",
       "      <th>person_income</th>\n",
       "      <th>person_home_ownership</th>\n",
       "      <th>person_emp_length</th>\n",
       "      <th>loan_intent</th>\n",
       "      <th>loan_grade</th>\n",
       "      <th>loan_amnt</th>\n",
       "      <th>loan_int_rate</th>\n",
       "      <th>loan_status</th>\n",
       "      <th>loan_percent_income</th>\n",
       "      <th>cb_person_default_on_file</th>\n",
       "      <th>cb_person_cred_hist_length</th>\n",
       "    </tr>\n",
       "  </thead>\n",
       "  <tbody>\n",
       "    <tr>\n",
       "      <th>0</th>\n",
       "      <td>22</td>\n",
       "      <td>59000</td>\n",
       "      <td>RENT</td>\n",
       "      <td>123.0</td>\n",
       "      <td>PERSONAL</td>\n",
       "      <td>D</td>\n",
       "      <td>35000</td>\n",
       "      <td>16.02</td>\n",
       "      <td>1</td>\n",
       "      <td>0.59</td>\n",
       "      <td>Y</td>\n",
       "      <td>3</td>\n",
       "    </tr>\n",
       "    <tr>\n",
       "      <th>2</th>\n",
       "      <td>25</td>\n",
       "      <td>9600</td>\n",
       "      <td>MORTGAGE</td>\n",
       "      <td>1.0</td>\n",
       "      <td>MEDICAL</td>\n",
       "      <td>C</td>\n",
       "      <td>5500</td>\n",
       "      <td>12.87</td>\n",
       "      <td>1</td>\n",
       "      <td>0.57</td>\n",
       "      <td>N</td>\n",
       "      <td>3</td>\n",
       "    </tr>\n",
       "    <tr>\n",
       "      <th>3</th>\n",
       "      <td>23</td>\n",
       "      <td>65500</td>\n",
       "      <td>RENT</td>\n",
       "      <td>4.0</td>\n",
       "      <td>MEDICAL</td>\n",
       "      <td>C</td>\n",
       "      <td>35000</td>\n",
       "      <td>15.23</td>\n",
       "      <td>1</td>\n",
       "      <td>0.53</td>\n",
       "      <td>N</td>\n",
       "      <td>2</td>\n",
       "    </tr>\n",
       "    <tr>\n",
       "      <th>4</th>\n",
       "      <td>24</td>\n",
       "      <td>54400</td>\n",
       "      <td>RENT</td>\n",
       "      <td>8.0</td>\n",
       "      <td>MEDICAL</td>\n",
       "      <td>C</td>\n",
       "      <td>35000</td>\n",
       "      <td>14.27</td>\n",
       "      <td>1</td>\n",
       "      <td>0.55</td>\n",
       "      <td>Y</td>\n",
       "      <td>4</td>\n",
       "    </tr>\n",
       "    <tr>\n",
       "      <th>5</th>\n",
       "      <td>21</td>\n",
       "      <td>9900</td>\n",
       "      <td>OWN</td>\n",
       "      <td>2.0</td>\n",
       "      <td>VENTURE</td>\n",
       "      <td>A</td>\n",
       "      <td>2500</td>\n",
       "      <td>7.14</td>\n",
       "      <td>1</td>\n",
       "      <td>0.25</td>\n",
       "      <td>N</td>\n",
       "      <td>2</td>\n",
       "    </tr>\n",
       "    <tr>\n",
       "      <th>...</th>\n",
       "      <td>...</td>\n",
       "      <td>...</td>\n",
       "      <td>...</td>\n",
       "      <td>...</td>\n",
       "      <td>...</td>\n",
       "      <td>...</td>\n",
       "      <td>...</td>\n",
       "      <td>...</td>\n",
       "      <td>...</td>\n",
       "      <td>...</td>\n",
       "      <td>...</td>\n",
       "      <td>...</td>\n",
       "    </tr>\n",
       "    <tr>\n",
       "      <th>32563</th>\n",
       "      <td>52</td>\n",
       "      <td>71520</td>\n",
       "      <td>RENT</td>\n",
       "      <td>0.0</td>\n",
       "      <td>EDUCATION</td>\n",
       "      <td>E</td>\n",
       "      <td>7000</td>\n",
       "      <td>16.82</td>\n",
       "      <td>1</td>\n",
       "      <td>0.10</td>\n",
       "      <td>Y</td>\n",
       "      <td>24</td>\n",
       "    </tr>\n",
       "    <tr>\n",
       "      <th>32565</th>\n",
       "      <td>57</td>\n",
       "      <td>40000</td>\n",
       "      <td>RENT</td>\n",
       "      <td>1.0</td>\n",
       "      <td>MEDICAL</td>\n",
       "      <td>A</td>\n",
       "      <td>15000</td>\n",
       "      <td>8.90</td>\n",
       "      <td>1</td>\n",
       "      <td>0.38</td>\n",
       "      <td>N</td>\n",
       "      <td>21</td>\n",
       "    </tr>\n",
       "    <tr>\n",
       "      <th>32571</th>\n",
       "      <td>60</td>\n",
       "      <td>45600</td>\n",
       "      <td>RENT</td>\n",
       "      <td>1.0</td>\n",
       "      <td>VENTURE</td>\n",
       "      <td>B</td>\n",
       "      <td>20000</td>\n",
       "      <td>10.00</td>\n",
       "      <td>1</td>\n",
       "      <td>0.44</td>\n",
       "      <td>N</td>\n",
       "      <td>26</td>\n",
       "    </tr>\n",
       "    <tr>\n",
       "      <th>32574</th>\n",
       "      <td>52</td>\n",
       "      <td>65004</td>\n",
       "      <td>RENT</td>\n",
       "      <td>4.0</td>\n",
       "      <td>PERSONAL</td>\n",
       "      <td>D</td>\n",
       "      <td>20000</td>\n",
       "      <td>15.58</td>\n",
       "      <td>1</td>\n",
       "      <td>0.31</td>\n",
       "      <td>Y</td>\n",
       "      <td>19</td>\n",
       "    </tr>\n",
       "    <tr>\n",
       "      <th>32578</th>\n",
       "      <td>65</td>\n",
       "      <td>76000</td>\n",
       "      <td>RENT</td>\n",
       "      <td>3.0</td>\n",
       "      <td>HOMEIMPROVEMENT</td>\n",
       "      <td>B</td>\n",
       "      <td>35000</td>\n",
       "      <td>10.99</td>\n",
       "      <td>1</td>\n",
       "      <td>0.46</td>\n",
       "      <td>N</td>\n",
       "      <td>28</td>\n",
       "    </tr>\n",
       "  </tbody>\n",
       "</table>\n",
       "<p>7108 rows × 12 columns</p>\n",
       "</div>"
      ],
      "text/plain": [
       "       person_age  person_income person_home_ownership  person_emp_length  \\\n",
       "0              22          59000                  RENT              123.0   \n",
       "2              25           9600              MORTGAGE                1.0   \n",
       "3              23          65500                  RENT                4.0   \n",
       "4              24          54400                  RENT                8.0   \n",
       "5              21           9900                   OWN                2.0   \n",
       "...           ...            ...                   ...                ...   \n",
       "32563          52          71520                  RENT                0.0   \n",
       "32565          57          40000                  RENT                1.0   \n",
       "32571          60          45600                  RENT                1.0   \n",
       "32574          52          65004                  RENT                4.0   \n",
       "32578          65          76000                  RENT                3.0   \n",
       "\n",
       "           loan_intent loan_grade  loan_amnt  loan_int_rate  loan_status  \\\n",
       "0             PERSONAL          D      35000          16.02            1   \n",
       "2              MEDICAL          C       5500          12.87            1   \n",
       "3              MEDICAL          C      35000          15.23            1   \n",
       "4              MEDICAL          C      35000          14.27            1   \n",
       "5              VENTURE          A       2500           7.14            1   \n",
       "...                ...        ...        ...            ...          ...   \n",
       "32563        EDUCATION          E       7000          16.82            1   \n",
       "32565          MEDICAL          A      15000           8.90            1   \n",
       "32571          VENTURE          B      20000          10.00            1   \n",
       "32574         PERSONAL          D      20000          15.58            1   \n",
       "32578  HOMEIMPROVEMENT          B      35000          10.99            1   \n",
       "\n",
       "       loan_percent_income cb_person_default_on_file  \\\n",
       "0                     0.59                         Y   \n",
       "2                     0.57                         N   \n",
       "3                     0.53                         N   \n",
       "4                     0.55                         Y   \n",
       "5                     0.25                         N   \n",
       "...                    ...                       ...   \n",
       "32563                 0.10                         Y   \n",
       "32565                 0.38                         N   \n",
       "32571                 0.44                         N   \n",
       "32574                 0.31                         Y   \n",
       "32578                 0.46                         N   \n",
       "\n",
       "       cb_person_cred_hist_length  \n",
       "0                               3  \n",
       "2                               3  \n",
       "3                               2  \n",
       "4                               4  \n",
       "5                               2  \n",
       "...                           ...  \n",
       "32563                          24  \n",
       "32565                          21  \n",
       "32571                          26  \n",
       "32574                          19  \n",
       "32578                          28  \n",
       "\n",
       "[7108 rows x 12 columns]"
      ]
     },
     "execution_count": 44,
     "metadata": {},
     "output_type": "execute_result"
    }
   ],
   "source": [
    "denied_loans = status_1\n",
    "denied_loans"
   ]
  },
  {
   "cell_type": "code",
   "execution_count": 45,
   "id": "6d0a241c-444d-408b-9192-0adda25a38c8",
   "metadata": {
    "tags": []
   },
   "outputs": [
    {
     "data": {
      "text/html": [
       "<div>\n",
       "<style scoped>\n",
       "    .dataframe tbody tr th:only-of-type {\n",
       "        vertical-align: middle;\n",
       "    }\n",
       "\n",
       "    .dataframe tbody tr th {\n",
       "        vertical-align: top;\n",
       "    }\n",
       "\n",
       "    .dataframe thead th {\n",
       "        text-align: right;\n",
       "    }\n",
       "</style>\n",
       "<table border=\"1\" class=\"dataframe\">\n",
       "  <thead>\n",
       "    <tr style=\"text-align: right;\">\n",
       "      <th></th>\n",
       "      <th>person_age</th>\n",
       "      <th>person_income</th>\n",
       "      <th>person_home_ownership</th>\n",
       "      <th>person_emp_length</th>\n",
       "      <th>loan_intent</th>\n",
       "      <th>loan_grade</th>\n",
       "      <th>loan_amnt</th>\n",
       "      <th>loan_int_rate</th>\n",
       "      <th>loan_status</th>\n",
       "      <th>loan_percent_income</th>\n",
       "      <th>cb_person_default_on_file</th>\n",
       "      <th>cb_person_cred_hist_length</th>\n",
       "    </tr>\n",
       "  </thead>\n",
       "  <tbody>\n",
       "    <tr>\n",
       "      <th>1</th>\n",
       "      <td>21</td>\n",
       "      <td>9600</td>\n",
       "      <td>OWN</td>\n",
       "      <td>5.0</td>\n",
       "      <td>EDUCATION</td>\n",
       "      <td>B</td>\n",
       "      <td>1000</td>\n",
       "      <td>11.14</td>\n",
       "      <td>0</td>\n",
       "      <td>0.10</td>\n",
       "      <td>N</td>\n",
       "      <td>2</td>\n",
       "    </tr>\n",
       "    <tr>\n",
       "      <th>14</th>\n",
       "      <td>23</td>\n",
       "      <td>115000</td>\n",
       "      <td>RENT</td>\n",
       "      <td>2.0</td>\n",
       "      <td>EDUCATION</td>\n",
       "      <td>A</td>\n",
       "      <td>35000</td>\n",
       "      <td>7.90</td>\n",
       "      <td>0</td>\n",
       "      <td>0.30</td>\n",
       "      <td>N</td>\n",
       "      <td>4</td>\n",
       "    </tr>\n",
       "    <tr>\n",
       "      <th>15</th>\n",
       "      <td>23</td>\n",
       "      <td>500000</td>\n",
       "      <td>MORTGAGE</td>\n",
       "      <td>7.0</td>\n",
       "      <td>DEBTCONSOLIDATION</td>\n",
       "      <td>B</td>\n",
       "      <td>30000</td>\n",
       "      <td>10.65</td>\n",
       "      <td>0</td>\n",
       "      <td>0.06</td>\n",
       "      <td>N</td>\n",
       "      <td>3</td>\n",
       "    </tr>\n",
       "    <tr>\n",
       "      <th>16</th>\n",
       "      <td>23</td>\n",
       "      <td>120000</td>\n",
       "      <td>RENT</td>\n",
       "      <td>0.0</td>\n",
       "      <td>EDUCATION</td>\n",
       "      <td>A</td>\n",
       "      <td>35000</td>\n",
       "      <td>7.90</td>\n",
       "      <td>0</td>\n",
       "      <td>0.29</td>\n",
       "      <td>N</td>\n",
       "      <td>4</td>\n",
       "    </tr>\n",
       "    <tr>\n",
       "      <th>20</th>\n",
       "      <td>25</td>\n",
       "      <td>162500</td>\n",
       "      <td>RENT</td>\n",
       "      <td>2.0</td>\n",
       "      <td>VENTURE</td>\n",
       "      <td>A</td>\n",
       "      <td>35000</td>\n",
       "      <td>7.49</td>\n",
       "      <td>0</td>\n",
       "      <td>0.22</td>\n",
       "      <td>N</td>\n",
       "      <td>4</td>\n",
       "    </tr>\n",
       "    <tr>\n",
       "      <th>...</th>\n",
       "      <td>...</td>\n",
       "      <td>...</td>\n",
       "      <td>...</td>\n",
       "      <td>...</td>\n",
       "      <td>...</td>\n",
       "      <td>...</td>\n",
       "      <td>...</td>\n",
       "      <td>...</td>\n",
       "      <td>...</td>\n",
       "      <td>...</td>\n",
       "      <td>...</td>\n",
       "      <td>...</td>\n",
       "    </tr>\n",
       "    <tr>\n",
       "      <th>32575</th>\n",
       "      <td>52</td>\n",
       "      <td>64500</td>\n",
       "      <td>RENT</td>\n",
       "      <td>0.0</td>\n",
       "      <td>EDUCATION</td>\n",
       "      <td>B</td>\n",
       "      <td>5000</td>\n",
       "      <td>11.26</td>\n",
       "      <td>0</td>\n",
       "      <td>0.08</td>\n",
       "      <td>N</td>\n",
       "      <td>20</td>\n",
       "    </tr>\n",
       "    <tr>\n",
       "      <th>32576</th>\n",
       "      <td>57</td>\n",
       "      <td>53000</td>\n",
       "      <td>MORTGAGE</td>\n",
       "      <td>1.0</td>\n",
       "      <td>PERSONAL</td>\n",
       "      <td>C</td>\n",
       "      <td>5800</td>\n",
       "      <td>13.16</td>\n",
       "      <td>0</td>\n",
       "      <td>0.11</td>\n",
       "      <td>N</td>\n",
       "      <td>30</td>\n",
       "    </tr>\n",
       "    <tr>\n",
       "      <th>32577</th>\n",
       "      <td>54</td>\n",
       "      <td>120000</td>\n",
       "      <td>MORTGAGE</td>\n",
       "      <td>4.0</td>\n",
       "      <td>PERSONAL</td>\n",
       "      <td>A</td>\n",
       "      <td>17625</td>\n",
       "      <td>7.49</td>\n",
       "      <td>0</td>\n",
       "      <td>0.15</td>\n",
       "      <td>N</td>\n",
       "      <td>19</td>\n",
       "    </tr>\n",
       "    <tr>\n",
       "      <th>32579</th>\n",
       "      <td>56</td>\n",
       "      <td>150000</td>\n",
       "      <td>MORTGAGE</td>\n",
       "      <td>5.0</td>\n",
       "      <td>PERSONAL</td>\n",
       "      <td>B</td>\n",
       "      <td>15000</td>\n",
       "      <td>11.48</td>\n",
       "      <td>0</td>\n",
       "      <td>0.10</td>\n",
       "      <td>N</td>\n",
       "      <td>26</td>\n",
       "    </tr>\n",
       "    <tr>\n",
       "      <th>32580</th>\n",
       "      <td>66</td>\n",
       "      <td>42000</td>\n",
       "      <td>RENT</td>\n",
       "      <td>2.0</td>\n",
       "      <td>MEDICAL</td>\n",
       "      <td>B</td>\n",
       "      <td>6475</td>\n",
       "      <td>9.99</td>\n",
       "      <td>0</td>\n",
       "      <td>0.15</td>\n",
       "      <td>N</td>\n",
       "      <td>30</td>\n",
       "    </tr>\n",
       "  </tbody>\n",
       "</table>\n",
       "<p>25473 rows × 12 columns</p>\n",
       "</div>"
      ],
      "text/plain": [
       "       person_age  person_income person_home_ownership  person_emp_length  \\\n",
       "1              21           9600                   OWN                5.0   \n",
       "14             23         115000                  RENT                2.0   \n",
       "15             23         500000              MORTGAGE                7.0   \n",
       "16             23         120000                  RENT                0.0   \n",
       "20             25         162500                  RENT                2.0   \n",
       "...           ...            ...                   ...                ...   \n",
       "32575          52          64500                  RENT                0.0   \n",
       "32576          57          53000              MORTGAGE                1.0   \n",
       "32577          54         120000              MORTGAGE                4.0   \n",
       "32579          56         150000              MORTGAGE                5.0   \n",
       "32580          66          42000                  RENT                2.0   \n",
       "\n",
       "             loan_intent loan_grade  loan_amnt  loan_int_rate  loan_status  \\\n",
       "1              EDUCATION          B       1000          11.14            0   \n",
       "14             EDUCATION          A      35000           7.90            0   \n",
       "15     DEBTCONSOLIDATION          B      30000          10.65            0   \n",
       "16             EDUCATION          A      35000           7.90            0   \n",
       "20               VENTURE          A      35000           7.49            0   \n",
       "...                  ...        ...        ...            ...          ...   \n",
       "32575          EDUCATION          B       5000          11.26            0   \n",
       "32576           PERSONAL          C       5800          13.16            0   \n",
       "32577           PERSONAL          A      17625           7.49            0   \n",
       "32579           PERSONAL          B      15000          11.48            0   \n",
       "32580            MEDICAL          B       6475           9.99            0   \n",
       "\n",
       "       loan_percent_income cb_person_default_on_file  \\\n",
       "1                     0.10                         N   \n",
       "14                    0.30                         N   \n",
       "15                    0.06                         N   \n",
       "16                    0.29                         N   \n",
       "20                    0.22                         N   \n",
       "...                    ...                       ...   \n",
       "32575                 0.08                         N   \n",
       "32576                 0.11                         N   \n",
       "32577                 0.15                         N   \n",
       "32579                 0.10                         N   \n",
       "32580                 0.15                         N   \n",
       "\n",
       "       cb_person_cred_hist_length  \n",
       "1                               2  \n",
       "14                              4  \n",
       "15                              3  \n",
       "16                              4  \n",
       "20                              4  \n",
       "...                           ...  \n",
       "32575                          20  \n",
       "32576                          30  \n",
       "32577                          19  \n",
       "32579                          26  \n",
       "32580                          30  \n",
       "\n",
       "[25473 rows x 12 columns]"
      ]
     },
     "execution_count": 45,
     "metadata": {},
     "output_type": "execute_result"
    }
   ],
   "source": [
    "approved_loans = status_0\n",
    "approved_loans"
   ]
  },
  {
   "cell_type": "code",
   "execution_count": null,
   "id": "ab554f1b-3fd9-45f7-b64b-025128ac2d38",
   "metadata": {},
   "outputs": [],
   "source": []
  },
  {
   "cell_type": "code",
   "execution_count": 46,
   "id": "70aaf465-8662-4eed-8723-20f70b434265",
   "metadata": {
    "tags": []
   },
   "outputs": [
    {
     "data": {
      "text/plain": [
       "0.0      1147\n",
       "2.0       987\n",
       "1.0       806\n",
       "3.0       696\n",
       "4.0       610\n",
       "5.0       548\n",
       "6.0       500\n",
       "7.0       412\n",
       "8.0       281\n",
       "9.0       244\n",
       "11.0      136\n",
       "10.0      119\n",
       "12.0       90\n",
       "14.0       56\n",
       "13.0       51\n",
       "15.0       43\n",
       "17.0       22\n",
       "16.0       20\n",
       "20.0       13\n",
       "18.0       11\n",
       "21.0       10\n",
       "19.0        9\n",
       "22.0        3\n",
       "24.0        3\n",
       "23.0        3\n",
       "34.0        1\n",
       "29.0        1\n",
       "123.0       1\n",
       "27.0        1\n",
       "26.0        1\n",
       "30.0        1\n",
       "Name: person_emp_length, dtype: int64"
      ]
     },
     "execution_count": 46,
     "metadata": {},
     "output_type": "execute_result"
    }
   ],
   "source": [
    "denied_loans['person_emp_length'].value_counts()"
   ]
  },
  {
   "cell_type": "code",
   "execution_count": 47,
   "id": "15b13984-1070-4496-ba76-2d47365f7c5d",
   "metadata": {
    "tags": []
   },
   "outputs": [
    {
     "data": {
      "text/plain": [
       "0.0      2958\n",
       "2.0      2862\n",
       "3.0      2760\n",
       "5.0      2398\n",
       "4.0      2264\n",
       "6.0      2166\n",
       "1.0      2109\n",
       "7.0      1784\n",
       "8.0      1406\n",
       "9.0      1123\n",
       "11.0      604\n",
       "10.0      577\n",
       "12.0      485\n",
       "13.0      375\n",
       "14.0      279\n",
       "15.0      195\n",
       "16.0      145\n",
       "17.0      107\n",
       "18.0       93\n",
       "19.0       55\n",
       "20.0       29\n",
       "21.0       28\n",
       "22.0       16\n",
       "25.0        8\n",
       "23.0        7\n",
       "24.0        7\n",
       "26.0        5\n",
       "27.0        4\n",
       "31.0        4\n",
       "28.0        3\n",
       "123.0       1\n",
       "41.0        1\n",
       "38.0        1\n",
       "30.0        1\n",
       "Name: person_emp_length, dtype: int64"
      ]
     },
     "execution_count": 47,
     "metadata": {},
     "output_type": "execute_result"
    }
   ],
   "source": [
    "approved_loans['person_emp_length'].value_counts()"
   ]
  },
  {
   "cell_type": "code",
   "execution_count": 48,
   "id": "0cfd84b4-11cc-4853-8736-829aa2a3be36",
   "metadata": {
    "tags": []
   },
   "outputs": [],
   "source": [
    "# 7108 loans were denied\n",
    "# 25473 loans were approved"
   ]
  },
  {
   "cell_type": "code",
   "execution_count": null,
   "id": "9e4081b7-3ed4-40f5-8b8a-548b2eae3147",
   "metadata": {},
   "outputs": [],
   "source": []
  },
  {
   "cell_type": "code",
   "execution_count": 49,
   "id": "4d140645-15b3-4680-a550-5eabe66db485",
   "metadata": {
    "tags": []
   },
   "outputs": [
    {
     "data": {
      "text/plain": [
       "person_age                      0\n",
       "person_income                   0\n",
       "person_home_ownership           0\n",
       "person_emp_length             282\n",
       "loan_intent                     0\n",
       "loan_grade                      0\n",
       "loan_amnt                       0\n",
       "loan_int_rate                 644\n",
       "loan_status                     0\n",
       "loan_percent_income             0\n",
       "cb_person_default_on_file       0\n",
       "cb_person_cred_hist_length      0\n",
       "dtype: int64"
      ]
     },
     "execution_count": 49,
     "metadata": {},
     "output_type": "execute_result"
    }
   ],
   "source": [
    "denied_loans.isna().sum()"
   ]
  },
  {
   "cell_type": "code",
   "execution_count": 50,
   "id": "725f8552-ce2d-4bf5-a049-c4377d955743",
   "metadata": {
    "tags": []
   },
   "outputs": [
    {
     "data": {
      "text/plain": [
       "person_age                       0\n",
       "person_income                    0\n",
       "person_home_ownership            0\n",
       "person_emp_length              613\n",
       "loan_intent                      0\n",
       "loan_grade                       0\n",
       "loan_amnt                        0\n",
       "loan_int_rate                 2472\n",
       "loan_status                      0\n",
       "loan_percent_income              0\n",
       "cb_person_default_on_file        0\n",
       "cb_person_cred_hist_length       0\n",
       "dtype: int64"
      ]
     },
     "execution_count": 50,
     "metadata": {},
     "output_type": "execute_result"
    }
   ],
   "source": [
    "approved_loans.isna().sum()"
   ]
  },
  {
   "cell_type": "markdown",
   "id": "61aba5a1-11c8-40ad-835a-d8eb583f1694",
   "metadata": {
    "tags": []
   },
   "source": [
    "## Modeling"
   ]
  },
  {
   "cell_type": "code",
   "execution_count": 51,
   "id": "ca831765-0334-4796-9028-0e66c23b8155",
   "metadata": {
    "tags": []
   },
   "outputs": [],
   "source": [
    "loan_train = pd.read_csv('/Users/marcolaureano2/Documents/GitHub/kaggle-loan-prediction/Sample files/train.csv')"
   ]
  },
  {
   "cell_type": "code",
   "execution_count": 52,
   "id": "8a533b12-f8f4-4704-bcaa-486cb78a2692",
   "metadata": {
    "tags": []
   },
   "outputs": [],
   "source": [
    "loan_test = pd.read_csv('/Users/marcolaureano2/Documents/GitHub/kaggle-loan-prediction/Sample files/test.csv')"
   ]
  },
  {
   "cell_type": "code",
   "execution_count": 53,
   "id": "632c8a1d-8bc9-487c-95bb-4d4d4fbeb99b",
   "metadata": {
    "tags": []
   },
   "outputs": [
    {
     "data": {
      "text/html": [
       "<div>\n",
       "<style scoped>\n",
       "    .dataframe tbody tr th:only-of-type {\n",
       "        vertical-align: middle;\n",
       "    }\n",
       "\n",
       "    .dataframe tbody tr th {\n",
       "        vertical-align: top;\n",
       "    }\n",
       "\n",
       "    .dataframe thead th {\n",
       "        text-align: right;\n",
       "    }\n",
       "</style>\n",
       "<table border=\"1\" class=\"dataframe\">\n",
       "  <thead>\n",
       "    <tr style=\"text-align: right;\">\n",
       "      <th></th>\n",
       "      <th>id</th>\n",
       "      <th>person_age</th>\n",
       "      <th>person_income</th>\n",
       "      <th>person_home_ownership</th>\n",
       "      <th>person_emp_length</th>\n",
       "      <th>loan_intent</th>\n",
       "      <th>loan_grade</th>\n",
       "      <th>loan_amnt</th>\n",
       "      <th>loan_int_rate</th>\n",
       "      <th>loan_percent_income</th>\n",
       "      <th>cb_person_default_on_file</th>\n",
       "      <th>cb_person_cred_hist_length</th>\n",
       "      <th>loan_status</th>\n",
       "    </tr>\n",
       "  </thead>\n",
       "  <tbody>\n",
       "    <tr>\n",
       "      <th>0</th>\n",
       "      <td>0</td>\n",
       "      <td>37</td>\n",
       "      <td>35000</td>\n",
       "      <td>RENT</td>\n",
       "      <td>0.0</td>\n",
       "      <td>EDUCATION</td>\n",
       "      <td>B</td>\n",
       "      <td>6000</td>\n",
       "      <td>11.49</td>\n",
       "      <td>0.17</td>\n",
       "      <td>N</td>\n",
       "      <td>14</td>\n",
       "      <td>0</td>\n",
       "    </tr>\n",
       "    <tr>\n",
       "      <th>1</th>\n",
       "      <td>1</td>\n",
       "      <td>22</td>\n",
       "      <td>56000</td>\n",
       "      <td>OWN</td>\n",
       "      <td>6.0</td>\n",
       "      <td>MEDICAL</td>\n",
       "      <td>C</td>\n",
       "      <td>4000</td>\n",
       "      <td>13.35</td>\n",
       "      <td>0.07</td>\n",
       "      <td>N</td>\n",
       "      <td>2</td>\n",
       "      <td>0</td>\n",
       "    </tr>\n",
       "    <tr>\n",
       "      <th>2</th>\n",
       "      <td>2</td>\n",
       "      <td>29</td>\n",
       "      <td>28800</td>\n",
       "      <td>OWN</td>\n",
       "      <td>8.0</td>\n",
       "      <td>PERSONAL</td>\n",
       "      <td>A</td>\n",
       "      <td>6000</td>\n",
       "      <td>8.90</td>\n",
       "      <td>0.21</td>\n",
       "      <td>N</td>\n",
       "      <td>10</td>\n",
       "      <td>0</td>\n",
       "    </tr>\n",
       "    <tr>\n",
       "      <th>3</th>\n",
       "      <td>3</td>\n",
       "      <td>30</td>\n",
       "      <td>70000</td>\n",
       "      <td>RENT</td>\n",
       "      <td>14.0</td>\n",
       "      <td>VENTURE</td>\n",
       "      <td>B</td>\n",
       "      <td>12000</td>\n",
       "      <td>11.11</td>\n",
       "      <td>0.17</td>\n",
       "      <td>N</td>\n",
       "      <td>5</td>\n",
       "      <td>0</td>\n",
       "    </tr>\n",
       "    <tr>\n",
       "      <th>4</th>\n",
       "      <td>4</td>\n",
       "      <td>22</td>\n",
       "      <td>60000</td>\n",
       "      <td>RENT</td>\n",
       "      <td>2.0</td>\n",
       "      <td>MEDICAL</td>\n",
       "      <td>A</td>\n",
       "      <td>6000</td>\n",
       "      <td>6.92</td>\n",
       "      <td>0.10</td>\n",
       "      <td>N</td>\n",
       "      <td>3</td>\n",
       "      <td>0</td>\n",
       "    </tr>\n",
       "    <tr>\n",
       "      <th>...</th>\n",
       "      <td>...</td>\n",
       "      <td>...</td>\n",
       "      <td>...</td>\n",
       "      <td>...</td>\n",
       "      <td>...</td>\n",
       "      <td>...</td>\n",
       "      <td>...</td>\n",
       "      <td>...</td>\n",
       "      <td>...</td>\n",
       "      <td>...</td>\n",
       "      <td>...</td>\n",
       "      <td>...</td>\n",
       "      <td>...</td>\n",
       "    </tr>\n",
       "    <tr>\n",
       "      <th>58640</th>\n",
       "      <td>58640</td>\n",
       "      <td>34</td>\n",
       "      <td>120000</td>\n",
       "      <td>MORTGAGE</td>\n",
       "      <td>5.0</td>\n",
       "      <td>EDUCATION</td>\n",
       "      <td>D</td>\n",
       "      <td>25000</td>\n",
       "      <td>15.95</td>\n",
       "      <td>0.21</td>\n",
       "      <td>Y</td>\n",
       "      <td>10</td>\n",
       "      <td>0</td>\n",
       "    </tr>\n",
       "    <tr>\n",
       "      <th>58641</th>\n",
       "      <td>58641</td>\n",
       "      <td>28</td>\n",
       "      <td>28800</td>\n",
       "      <td>RENT</td>\n",
       "      <td>0.0</td>\n",
       "      <td>MEDICAL</td>\n",
       "      <td>C</td>\n",
       "      <td>10000</td>\n",
       "      <td>12.73</td>\n",
       "      <td>0.35</td>\n",
       "      <td>N</td>\n",
       "      <td>8</td>\n",
       "      <td>1</td>\n",
       "    </tr>\n",
       "    <tr>\n",
       "      <th>58642</th>\n",
       "      <td>58642</td>\n",
       "      <td>23</td>\n",
       "      <td>44000</td>\n",
       "      <td>RENT</td>\n",
       "      <td>7.0</td>\n",
       "      <td>EDUCATION</td>\n",
       "      <td>D</td>\n",
       "      <td>6800</td>\n",
       "      <td>16.00</td>\n",
       "      <td>0.15</td>\n",
       "      <td>N</td>\n",
       "      <td>2</td>\n",
       "      <td>1</td>\n",
       "    </tr>\n",
       "    <tr>\n",
       "      <th>58643</th>\n",
       "      <td>58643</td>\n",
       "      <td>22</td>\n",
       "      <td>30000</td>\n",
       "      <td>RENT</td>\n",
       "      <td>2.0</td>\n",
       "      <td>EDUCATION</td>\n",
       "      <td>A</td>\n",
       "      <td>5000</td>\n",
       "      <td>8.90</td>\n",
       "      <td>0.17</td>\n",
       "      <td>N</td>\n",
       "      <td>3</td>\n",
       "      <td>0</td>\n",
       "    </tr>\n",
       "    <tr>\n",
       "      <th>58644</th>\n",
       "      <td>58644</td>\n",
       "      <td>31</td>\n",
       "      <td>75000</td>\n",
       "      <td>MORTGAGE</td>\n",
       "      <td>2.0</td>\n",
       "      <td>VENTURE</td>\n",
       "      <td>B</td>\n",
       "      <td>15000</td>\n",
       "      <td>11.11</td>\n",
       "      <td>0.20</td>\n",
       "      <td>N</td>\n",
       "      <td>5</td>\n",
       "      <td>0</td>\n",
       "    </tr>\n",
       "  </tbody>\n",
       "</table>\n",
       "<p>58645 rows × 13 columns</p>\n",
       "</div>"
      ],
      "text/plain": [
       "          id  person_age  person_income person_home_ownership  \\\n",
       "0          0          37          35000                  RENT   \n",
       "1          1          22          56000                   OWN   \n",
       "2          2          29          28800                   OWN   \n",
       "3          3          30          70000                  RENT   \n",
       "4          4          22          60000                  RENT   \n",
       "...      ...         ...            ...                   ...   \n",
       "58640  58640          34         120000              MORTGAGE   \n",
       "58641  58641          28          28800                  RENT   \n",
       "58642  58642          23          44000                  RENT   \n",
       "58643  58643          22          30000                  RENT   \n",
       "58644  58644          31          75000              MORTGAGE   \n",
       "\n",
       "       person_emp_length loan_intent loan_grade  loan_amnt  loan_int_rate  \\\n",
       "0                    0.0   EDUCATION          B       6000          11.49   \n",
       "1                    6.0     MEDICAL          C       4000          13.35   \n",
       "2                    8.0    PERSONAL          A       6000           8.90   \n",
       "3                   14.0     VENTURE          B      12000          11.11   \n",
       "4                    2.0     MEDICAL          A       6000           6.92   \n",
       "...                  ...         ...        ...        ...            ...   \n",
       "58640                5.0   EDUCATION          D      25000          15.95   \n",
       "58641                0.0     MEDICAL          C      10000          12.73   \n",
       "58642                7.0   EDUCATION          D       6800          16.00   \n",
       "58643                2.0   EDUCATION          A       5000           8.90   \n",
       "58644                2.0     VENTURE          B      15000          11.11   \n",
       "\n",
       "       loan_percent_income cb_person_default_on_file  \\\n",
       "0                     0.17                         N   \n",
       "1                     0.07                         N   \n",
       "2                     0.21                         N   \n",
       "3                     0.17                         N   \n",
       "4                     0.10                         N   \n",
       "...                    ...                       ...   \n",
       "58640                 0.21                         Y   \n",
       "58641                 0.35                         N   \n",
       "58642                 0.15                         N   \n",
       "58643                 0.17                         N   \n",
       "58644                 0.20                         N   \n",
       "\n",
       "       cb_person_cred_hist_length  loan_status  \n",
       "0                              14            0  \n",
       "1                               2            0  \n",
       "2                              10            0  \n",
       "3                               5            0  \n",
       "4                               3            0  \n",
       "...                           ...          ...  \n",
       "58640                          10            0  \n",
       "58641                           8            1  \n",
       "58642                           2            1  \n",
       "58643                           3            0  \n",
       "58644                           5            0  \n",
       "\n",
       "[58645 rows x 13 columns]"
      ]
     },
     "execution_count": 53,
     "metadata": {},
     "output_type": "execute_result"
    }
   ],
   "source": [
    "loan_train"
   ]
  },
  {
   "cell_type": "code",
   "execution_count": 54,
   "id": "e5e7783a-3248-4920-8634-5b19f000d170",
   "metadata": {
    "tags": []
   },
   "outputs": [
    {
     "data": {
      "text/html": [
       "<div>\n",
       "<style scoped>\n",
       "    .dataframe tbody tr th:only-of-type {\n",
       "        vertical-align: middle;\n",
       "    }\n",
       "\n",
       "    .dataframe tbody tr th {\n",
       "        vertical-align: top;\n",
       "    }\n",
       "\n",
       "    .dataframe thead th {\n",
       "        text-align: right;\n",
       "    }\n",
       "</style>\n",
       "<table border=\"1\" class=\"dataframe\">\n",
       "  <thead>\n",
       "    <tr style=\"text-align: right;\">\n",
       "      <th></th>\n",
       "      <th>id</th>\n",
       "      <th>person_age</th>\n",
       "      <th>person_income</th>\n",
       "      <th>person_home_ownership</th>\n",
       "      <th>person_emp_length</th>\n",
       "      <th>loan_intent</th>\n",
       "      <th>loan_grade</th>\n",
       "      <th>loan_amnt</th>\n",
       "      <th>loan_int_rate</th>\n",
       "      <th>loan_percent_income</th>\n",
       "      <th>cb_person_default_on_file</th>\n",
       "      <th>cb_person_cred_hist_length</th>\n",
       "    </tr>\n",
       "  </thead>\n",
       "  <tbody>\n",
       "    <tr>\n",
       "      <th>0</th>\n",
       "      <td>58645</td>\n",
       "      <td>23</td>\n",
       "      <td>69000</td>\n",
       "      <td>RENT</td>\n",
       "      <td>3.0</td>\n",
       "      <td>HOMEIMPROVEMENT</td>\n",
       "      <td>F</td>\n",
       "      <td>25000</td>\n",
       "      <td>15.76</td>\n",
       "      <td>0.36</td>\n",
       "      <td>N</td>\n",
       "      <td>2</td>\n",
       "    </tr>\n",
       "    <tr>\n",
       "      <th>1</th>\n",
       "      <td>58646</td>\n",
       "      <td>26</td>\n",
       "      <td>96000</td>\n",
       "      <td>MORTGAGE</td>\n",
       "      <td>6.0</td>\n",
       "      <td>PERSONAL</td>\n",
       "      <td>C</td>\n",
       "      <td>10000</td>\n",
       "      <td>12.68</td>\n",
       "      <td>0.10</td>\n",
       "      <td>Y</td>\n",
       "      <td>4</td>\n",
       "    </tr>\n",
       "    <tr>\n",
       "      <th>2</th>\n",
       "      <td>58647</td>\n",
       "      <td>26</td>\n",
       "      <td>30000</td>\n",
       "      <td>RENT</td>\n",
       "      <td>5.0</td>\n",
       "      <td>VENTURE</td>\n",
       "      <td>E</td>\n",
       "      <td>4000</td>\n",
       "      <td>17.19</td>\n",
       "      <td>0.13</td>\n",
       "      <td>Y</td>\n",
       "      <td>2</td>\n",
       "    </tr>\n",
       "    <tr>\n",
       "      <th>3</th>\n",
       "      <td>58648</td>\n",
       "      <td>33</td>\n",
       "      <td>50000</td>\n",
       "      <td>RENT</td>\n",
       "      <td>4.0</td>\n",
       "      <td>DEBTCONSOLIDATION</td>\n",
       "      <td>A</td>\n",
       "      <td>7000</td>\n",
       "      <td>8.90</td>\n",
       "      <td>0.14</td>\n",
       "      <td>N</td>\n",
       "      <td>7</td>\n",
       "    </tr>\n",
       "    <tr>\n",
       "      <th>4</th>\n",
       "      <td>58649</td>\n",
       "      <td>26</td>\n",
       "      <td>102000</td>\n",
       "      <td>MORTGAGE</td>\n",
       "      <td>8.0</td>\n",
       "      <td>HOMEIMPROVEMENT</td>\n",
       "      <td>D</td>\n",
       "      <td>15000</td>\n",
       "      <td>16.32</td>\n",
       "      <td>0.15</td>\n",
       "      <td>Y</td>\n",
       "      <td>4</td>\n",
       "    </tr>\n",
       "    <tr>\n",
       "      <th>...</th>\n",
       "      <td>...</td>\n",
       "      <td>...</td>\n",
       "      <td>...</td>\n",
       "      <td>...</td>\n",
       "      <td>...</td>\n",
       "      <td>...</td>\n",
       "      <td>...</td>\n",
       "      <td>...</td>\n",
       "      <td>...</td>\n",
       "      <td>...</td>\n",
       "      <td>...</td>\n",
       "      <td>...</td>\n",
       "    </tr>\n",
       "    <tr>\n",
       "      <th>39093</th>\n",
       "      <td>97738</td>\n",
       "      <td>22</td>\n",
       "      <td>31200</td>\n",
       "      <td>MORTGAGE</td>\n",
       "      <td>2.0</td>\n",
       "      <td>DEBTCONSOLIDATION</td>\n",
       "      <td>B</td>\n",
       "      <td>3000</td>\n",
       "      <td>10.37</td>\n",
       "      <td>0.10</td>\n",
       "      <td>N</td>\n",
       "      <td>4</td>\n",
       "    </tr>\n",
       "    <tr>\n",
       "      <th>39094</th>\n",
       "      <td>97739</td>\n",
       "      <td>22</td>\n",
       "      <td>48000</td>\n",
       "      <td>MORTGAGE</td>\n",
       "      <td>6.0</td>\n",
       "      <td>EDUCATION</td>\n",
       "      <td>A</td>\n",
       "      <td>7000</td>\n",
       "      <td>6.03</td>\n",
       "      <td>0.15</td>\n",
       "      <td>N</td>\n",
       "      <td>3</td>\n",
       "    </tr>\n",
       "    <tr>\n",
       "      <th>39095</th>\n",
       "      <td>97740</td>\n",
       "      <td>51</td>\n",
       "      <td>60000</td>\n",
       "      <td>MORTGAGE</td>\n",
       "      <td>0.0</td>\n",
       "      <td>PERSONAL</td>\n",
       "      <td>A</td>\n",
       "      <td>15000</td>\n",
       "      <td>7.51</td>\n",
       "      <td>0.25</td>\n",
       "      <td>N</td>\n",
       "      <td>25</td>\n",
       "    </tr>\n",
       "    <tr>\n",
       "      <th>39096</th>\n",
       "      <td>97741</td>\n",
       "      <td>22</td>\n",
       "      <td>36000</td>\n",
       "      <td>MORTGAGE</td>\n",
       "      <td>4.0</td>\n",
       "      <td>PERSONAL</td>\n",
       "      <td>D</td>\n",
       "      <td>14000</td>\n",
       "      <td>15.62</td>\n",
       "      <td>0.39</td>\n",
       "      <td>Y</td>\n",
       "      <td>4</td>\n",
       "    </tr>\n",
       "    <tr>\n",
       "      <th>39097</th>\n",
       "      <td>97742</td>\n",
       "      <td>31</td>\n",
       "      <td>45000</td>\n",
       "      <td>RENT</td>\n",
       "      <td>6.0</td>\n",
       "      <td>DEBTCONSOLIDATION</td>\n",
       "      <td>B</td>\n",
       "      <td>19450</td>\n",
       "      <td>9.91</td>\n",
       "      <td>0.44</td>\n",
       "      <td>N</td>\n",
       "      <td>9</td>\n",
       "    </tr>\n",
       "  </tbody>\n",
       "</table>\n",
       "<p>39098 rows × 12 columns</p>\n",
       "</div>"
      ],
      "text/plain": [
       "          id  person_age  person_income person_home_ownership  \\\n",
       "0      58645          23          69000                  RENT   \n",
       "1      58646          26          96000              MORTGAGE   \n",
       "2      58647          26          30000                  RENT   \n",
       "3      58648          33          50000                  RENT   \n",
       "4      58649          26         102000              MORTGAGE   \n",
       "...      ...         ...            ...                   ...   \n",
       "39093  97738          22          31200              MORTGAGE   \n",
       "39094  97739          22          48000              MORTGAGE   \n",
       "39095  97740          51          60000              MORTGAGE   \n",
       "39096  97741          22          36000              MORTGAGE   \n",
       "39097  97742          31          45000                  RENT   \n",
       "\n",
       "       person_emp_length        loan_intent loan_grade  loan_amnt  \\\n",
       "0                    3.0    HOMEIMPROVEMENT          F      25000   \n",
       "1                    6.0           PERSONAL          C      10000   \n",
       "2                    5.0            VENTURE          E       4000   \n",
       "3                    4.0  DEBTCONSOLIDATION          A       7000   \n",
       "4                    8.0    HOMEIMPROVEMENT          D      15000   \n",
       "...                  ...                ...        ...        ...   \n",
       "39093                2.0  DEBTCONSOLIDATION          B       3000   \n",
       "39094                6.0          EDUCATION          A       7000   \n",
       "39095                0.0           PERSONAL          A      15000   \n",
       "39096                4.0           PERSONAL          D      14000   \n",
       "39097                6.0  DEBTCONSOLIDATION          B      19450   \n",
       "\n",
       "       loan_int_rate  loan_percent_income cb_person_default_on_file  \\\n",
       "0              15.76                 0.36                         N   \n",
       "1              12.68                 0.10                         Y   \n",
       "2              17.19                 0.13                         Y   \n",
       "3               8.90                 0.14                         N   \n",
       "4              16.32                 0.15                         Y   \n",
       "...              ...                  ...                       ...   \n",
       "39093          10.37                 0.10                         N   \n",
       "39094           6.03                 0.15                         N   \n",
       "39095           7.51                 0.25                         N   \n",
       "39096          15.62                 0.39                         Y   \n",
       "39097           9.91                 0.44                         N   \n",
       "\n",
       "       cb_person_cred_hist_length  \n",
       "0                               2  \n",
       "1                               4  \n",
       "2                               2  \n",
       "3                               7  \n",
       "4                               4  \n",
       "...                           ...  \n",
       "39093                           4  \n",
       "39094                           3  \n",
       "39095                          25  \n",
       "39096                           4  \n",
       "39097                           9  \n",
       "\n",
       "[39098 rows x 12 columns]"
      ]
     },
     "execution_count": 54,
     "metadata": {},
     "output_type": "execute_result"
    }
   ],
   "source": [
    "loan_test"
   ]
  },
  {
   "cell_type": "code",
   "execution_count": 55,
   "id": "a8b61470-05c1-4ca5-a741-b72aca9c4480",
   "metadata": {},
   "outputs": [
    {
     "name": "stdout",
     "output_type": "stream",
     "text": [
      "<class 'pandas.core.frame.DataFrame'>\n",
      "RangeIndex: 58645 entries, 0 to 58644\n",
      "Data columns (total 13 columns):\n",
      " #   Column                      Non-Null Count  Dtype  \n",
      "---  ------                      --------------  -----  \n",
      " 0   id                          58645 non-null  int64  \n",
      " 1   person_age                  58645 non-null  int64  \n",
      " 2   person_income               58645 non-null  int64  \n",
      " 3   person_home_ownership       58645 non-null  object \n",
      " 4   person_emp_length           58645 non-null  float64\n",
      " 5   loan_intent                 58645 non-null  object \n",
      " 6   loan_grade                  58645 non-null  object \n",
      " 7   loan_amnt                   58645 non-null  int64  \n",
      " 8   loan_int_rate               58645 non-null  float64\n",
      " 9   loan_percent_income         58645 non-null  float64\n",
      " 10  cb_person_default_on_file   58645 non-null  object \n",
      " 11  cb_person_cred_hist_length  58645 non-null  int64  \n",
      " 12  loan_status                 58645 non-null  int64  \n",
      "dtypes: float64(3), int64(6), object(4)\n",
      "memory usage: 5.8+ MB\n"
     ]
    }
   ],
   "source": [
    "loan_train.info()"
   ]
  },
  {
   "cell_type": "code",
   "execution_count": 56,
   "id": "7a22dba6-f4fa-4b45-ab7c-a84099ac7902",
   "metadata": {
    "tags": []
   },
   "outputs": [
    {
     "data": {
      "text/html": [
       "<div>\n",
       "<style scoped>\n",
       "    .dataframe tbody tr th:only-of-type {\n",
       "        vertical-align: middle;\n",
       "    }\n",
       "\n",
       "    .dataframe tbody tr th {\n",
       "        vertical-align: top;\n",
       "    }\n",
       "\n",
       "    .dataframe thead th {\n",
       "        text-align: right;\n",
       "    }\n",
       "</style>\n",
       "<table border=\"1\" class=\"dataframe\">\n",
       "  <thead>\n",
       "    <tr style=\"text-align: right;\">\n",
       "      <th></th>\n",
       "      <th>id</th>\n",
       "      <th>person_age</th>\n",
       "      <th>person_income</th>\n",
       "      <th>person_home_ownership</th>\n",
       "      <th>person_emp_length</th>\n",
       "      <th>loan_intent</th>\n",
       "      <th>loan_grade</th>\n",
       "      <th>loan_amnt</th>\n",
       "      <th>loan_int_rate</th>\n",
       "      <th>loan_percent_income</th>\n",
       "      <th>cb_person_default_on_file</th>\n",
       "      <th>cb_person_cred_hist_length</th>\n",
       "      <th>loan_status</th>\n",
       "    </tr>\n",
       "  </thead>\n",
       "  <tbody>\n",
       "    <tr>\n",
       "      <th>0</th>\n",
       "      <td>0</td>\n",
       "      <td>37</td>\n",
       "      <td>35000</td>\n",
       "      <td>RENT</td>\n",
       "      <td>0.0</td>\n",
       "      <td>EDUCATION</td>\n",
       "      <td>B</td>\n",
       "      <td>6000</td>\n",
       "      <td>11.49</td>\n",
       "      <td>0.17</td>\n",
       "      <td>N</td>\n",
       "      <td>14</td>\n",
       "      <td>0</td>\n",
       "    </tr>\n",
       "    <tr>\n",
       "      <th>1</th>\n",
       "      <td>1</td>\n",
       "      <td>22</td>\n",
       "      <td>56000</td>\n",
       "      <td>OWN</td>\n",
       "      <td>6.0</td>\n",
       "      <td>MEDICAL</td>\n",
       "      <td>C</td>\n",
       "      <td>4000</td>\n",
       "      <td>13.35</td>\n",
       "      <td>0.07</td>\n",
       "      <td>N</td>\n",
       "      <td>2</td>\n",
       "      <td>0</td>\n",
       "    </tr>\n",
       "    <tr>\n",
       "      <th>2</th>\n",
       "      <td>2</td>\n",
       "      <td>29</td>\n",
       "      <td>28800</td>\n",
       "      <td>OWN</td>\n",
       "      <td>8.0</td>\n",
       "      <td>PERSONAL</td>\n",
       "      <td>A</td>\n",
       "      <td>6000</td>\n",
       "      <td>8.90</td>\n",
       "      <td>0.21</td>\n",
       "      <td>N</td>\n",
       "      <td>10</td>\n",
       "      <td>0</td>\n",
       "    </tr>\n",
       "    <tr>\n",
       "      <th>3</th>\n",
       "      <td>3</td>\n",
       "      <td>30</td>\n",
       "      <td>70000</td>\n",
       "      <td>RENT</td>\n",
       "      <td>14.0</td>\n",
       "      <td>VENTURE</td>\n",
       "      <td>B</td>\n",
       "      <td>12000</td>\n",
       "      <td>11.11</td>\n",
       "      <td>0.17</td>\n",
       "      <td>N</td>\n",
       "      <td>5</td>\n",
       "      <td>0</td>\n",
       "    </tr>\n",
       "    <tr>\n",
       "      <th>4</th>\n",
       "      <td>4</td>\n",
       "      <td>22</td>\n",
       "      <td>60000</td>\n",
       "      <td>RENT</td>\n",
       "      <td>2.0</td>\n",
       "      <td>MEDICAL</td>\n",
       "      <td>A</td>\n",
       "      <td>6000</td>\n",
       "      <td>6.92</td>\n",
       "      <td>0.10</td>\n",
       "      <td>N</td>\n",
       "      <td>3</td>\n",
       "      <td>0</td>\n",
       "    </tr>\n",
       "  </tbody>\n",
       "</table>\n",
       "</div>"
      ],
      "text/plain": [
       "   id  person_age  person_income person_home_ownership  person_emp_length  \\\n",
       "0   0          37          35000                  RENT                0.0   \n",
       "1   1          22          56000                   OWN                6.0   \n",
       "2   2          29          28800                   OWN                8.0   \n",
       "3   3          30          70000                  RENT               14.0   \n",
       "4   4          22          60000                  RENT                2.0   \n",
       "\n",
       "  loan_intent loan_grade  loan_amnt  loan_int_rate  loan_percent_income  \\\n",
       "0   EDUCATION          B       6000          11.49                 0.17   \n",
       "1     MEDICAL          C       4000          13.35                 0.07   \n",
       "2    PERSONAL          A       6000           8.90                 0.21   \n",
       "3     VENTURE          B      12000          11.11                 0.17   \n",
       "4     MEDICAL          A       6000           6.92                 0.10   \n",
       "\n",
       "  cb_person_default_on_file  cb_person_cred_hist_length  loan_status  \n",
       "0                         N                          14            0  \n",
       "1                         N                           2            0  \n",
       "2                         N                          10            0  \n",
       "3                         N                           5            0  \n",
       "4                         N                           3            0  "
      ]
     },
     "execution_count": 56,
     "metadata": {},
     "output_type": "execute_result"
    }
   ],
   "source": [
    "loan_train.head()"
   ]
  },
  {
   "cell_type": "code",
   "execution_count": 57,
   "id": "42729a0b-90fd-47ba-a674-860224b3652d",
   "metadata": {
    "tags": []
   },
   "outputs": [
    {
     "data": {
      "text/plain": [
       "id                            0\n",
       "person_age                    0\n",
       "person_income                 0\n",
       "person_home_ownership         0\n",
       "person_emp_length             0\n",
       "loan_intent                   0\n",
       "loan_grade                    0\n",
       "loan_amnt                     0\n",
       "loan_int_rate                 0\n",
       "loan_percent_income           0\n",
       "cb_person_default_on_file     0\n",
       "cb_person_cred_hist_length    0\n",
       "loan_status                   0\n",
       "dtype: int64"
      ]
     },
     "execution_count": 57,
     "metadata": {},
     "output_type": "execute_result"
    }
   ],
   "source": [
    "loan_train.isna().sum()"
   ]
  },
  {
   "cell_type": "code",
   "execution_count": 58,
   "id": "46b98727-1315-4baf-8922-f5ea346e1d64",
   "metadata": {
    "tags": []
   },
   "outputs": [
    {
     "data": {
      "text/html": [
       "<div>\n",
       "<style scoped>\n",
       "    .dataframe tbody tr th:only-of-type {\n",
       "        vertical-align: middle;\n",
       "    }\n",
       "\n",
       "    .dataframe tbody tr th {\n",
       "        vertical-align: top;\n",
       "    }\n",
       "\n",
       "    .dataframe thead th {\n",
       "        text-align: right;\n",
       "    }\n",
       "</style>\n",
       "<table border=\"1\" class=\"dataframe\">\n",
       "  <thead>\n",
       "    <tr style=\"text-align: right;\">\n",
       "      <th></th>\n",
       "      <th>id</th>\n",
       "      <th>person_age</th>\n",
       "      <th>person_income</th>\n",
       "      <th>person_emp_length</th>\n",
       "      <th>loan_amnt</th>\n",
       "      <th>loan_int_rate</th>\n",
       "      <th>loan_percent_income</th>\n",
       "      <th>cb_person_cred_hist_length</th>\n",
       "      <th>loan_status</th>\n",
       "    </tr>\n",
       "  </thead>\n",
       "  <tbody>\n",
       "    <tr>\n",
       "      <th>count</th>\n",
       "      <td>58645.000000</td>\n",
       "      <td>58645.000000</td>\n",
       "      <td>5.864500e+04</td>\n",
       "      <td>58645.000000</td>\n",
       "      <td>58645.000000</td>\n",
       "      <td>58645.000000</td>\n",
       "      <td>58645.000000</td>\n",
       "      <td>58645.000000</td>\n",
       "      <td>58645.000000</td>\n",
       "    </tr>\n",
       "    <tr>\n",
       "      <th>mean</th>\n",
       "      <td>29322.000000</td>\n",
       "      <td>27.550857</td>\n",
       "      <td>6.404617e+04</td>\n",
       "      <td>4.701015</td>\n",
       "      <td>9217.556518</td>\n",
       "      <td>10.677874</td>\n",
       "      <td>0.159238</td>\n",
       "      <td>5.813556</td>\n",
       "      <td>0.142382</td>\n",
       "    </tr>\n",
       "    <tr>\n",
       "      <th>std</th>\n",
       "      <td>16929.497605</td>\n",
       "      <td>6.033216</td>\n",
       "      <td>3.793111e+04</td>\n",
       "      <td>3.959784</td>\n",
       "      <td>5563.807384</td>\n",
       "      <td>3.034697</td>\n",
       "      <td>0.091692</td>\n",
       "      <td>4.029196</td>\n",
       "      <td>0.349445</td>\n",
       "    </tr>\n",
       "    <tr>\n",
       "      <th>min</th>\n",
       "      <td>0.000000</td>\n",
       "      <td>20.000000</td>\n",
       "      <td>4.200000e+03</td>\n",
       "      <td>0.000000</td>\n",
       "      <td>500.000000</td>\n",
       "      <td>5.420000</td>\n",
       "      <td>0.000000</td>\n",
       "      <td>2.000000</td>\n",
       "      <td>0.000000</td>\n",
       "    </tr>\n",
       "    <tr>\n",
       "      <th>25%</th>\n",
       "      <td>14661.000000</td>\n",
       "      <td>23.000000</td>\n",
       "      <td>4.200000e+04</td>\n",
       "      <td>2.000000</td>\n",
       "      <td>5000.000000</td>\n",
       "      <td>7.880000</td>\n",
       "      <td>0.090000</td>\n",
       "      <td>3.000000</td>\n",
       "      <td>0.000000</td>\n",
       "    </tr>\n",
       "    <tr>\n",
       "      <th>50%</th>\n",
       "      <td>29322.000000</td>\n",
       "      <td>26.000000</td>\n",
       "      <td>5.800000e+04</td>\n",
       "      <td>4.000000</td>\n",
       "      <td>8000.000000</td>\n",
       "      <td>10.750000</td>\n",
       "      <td>0.140000</td>\n",
       "      <td>4.000000</td>\n",
       "      <td>0.000000</td>\n",
       "    </tr>\n",
       "    <tr>\n",
       "      <th>75%</th>\n",
       "      <td>43983.000000</td>\n",
       "      <td>30.000000</td>\n",
       "      <td>7.560000e+04</td>\n",
       "      <td>7.000000</td>\n",
       "      <td>12000.000000</td>\n",
       "      <td>12.990000</td>\n",
       "      <td>0.210000</td>\n",
       "      <td>8.000000</td>\n",
       "      <td>0.000000</td>\n",
       "    </tr>\n",
       "    <tr>\n",
       "      <th>max</th>\n",
       "      <td>58644.000000</td>\n",
       "      <td>123.000000</td>\n",
       "      <td>1.900000e+06</td>\n",
       "      <td>123.000000</td>\n",
       "      <td>35000.000000</td>\n",
       "      <td>23.220000</td>\n",
       "      <td>0.830000</td>\n",
       "      <td>30.000000</td>\n",
       "      <td>1.000000</td>\n",
       "    </tr>\n",
       "  </tbody>\n",
       "</table>\n",
       "</div>"
      ],
      "text/plain": [
       "                 id    person_age  person_income  person_emp_length  \\\n",
       "count  58645.000000  58645.000000   5.864500e+04       58645.000000   \n",
       "mean   29322.000000     27.550857   6.404617e+04           4.701015   \n",
       "std    16929.497605      6.033216   3.793111e+04           3.959784   \n",
       "min        0.000000     20.000000   4.200000e+03           0.000000   \n",
       "25%    14661.000000     23.000000   4.200000e+04           2.000000   \n",
       "50%    29322.000000     26.000000   5.800000e+04           4.000000   \n",
       "75%    43983.000000     30.000000   7.560000e+04           7.000000   \n",
       "max    58644.000000    123.000000   1.900000e+06         123.000000   \n",
       "\n",
       "          loan_amnt  loan_int_rate  loan_percent_income  \\\n",
       "count  58645.000000   58645.000000         58645.000000   \n",
       "mean    9217.556518      10.677874             0.159238   \n",
       "std     5563.807384       3.034697             0.091692   \n",
       "min      500.000000       5.420000             0.000000   \n",
       "25%     5000.000000       7.880000             0.090000   \n",
       "50%     8000.000000      10.750000             0.140000   \n",
       "75%    12000.000000      12.990000             0.210000   \n",
       "max    35000.000000      23.220000             0.830000   \n",
       "\n",
       "       cb_person_cred_hist_length   loan_status  \n",
       "count                58645.000000  58645.000000  \n",
       "mean                     5.813556      0.142382  \n",
       "std                      4.029196      0.349445  \n",
       "min                      2.000000      0.000000  \n",
       "25%                      3.000000      0.000000  \n",
       "50%                      4.000000      0.000000  \n",
       "75%                      8.000000      0.000000  \n",
       "max                     30.000000      1.000000  "
      ]
     },
     "execution_count": 58,
     "metadata": {},
     "output_type": "execute_result"
    }
   ],
   "source": [
    "loan_train.describe()"
   ]
  },
  {
   "cell_type": "code",
   "execution_count": 59,
   "id": "d8a9f330-8cf7-42fa-b2b4-a9a8047d41c9",
   "metadata": {
    "tags": []
   },
   "outputs": [
    {
     "name": "stderr",
     "output_type": "stream",
     "text": [
      "/var/folders/jx/cpydz30j3y523cvb2w4sjv7h0000gn/T/ipykernel_3950/2213753118.py:1: FutureWarning: The default value of numeric_only in DataFrame.corr is deprecated. In a future version, it will default to False. Select only valid columns or specify the value of numeric_only to silence this warning.\n",
      "  loan_train.corr()\n"
     ]
    },
    {
     "data": {
      "text/html": [
       "<div>\n",
       "<style scoped>\n",
       "    .dataframe tbody tr th:only-of-type {\n",
       "        vertical-align: middle;\n",
       "    }\n",
       "\n",
       "    .dataframe tbody tr th {\n",
       "        vertical-align: top;\n",
       "    }\n",
       "\n",
       "    .dataframe thead th {\n",
       "        text-align: right;\n",
       "    }\n",
       "</style>\n",
       "<table border=\"1\" class=\"dataframe\">\n",
       "  <thead>\n",
       "    <tr style=\"text-align: right;\">\n",
       "      <th></th>\n",
       "      <th>id</th>\n",
       "      <th>person_age</th>\n",
       "      <th>person_income</th>\n",
       "      <th>person_emp_length</th>\n",
       "      <th>loan_amnt</th>\n",
       "      <th>loan_int_rate</th>\n",
       "      <th>loan_percent_income</th>\n",
       "      <th>cb_person_cred_hist_length</th>\n",
       "      <th>loan_status</th>\n",
       "    </tr>\n",
       "  </thead>\n",
       "  <tbody>\n",
       "    <tr>\n",
       "      <th>id</th>\n",
       "      <td>1.000000</td>\n",
       "      <td>0.008608</td>\n",
       "      <td>-0.001896</td>\n",
       "      <td>0.005376</td>\n",
       "      <td>-0.000403</td>\n",
       "      <td>-0.003454</td>\n",
       "      <td>-0.002677</td>\n",
       "      <td>0.008139</td>\n",
       "      <td>-0.008138</td>\n",
       "    </tr>\n",
       "    <tr>\n",
       "      <th>person_age</th>\n",
       "      <td>0.008608</td>\n",
       "      <td>1.000000</td>\n",
       "      <td>0.102176</td>\n",
       "      <td>0.121276</td>\n",
       "      <td>0.050378</td>\n",
       "      <td>0.009653</td>\n",
       "      <td>-0.031975</td>\n",
       "      <td>0.874260</td>\n",
       "      <td>-0.001130</td>\n",
       "    </tr>\n",
       "    <tr>\n",
       "      <th>person_income</th>\n",
       "      <td>-0.001896</td>\n",
       "      <td>0.102176</td>\n",
       "      <td>1.000000</td>\n",
       "      <td>0.164042</td>\n",
       "      <td>0.310942</td>\n",
       "      <td>-0.057611</td>\n",
       "      <td>-0.280314</td>\n",
       "      <td>0.082727</td>\n",
       "      <td>-0.169956</td>\n",
       "    </tr>\n",
       "    <tr>\n",
       "      <th>person_emp_length</th>\n",
       "      <td>0.005376</td>\n",
       "      <td>0.121276</td>\n",
       "      <td>0.164042</td>\n",
       "      <td>1.000000</td>\n",
       "      <td>0.092046</td>\n",
       "      <td>-0.101910</td>\n",
       "      <td>-0.065824</td>\n",
       "      <td>0.102842</td>\n",
       "      <td>-0.100428</td>\n",
       "    </tr>\n",
       "    <tr>\n",
       "      <th>loan_amnt</th>\n",
       "      <td>-0.000403</td>\n",
       "      <td>0.050378</td>\n",
       "      <td>0.310942</td>\n",
       "      <td>0.092046</td>\n",
       "      <td>1.000000</td>\n",
       "      <td>0.113582</td>\n",
       "      <td>0.647266</td>\n",
       "      <td>0.045720</td>\n",
       "      <td>0.144982</td>\n",
       "    </tr>\n",
       "    <tr>\n",
       "      <th>loan_int_rate</th>\n",
       "      <td>-0.003454</td>\n",
       "      <td>0.009653</td>\n",
       "      <td>-0.057611</td>\n",
       "      <td>-0.101910</td>\n",
       "      <td>0.113582</td>\n",
       "      <td>1.000000</td>\n",
       "      <td>0.152201</td>\n",
       "      <td>0.007535</td>\n",
       "      <td>0.338948</td>\n",
       "    </tr>\n",
       "    <tr>\n",
       "      <th>loan_percent_income</th>\n",
       "      <td>-0.002677</td>\n",
       "      <td>-0.031975</td>\n",
       "      <td>-0.280314</td>\n",
       "      <td>-0.065824</td>\n",
       "      <td>0.647266</td>\n",
       "      <td>0.152201</td>\n",
       "      <td>1.000000</td>\n",
       "      <td>-0.023202</td>\n",
       "      <td>0.378280</td>\n",
       "    </tr>\n",
       "    <tr>\n",
       "      <th>cb_person_cred_hist_length</th>\n",
       "      <td>0.008139</td>\n",
       "      <td>0.874260</td>\n",
       "      <td>0.082727</td>\n",
       "      <td>0.102842</td>\n",
       "      <td>0.045720</td>\n",
       "      <td>0.007535</td>\n",
       "      <td>-0.023202</td>\n",
       "      <td>1.000000</td>\n",
       "      <td>-0.003030</td>\n",
       "    </tr>\n",
       "    <tr>\n",
       "      <th>loan_status</th>\n",
       "      <td>-0.008138</td>\n",
       "      <td>-0.001130</td>\n",
       "      <td>-0.169956</td>\n",
       "      <td>-0.100428</td>\n",
       "      <td>0.144982</td>\n",
       "      <td>0.338948</td>\n",
       "      <td>0.378280</td>\n",
       "      <td>-0.003030</td>\n",
       "      <td>1.000000</td>\n",
       "    </tr>\n",
       "  </tbody>\n",
       "</table>\n",
       "</div>"
      ],
      "text/plain": [
       "                                  id  person_age  person_income  \\\n",
       "id                          1.000000    0.008608      -0.001896   \n",
       "person_age                  0.008608    1.000000       0.102176   \n",
       "person_income              -0.001896    0.102176       1.000000   \n",
       "person_emp_length           0.005376    0.121276       0.164042   \n",
       "loan_amnt                  -0.000403    0.050378       0.310942   \n",
       "loan_int_rate              -0.003454    0.009653      -0.057611   \n",
       "loan_percent_income        -0.002677   -0.031975      -0.280314   \n",
       "cb_person_cred_hist_length  0.008139    0.874260       0.082727   \n",
       "loan_status                -0.008138   -0.001130      -0.169956   \n",
       "\n",
       "                            person_emp_length  loan_amnt  loan_int_rate  \\\n",
       "id                                   0.005376  -0.000403      -0.003454   \n",
       "person_age                           0.121276   0.050378       0.009653   \n",
       "person_income                        0.164042   0.310942      -0.057611   \n",
       "person_emp_length                    1.000000   0.092046      -0.101910   \n",
       "loan_amnt                            0.092046   1.000000       0.113582   \n",
       "loan_int_rate                       -0.101910   0.113582       1.000000   \n",
       "loan_percent_income                 -0.065824   0.647266       0.152201   \n",
       "cb_person_cred_hist_length           0.102842   0.045720       0.007535   \n",
       "loan_status                         -0.100428   0.144982       0.338948   \n",
       "\n",
       "                            loan_percent_income  cb_person_cred_hist_length  \\\n",
       "id                                    -0.002677                    0.008139   \n",
       "person_age                            -0.031975                    0.874260   \n",
       "person_income                         -0.280314                    0.082727   \n",
       "person_emp_length                     -0.065824                    0.102842   \n",
       "loan_amnt                              0.647266                    0.045720   \n",
       "loan_int_rate                          0.152201                    0.007535   \n",
       "loan_percent_income                    1.000000                   -0.023202   \n",
       "cb_person_cred_hist_length            -0.023202                    1.000000   \n",
       "loan_status                            0.378280                   -0.003030   \n",
       "\n",
       "                            loan_status  \n",
       "id                            -0.008138  \n",
       "person_age                    -0.001130  \n",
       "person_income                 -0.169956  \n",
       "person_emp_length             -0.100428  \n",
       "loan_amnt                      0.144982  \n",
       "loan_int_rate                  0.338948  \n",
       "loan_percent_income            0.378280  \n",
       "cb_person_cred_hist_length    -0.003030  \n",
       "loan_status                    1.000000  "
      ]
     },
     "execution_count": 59,
     "metadata": {},
     "output_type": "execute_result"
    }
   ],
   "source": [
    "loan_train.corr()"
   ]
  },
  {
   "cell_type": "code",
   "execution_count": 78,
   "id": "9d0a3d1a-7365-48af-a683-82a14147ce3c",
   "metadata": {
    "tags": []
   },
   "outputs": [
    {
     "data": {
      "image/png": "[encoded data removed]",
      "text/plain": [
       "<Figure size 640x480 with 1 Axes>"
      ]
     },
     "metadata": {},
     "output_type": "display_data"
    }
   ],
   "source": [
    "loan_train['loan_status'].value_counts().plot.bar(title='Approved or Denied');"
   ]
  },
  {
   "cell_type": "code",
   "execution_count": 73,
   "id": "73c91faa-4b2d-4a29-be13-1b9ace84fe13",
   "metadata": {
    "tags": []
   },
   "outputs": [
    {
     "data": {
      "image/png": "[encoded data removed]",
      "text/plain": [
       "<Figure size 1000x1000 with 1 Axes>"
      ]
     },
     "metadata": {},
     "output_type": "display_data"
    }
   ],
   "source": [
    "plt.subplot()\n",
    "loan_train['person_age'].value_counts(normalize=True).plot.bar(figsize=(10, 10), title='Age');"
   ]
  },
  {
   "cell_type": "code",
   "execution_count": 76,
   "id": "8e03eb4e-7057-4631-a708-be804eb4a52f",
   "metadata": {
    "tags": []
   },
   "outputs": [
    {
     "data": {
      "image/png": "[encoded data removed]",
      "text/plain": [
       "<Figure size 1000x1000 with 1 Axes>"
      ]
     },
     "metadata": {},
     "output_type": "display_data"
    }
   ],
   "source": [
    "plt.subplot()\n",
    "loan_train['person_emp_length'].value_counts(normalize=True).plot.bar(figsize=(10, 10), title='Employment Length');"
   ]
  },
  {
   "cell_type": "code",
   "execution_count": 77,
   "id": "50ff038c-ffd8-46bc-8766-f673eb77eeaa",
   "metadata": {
    "tags": []
   },
   "outputs": [
    {
     "data": {
      "image/png": "[encoded data removed]",
      "text/plain": [
       "<Figure size 1000x1000 with 1 Axes>"
      ]
     },
     "metadata": {},
     "output_type": "display_data"
    }
   ],
   "source": [
    "plt.subplot()\n",
    "loan_train['cb_person_cred_hist_length'].value_counts(normalize=True).plot.bar(figsize=(10, 10), title='Credit History Length');"
   ]
  },
  {
   "cell_type": "code",
   "execution_count": 88,
   "id": "6852feb3-a62a-44f0-ac01-526e5b69035d",
   "metadata": {
    "tags": []
   },
   "outputs": [
    {
     "data": {
      "image/png": "[encoded data removed]",
      "text/plain": [
       "<Figure size 500x500 with 1 Axes>"
      ]
     },
     "metadata": {},
     "output_type": "display_data"
    }
   ],
   "source": [
    "plt.subplot\n",
    "sns.displot(loan_train['person_income']);"
   ]
  },
  {
   "cell_type": "code",
   "execution_count": 90,
   "id": "9e09baba-0bf6-4540-96b6-19381a560a32",
   "metadata": {
    "tags": []
   },
   "outputs": [
    {
     "data": {
      "image/png": "[encoded data removed]",
      "text/plain": [
       "<Figure size 640x480 with 1 Axes>"
      ]
     },
     "metadata": {},
     "output_type": "display_data"
    }
   ],
   "source": [
    "plt.subplot\n",
    "loan_train['person_income'].plot.box();"
   ]
  },
  {
   "cell_type": "code",
   "execution_count": 83,
   "id": "8c5bbcb1-2d77-4085-a7ea-f5c6468d0122",
   "metadata": {
    "tags": []
   },
   "outputs": [
    {
     "data": {
      "image/png": "[encoded data removed]",
      "text/plain": [
       "<Figure size 640x480 with 1 Axes>"
      ]
     },
     "metadata": {},
     "output_type": "display_data"
    }
   ],
   "source": [
    "plt.subplot\n",
    "loan_train['person_home_ownership'].value_counts(normalize=True).plot.bar(title = 'Home Ownership');"
   ]
  },
  {
   "cell_type": "code",
   "execution_count": 80,
   "id": "2dadefef-b43d-4268-8992-43a5a3773bc9",
   "metadata": {
    "tags": []
   },
   "outputs": [
    {
     "data": {
      "text/html": [
       "<div>\n",
       "<style scoped>\n",
       "    .dataframe tbody tr th:only-of-type {\n",
       "        vertical-align: middle;\n",
       "    }\n",
       "\n",
       "    .dataframe tbody tr th {\n",
       "        vertical-align: top;\n",
       "    }\n",
       "\n",
       "    .dataframe thead th {\n",
       "        text-align: right;\n",
       "    }\n",
       "</style>\n",
       "<table border=\"1\" class=\"dataframe\">\n",
       "  <thead>\n",
       "    <tr style=\"text-align: right;\">\n",
       "      <th></th>\n",
       "      <th>id</th>\n",
       "      <th>person_age</th>\n",
       "      <th>person_income</th>\n",
       "      <th>person_home_ownership</th>\n",
       "      <th>person_emp_length</th>\n",
       "      <th>loan_intent</th>\n",
       "      <th>loan_grade</th>\n",
       "      <th>loan_amnt</th>\n",
       "      <th>loan_int_rate</th>\n",
       "      <th>loan_percent_income</th>\n",
       "      <th>cb_person_default_on_file</th>\n",
       "      <th>cb_person_cred_hist_length</th>\n",
       "      <th>loan_status</th>\n",
       "    </tr>\n",
       "  </thead>\n",
       "  <tbody>\n",
       "    <tr>\n",
       "      <th>0</th>\n",
       "      <td>0</td>\n",
       "      <td>37</td>\n",
       "      <td>35000</td>\n",
       "      <td>RENT</td>\n",
       "      <td>0.0</td>\n",
       "      <td>EDUCATION</td>\n",
       "      <td>B</td>\n",
       "      <td>6000</td>\n",
       "      <td>11.49</td>\n",
       "      <td>0.17</td>\n",
       "      <td>N</td>\n",
       "      <td>14</td>\n",
       "      <td>0</td>\n",
       "    </tr>\n",
       "    <tr>\n",
       "      <th>1</th>\n",
       "      <td>1</td>\n",
       "      <td>22</td>\n",
       "      <td>56000</td>\n",
       "      <td>OWN</td>\n",
       "      <td>6.0</td>\n",
       "      <td>MEDICAL</td>\n",
       "      <td>C</td>\n",
       "      <td>4000</td>\n",
       "      <td>13.35</td>\n",
       "      <td>0.07</td>\n",
       "      <td>N</td>\n",
       "      <td>2</td>\n",
       "      <td>0</td>\n",
       "    </tr>\n",
       "    <tr>\n",
       "      <th>2</th>\n",
       "      <td>2</td>\n",
       "      <td>29</td>\n",
       "      <td>28800</td>\n",
       "      <td>OWN</td>\n",
       "      <td>8.0</td>\n",
       "      <td>PERSONAL</td>\n",
       "      <td>A</td>\n",
       "      <td>6000</td>\n",
       "      <td>8.90</td>\n",
       "      <td>0.21</td>\n",
       "      <td>N</td>\n",
       "      <td>10</td>\n",
       "      <td>0</td>\n",
       "    </tr>\n",
       "    <tr>\n",
       "      <th>3</th>\n",
       "      <td>3</td>\n",
       "      <td>30</td>\n",
       "      <td>70000</td>\n",
       "      <td>RENT</td>\n",
       "      <td>14.0</td>\n",
       "      <td>VENTURE</td>\n",
       "      <td>B</td>\n",
       "      <td>12000</td>\n",
       "      <td>11.11</td>\n",
       "      <td>0.17</td>\n",
       "      <td>N</td>\n",
       "      <td>5</td>\n",
       "      <td>0</td>\n",
       "    </tr>\n",
       "    <tr>\n",
       "      <th>4</th>\n",
       "      <td>4</td>\n",
       "      <td>22</td>\n",
       "      <td>60000</td>\n",
       "      <td>RENT</td>\n",
       "      <td>2.0</td>\n",
       "      <td>MEDICAL</td>\n",
       "      <td>A</td>\n",
       "      <td>6000</td>\n",
       "      <td>6.92</td>\n",
       "      <td>0.10</td>\n",
       "      <td>N</td>\n",
       "      <td>3</td>\n",
       "      <td>0</td>\n",
       "    </tr>\n",
       "  </tbody>\n",
       "</table>\n",
       "</div>"
      ],
      "text/plain": [
       "   id  person_age  person_income person_home_ownership  person_emp_length  \\\n",
       "0   0          37          35000                  RENT                0.0   \n",
       "1   1          22          56000                   OWN                6.0   \n",
       "2   2          29          28800                   OWN                8.0   \n",
       "3   3          30          70000                  RENT               14.0   \n",
       "4   4          22          60000                  RENT                2.0   \n",
       "\n",
       "  loan_intent loan_grade  loan_amnt  loan_int_rate  loan_percent_income  \\\n",
       "0   EDUCATION          B       6000          11.49                 0.17   \n",
       "1     MEDICAL          C       4000          13.35                 0.07   \n",
       "2    PERSONAL          A       6000           8.90                 0.21   \n",
       "3     VENTURE          B      12000          11.11                 0.17   \n",
       "4     MEDICAL          A       6000           6.92                 0.10   \n",
       "\n",
       "  cb_person_default_on_file  cb_person_cred_hist_length  loan_status  \n",
       "0                         N                          14            0  \n",
       "1                         N                           2            0  \n",
       "2                         N                          10            0  \n",
       "3                         N                           5            0  \n",
       "4                         N                           3            0  "
      ]
     },
     "execution_count": 80,
     "metadata": {},
     "output_type": "execute_result"
    }
   ],
   "source": [
    "loan_train.head()"
   ]
  },
  {
   "cell_type": "code",
   "execution_count": 84,
   "id": "65b71712-60dc-4383-a76c-4799f171d2db",
   "metadata": {
    "tags": []
   },
   "outputs": [
    {
     "data": {
      "image/png": "[encoded data removed]",
      "text/plain": [
       "<Figure size 640x480 with 1 Axes>"
      ]
     },
     "metadata": {},
     "output_type": "display_data"
    }
   ],
   "source": [
    "plt.subplot\n",
    "loan_train['loan_intent'].value_counts(normalize=True).plot.bar(title = 'Loan Intent');"
   ]
  },
  {
   "cell_type": "code",
   "execution_count": null,
   "id": "3b179ad4-6e32-414d-9aa1-1e2b6a8da124",
   "metadata": {},
   "outputs": [],
   "source": []
  }
 ],
 "metadata": {
  "kernelspec": {
   "display_name": "Python (dojo-env)",
   "language": "python",
   "name": "dojo-env"
  },
  "language_info": {
   "codemirror_mode": {
    "name": "ipython",
    "version": 3
   },
   "file_extension": ".py",
   "mimetype": "text/x-python",
   "name": "python",
   "nbconvert_exporter": "python",
   "pygments_lexer": "ipython3",
   "version": "3.10.10"
  },
  "toc-autonumbering": false,
  "toc-showcode": false,
  "toc-showmarkdowntxt": false,
  "toc-showtags": false,
  "widgets": {
   "application/vnd.jupyter.widget-state+json": {
    "state": {},
    "version_major": 2,
    "version_minor": 0
   }
  }
 },
 "nbformat": 4,
 "nbformat_minor": 5
}
