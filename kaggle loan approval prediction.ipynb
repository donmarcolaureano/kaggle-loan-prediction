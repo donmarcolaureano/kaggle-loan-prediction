{
 "cells": [
  {
   "cell_type": "markdown",
   "id": "6d6100b9-933c-449b-aba9-27514e944b06",
   "metadata": {
    "tags": []
   },
   "source": [
    "## Packages"
   ]
  },
  {
   "cell_type": "code",
   "execution_count": 63,
   "id": "fc16d0ad-ffc0-4102-afd8-6e1e853ae56a",
   "metadata": {
    "tags": []
   },
   "outputs": [],
   "source": [
    "import pandas as pd\n",
    "import numpy as np\n",
    "import datetime as dt\n",
    "import matplotlib as mpl\n",
    "import matplotlib.pyplot as plt\n",
    "import seaborn as sns\n",
    "import matplotlib.ticker as mticks\n",
    "import matplotlib.dates as mdates\n",
    "import os\n",
    "import itertools\n",
    "import statsmodels.tsa.api as tsa\n",
    "from pmdarima.model_selection import train_test_split\n",
    "from pmdarima.arima.utils import ndiffs\n",
    "from statsmodels.tsa.arima.model import ARIMA\n",
    "from sklearn.metrics import mean_squared_error\n",
    "import warnings"
   ]
  },
  {
   "cell_type": "markdown",
   "id": "e31e5335-6423-42f8-85f5-2f40e92e9c28",
   "metadata": {
    "tags": []
   },
   "source": [
    "# Data"
   ]
  },
  {
   "cell_type": "code",
   "execution_count": 14,
   "id": "49ade67d-a5f8-471e-abca-e229134c8649",
   "metadata": {
    "tags": []
   },
   "outputs": [],
   "source": [
    "loan_data = pd.read_csv('/Users/marcolaureano2/Documents/GitHub/kaggle-loan-prediction/credit_risk_dataset.csv')"
   ]
  },
  {
   "cell_type": "code",
   "execution_count": 15,
   "id": "a34d506e-01ae-44f2-b668-12a340ce91bc",
   "metadata": {
    "tags": []
   },
   "outputs": [
    {
     "data": {
      "text/html": [
       "<div>\n",
       "<style scoped>\n",
       "    .dataframe tbody tr th:only-of-type {\n",
       "        vertical-align: middle;\n",
       "    }\n",
       "\n",
       "    .dataframe tbody tr th {\n",
       "        vertical-align: top;\n",
       "    }\n",
       "\n",
       "    .dataframe thead th {\n",
       "        text-align: right;\n",
       "    }\n",
       "</style>\n",
       "<table border=\"1\" class=\"dataframe\">\n",
       "  <thead>\n",
       "    <tr style=\"text-align: right;\">\n",
       "      <th></th>\n",
       "      <th>person_age</th>\n",
       "      <th>person_income</th>\n",
       "      <th>person_home_ownership</th>\n",
       "      <th>person_emp_length</th>\n",
       "      <th>loan_intent</th>\n",
       "      <th>loan_grade</th>\n",
       "      <th>loan_amnt</th>\n",
       "      <th>loan_int_rate</th>\n",
       "      <th>loan_status</th>\n",
       "      <th>loan_percent_income</th>\n",
       "      <th>cb_person_default_on_file</th>\n",
       "      <th>cb_person_cred_hist_length</th>\n",
       "    </tr>\n",
       "  </thead>\n",
       "  <tbody>\n",
       "    <tr>\n",
       "      <th>0</th>\n",
       "      <td>22</td>\n",
       "      <td>59000</td>\n",
       "      <td>RENT</td>\n",
       "      <td>123.0</td>\n",
       "      <td>PERSONAL</td>\n",
       "      <td>D</td>\n",
       "      <td>35000</td>\n",
       "      <td>16.02</td>\n",
       "      <td>1</td>\n",
       "      <td>0.59</td>\n",
       "      <td>Y</td>\n",
       "      <td>3</td>\n",
       "    </tr>\n",
       "    <tr>\n",
       "      <th>1</th>\n",
       "      <td>21</td>\n",
       "      <td>9600</td>\n",
       "      <td>OWN</td>\n",
       "      <td>5.0</td>\n",
       "      <td>EDUCATION</td>\n",
       "      <td>B</td>\n",
       "      <td>1000</td>\n",
       "      <td>11.14</td>\n",
       "      <td>0</td>\n",
       "      <td>0.10</td>\n",
       "      <td>N</td>\n",
       "      <td>2</td>\n",
       "    </tr>\n",
       "    <tr>\n",
       "      <th>2</th>\n",
       "      <td>25</td>\n",
       "      <td>9600</td>\n",
       "      <td>MORTGAGE</td>\n",
       "      <td>1.0</td>\n",
       "      <td>MEDICAL</td>\n",
       "      <td>C</td>\n",
       "      <td>5500</td>\n",
       "      <td>12.87</td>\n",
       "      <td>1</td>\n",
       "      <td>0.57</td>\n",
       "      <td>N</td>\n",
       "      <td>3</td>\n",
       "    </tr>\n",
       "    <tr>\n",
       "      <th>3</th>\n",
       "      <td>23</td>\n",
       "      <td>65500</td>\n",
       "      <td>RENT</td>\n",
       "      <td>4.0</td>\n",
       "      <td>MEDICAL</td>\n",
       "      <td>C</td>\n",
       "      <td>35000</td>\n",
       "      <td>15.23</td>\n",
       "      <td>1</td>\n",
       "      <td>0.53</td>\n",
       "      <td>N</td>\n",
       "      <td>2</td>\n",
       "    </tr>\n",
       "    <tr>\n",
       "      <th>4</th>\n",
       "      <td>24</td>\n",
       "      <td>54400</td>\n",
       "      <td>RENT</td>\n",
       "      <td>8.0</td>\n",
       "      <td>MEDICAL</td>\n",
       "      <td>C</td>\n",
       "      <td>35000</td>\n",
       "      <td>14.27</td>\n",
       "      <td>1</td>\n",
       "      <td>0.55</td>\n",
       "      <td>Y</td>\n",
       "      <td>4</td>\n",
       "    </tr>\n",
       "    <tr>\n",
       "      <th>...</th>\n",
       "      <td>...</td>\n",
       "      <td>...</td>\n",
       "      <td>...</td>\n",
       "      <td>...</td>\n",
       "      <td>...</td>\n",
       "      <td>...</td>\n",
       "      <td>...</td>\n",
       "      <td>...</td>\n",
       "      <td>...</td>\n",
       "      <td>...</td>\n",
       "      <td>...</td>\n",
       "      <td>...</td>\n",
       "    </tr>\n",
       "    <tr>\n",
       "      <th>32576</th>\n",
       "      <td>57</td>\n",
       "      <td>53000</td>\n",
       "      <td>MORTGAGE</td>\n",
       "      <td>1.0</td>\n",
       "      <td>PERSONAL</td>\n",
       "      <td>C</td>\n",
       "      <td>5800</td>\n",
       "      <td>13.16</td>\n",
       "      <td>0</td>\n",
       "      <td>0.11</td>\n",
       "      <td>N</td>\n",
       "      <td>30</td>\n",
       "    </tr>\n",
       "    <tr>\n",
       "      <th>32577</th>\n",
       "      <td>54</td>\n",
       "      <td>120000</td>\n",
       "      <td>MORTGAGE</td>\n",
       "      <td>4.0</td>\n",
       "      <td>PERSONAL</td>\n",
       "      <td>A</td>\n",
       "      <td>17625</td>\n",
       "      <td>7.49</td>\n",
       "      <td>0</td>\n",
       "      <td>0.15</td>\n",
       "      <td>N</td>\n",
       "      <td>19</td>\n",
       "    </tr>\n",
       "    <tr>\n",
       "      <th>32578</th>\n",
       "      <td>65</td>\n",
       "      <td>76000</td>\n",
       "      <td>RENT</td>\n",
       "      <td>3.0</td>\n",
       "      <td>HOMEIMPROVEMENT</td>\n",
       "      <td>B</td>\n",
       "      <td>35000</td>\n",
       "      <td>10.99</td>\n",
       "      <td>1</td>\n",
       "      <td>0.46</td>\n",
       "      <td>N</td>\n",
       "      <td>28</td>\n",
       "    </tr>\n",
       "    <tr>\n",
       "      <th>32579</th>\n",
       "      <td>56</td>\n",
       "      <td>150000</td>\n",
       "      <td>MORTGAGE</td>\n",
       "      <td>5.0</td>\n",
       "      <td>PERSONAL</td>\n",
       "      <td>B</td>\n",
       "      <td>15000</td>\n",
       "      <td>11.48</td>\n",
       "      <td>0</td>\n",
       "      <td>0.10</td>\n",
       "      <td>N</td>\n",
       "      <td>26</td>\n",
       "    </tr>\n",
       "    <tr>\n",
       "      <th>32580</th>\n",
       "      <td>66</td>\n",
       "      <td>42000</td>\n",
       "      <td>RENT</td>\n",
       "      <td>2.0</td>\n",
       "      <td>MEDICAL</td>\n",
       "      <td>B</td>\n",
       "      <td>6475</td>\n",
       "      <td>9.99</td>\n",
       "      <td>0</td>\n",
       "      <td>0.15</td>\n",
       "      <td>N</td>\n",
       "      <td>30</td>\n",
       "    </tr>\n",
       "  </tbody>\n",
       "</table>\n",
       "<p>32581 rows × 12 columns</p>\n",
       "</div>"
      ],
      "text/plain": [
       "       person_age  person_income person_home_ownership  person_emp_length  \\\n",
       "0              22          59000                  RENT              123.0   \n",
       "1              21           9600                   OWN                5.0   \n",
       "2              25           9600              MORTGAGE                1.0   \n",
       "3              23          65500                  RENT                4.0   \n",
       "4              24          54400                  RENT                8.0   \n",
       "...           ...            ...                   ...                ...   \n",
       "32576          57          53000              MORTGAGE                1.0   \n",
       "32577          54         120000              MORTGAGE                4.0   \n",
       "32578          65          76000                  RENT                3.0   \n",
       "32579          56         150000              MORTGAGE                5.0   \n",
       "32580          66          42000                  RENT                2.0   \n",
       "\n",
       "           loan_intent loan_grade  loan_amnt  loan_int_rate  loan_status  \\\n",
       "0             PERSONAL          D      35000          16.02            1   \n",
       "1            EDUCATION          B       1000          11.14            0   \n",
       "2              MEDICAL          C       5500          12.87            1   \n",
       "3              MEDICAL          C      35000          15.23            1   \n",
       "4              MEDICAL          C      35000          14.27            1   \n",
       "...                ...        ...        ...            ...          ...   \n",
       "32576         PERSONAL          C       5800          13.16            0   \n",
       "32577         PERSONAL          A      17625           7.49            0   \n",
       "32578  HOMEIMPROVEMENT          B      35000          10.99            1   \n",
       "32579         PERSONAL          B      15000          11.48            0   \n",
       "32580          MEDICAL          B       6475           9.99            0   \n",
       "\n",
       "       loan_percent_income cb_person_default_on_file  \\\n",
       "0                     0.59                         Y   \n",
       "1                     0.10                         N   \n",
       "2                     0.57                         N   \n",
       "3                     0.53                         N   \n",
       "4                     0.55                         Y   \n",
       "...                    ...                       ...   \n",
       "32576                 0.11                         N   \n",
       "32577                 0.15                         N   \n",
       "32578                 0.46                         N   \n",
       "32579                 0.10                         N   \n",
       "32580                 0.15                         N   \n",
       "\n",
       "       cb_person_cred_hist_length  \n",
       "0                               3  \n",
       "1                               2  \n",
       "2                               3  \n",
       "3                               2  \n",
       "4                               4  \n",
       "...                           ...  \n",
       "32576                          30  \n",
       "32577                          19  \n",
       "32578                          28  \n",
       "32579                          26  \n",
       "32580                          30  \n",
       "\n",
       "[32581 rows x 12 columns]"
      ]
     },
     "execution_count": 15,
     "metadata": {},
     "output_type": "execute_result"
    }
   ],
   "source": [
    "loan_data"
   ]
  },
  {
   "cell_type": "code",
   "execution_count": 11,
   "id": "574506d5-3d78-49bc-801e-591dc90960b0",
   "metadata": {
    "tags": []
   },
   "outputs": [
    {
     "data": {
      "text/html": [
       "<div>\n",
       "<style scoped>\n",
       "    .dataframe tbody tr th:only-of-type {\n",
       "        vertical-align: middle;\n",
       "    }\n",
       "\n",
       "    .dataframe tbody tr th {\n",
       "        vertical-align: top;\n",
       "    }\n",
       "\n",
       "    .dataframe thead th {\n",
       "        text-align: right;\n",
       "    }\n",
       "</style>\n",
       "<table border=\"1\" class=\"dataframe\">\n",
       "  <thead>\n",
       "    <tr style=\"text-align: right;\">\n",
       "      <th></th>\n",
       "      <th>person_age</th>\n",
       "      <th>person_income</th>\n",
       "      <th>person_home_ownership</th>\n",
       "      <th>person_emp_length</th>\n",
       "      <th>loan_intent</th>\n",
       "      <th>loan_grade</th>\n",
       "      <th>loan_amnt</th>\n",
       "      <th>loan_int_rate</th>\n",
       "      <th>loan_status</th>\n",
       "      <th>loan_percent_income</th>\n",
       "      <th>cb_person_default_on_file</th>\n",
       "      <th>cb_person_cred_hist_length</th>\n",
       "    </tr>\n",
       "  </thead>\n",
       "  <tbody>\n",
       "    <tr>\n",
       "      <th>0</th>\n",
       "      <td>22</td>\n",
       "      <td>59000</td>\n",
       "      <td>RENT</td>\n",
       "      <td>123.0</td>\n",
       "      <td>PERSONAL</td>\n",
       "      <td>D</td>\n",
       "      <td>35000</td>\n",
       "      <td>16.02</td>\n",
       "      <td>1</td>\n",
       "      <td>0.59</td>\n",
       "      <td>Y</td>\n",
       "      <td>3</td>\n",
       "    </tr>\n",
       "    <tr>\n",
       "      <th>1</th>\n",
       "      <td>21</td>\n",
       "      <td>9600</td>\n",
       "      <td>OWN</td>\n",
       "      <td>5.0</td>\n",
       "      <td>EDUCATION</td>\n",
       "      <td>B</td>\n",
       "      <td>1000</td>\n",
       "      <td>11.14</td>\n",
       "      <td>0</td>\n",
       "      <td>0.10</td>\n",
       "      <td>N</td>\n",
       "      <td>2</td>\n",
       "    </tr>\n",
       "    <tr>\n",
       "      <th>2</th>\n",
       "      <td>25</td>\n",
       "      <td>9600</td>\n",
       "      <td>MORTGAGE</td>\n",
       "      <td>1.0</td>\n",
       "      <td>MEDICAL</td>\n",
       "      <td>C</td>\n",
       "      <td>5500</td>\n",
       "      <td>12.87</td>\n",
       "      <td>1</td>\n",
       "      <td>0.57</td>\n",
       "      <td>N</td>\n",
       "      <td>3</td>\n",
       "    </tr>\n",
       "    <tr>\n",
       "      <th>3</th>\n",
       "      <td>23</td>\n",
       "      <td>65500</td>\n",
       "      <td>RENT</td>\n",
       "      <td>4.0</td>\n",
       "      <td>MEDICAL</td>\n",
       "      <td>C</td>\n",
       "      <td>35000</td>\n",
       "      <td>15.23</td>\n",
       "      <td>1</td>\n",
       "      <td>0.53</td>\n",
       "      <td>N</td>\n",
       "      <td>2</td>\n",
       "    </tr>\n",
       "    <tr>\n",
       "      <th>4</th>\n",
       "      <td>24</td>\n",
       "      <td>54400</td>\n",
       "      <td>RENT</td>\n",
       "      <td>8.0</td>\n",
       "      <td>MEDICAL</td>\n",
       "      <td>C</td>\n",
       "      <td>35000</td>\n",
       "      <td>14.27</td>\n",
       "      <td>1</td>\n",
       "      <td>0.55</td>\n",
       "      <td>Y</td>\n",
       "      <td>4</td>\n",
       "    </tr>\n",
       "  </tbody>\n",
       "</table>\n",
       "</div>"
      ],
      "text/plain": [
       "   person_age  person_income person_home_ownership  person_emp_length  \\\n",
       "0          22          59000                  RENT              123.0   \n",
       "1          21           9600                   OWN                5.0   \n",
       "2          25           9600              MORTGAGE                1.0   \n",
       "3          23          65500                  RENT                4.0   \n",
       "4          24          54400                  RENT                8.0   \n",
       "\n",
       "  loan_intent loan_grade  loan_amnt  loan_int_rate  loan_status  \\\n",
       "0    PERSONAL          D      35000          16.02            1   \n",
       "1   EDUCATION          B       1000          11.14            0   \n",
       "2     MEDICAL          C       5500          12.87            1   \n",
       "3     MEDICAL          C      35000          15.23            1   \n",
       "4     MEDICAL          C      35000          14.27            1   \n",
       "\n",
       "   loan_percent_income cb_person_default_on_file  cb_person_cred_hist_length  \n",
       "0                 0.59                         Y                           3  \n",
       "1                 0.10                         N                           2  \n",
       "2                 0.57                         N                           3  \n",
       "3                 0.53                         N                           2  \n",
       "4                 0.55                         Y                           4  "
      ]
     },
     "execution_count": 11,
     "metadata": {},
     "output_type": "execute_result"
    }
   ],
   "source": [
    "loan_data.head()"
   ]
  },
  {
   "cell_type": "code",
   "execution_count": 12,
   "id": "d002ada4-7546-4bde-9a61-5260316c0b17",
   "metadata": {
    "tags": []
   },
   "outputs": [
    {
     "data": {
      "text/html": [
       "<div>\n",
       "<style scoped>\n",
       "    .dataframe tbody tr th:only-of-type {\n",
       "        vertical-align: middle;\n",
       "    }\n",
       "\n",
       "    .dataframe tbody tr th {\n",
       "        vertical-align: top;\n",
       "    }\n",
       "\n",
       "    .dataframe thead th {\n",
       "        text-align: right;\n",
       "    }\n",
       "</style>\n",
       "<table border=\"1\" class=\"dataframe\">\n",
       "  <thead>\n",
       "    <tr style=\"text-align: right;\">\n",
       "      <th></th>\n",
       "      <th>person_age</th>\n",
       "      <th>person_income</th>\n",
       "      <th>person_home_ownership</th>\n",
       "      <th>person_emp_length</th>\n",
       "      <th>loan_intent</th>\n",
       "      <th>loan_grade</th>\n",
       "      <th>loan_amnt</th>\n",
       "      <th>loan_int_rate</th>\n",
       "      <th>loan_status</th>\n",
       "      <th>loan_percent_income</th>\n",
       "      <th>cb_person_default_on_file</th>\n",
       "      <th>cb_person_cred_hist_length</th>\n",
       "    </tr>\n",
       "  </thead>\n",
       "  <tbody>\n",
       "    <tr>\n",
       "      <th>32576</th>\n",
       "      <td>57</td>\n",
       "      <td>53000</td>\n",
       "      <td>MORTGAGE</td>\n",
       "      <td>1.0</td>\n",
       "      <td>PERSONAL</td>\n",
       "      <td>C</td>\n",
       "      <td>5800</td>\n",
       "      <td>13.16</td>\n",
       "      <td>0</td>\n",
       "      <td>0.11</td>\n",
       "      <td>N</td>\n",
       "      <td>30</td>\n",
       "    </tr>\n",
       "    <tr>\n",
       "      <th>32577</th>\n",
       "      <td>54</td>\n",
       "      <td>120000</td>\n",
       "      <td>MORTGAGE</td>\n",
       "      <td>4.0</td>\n",
       "      <td>PERSONAL</td>\n",
       "      <td>A</td>\n",
       "      <td>17625</td>\n",
       "      <td>7.49</td>\n",
       "      <td>0</td>\n",
       "      <td>0.15</td>\n",
       "      <td>N</td>\n",
       "      <td>19</td>\n",
       "    </tr>\n",
       "    <tr>\n",
       "      <th>32578</th>\n",
       "      <td>65</td>\n",
       "      <td>76000</td>\n",
       "      <td>RENT</td>\n",
       "      <td>3.0</td>\n",
       "      <td>HOMEIMPROVEMENT</td>\n",
       "      <td>B</td>\n",
       "      <td>35000</td>\n",
       "      <td>10.99</td>\n",
       "      <td>1</td>\n",
       "      <td>0.46</td>\n",
       "      <td>N</td>\n",
       "      <td>28</td>\n",
       "    </tr>\n",
       "    <tr>\n",
       "      <th>32579</th>\n",
       "      <td>56</td>\n",
       "      <td>150000</td>\n",
       "      <td>MORTGAGE</td>\n",
       "      <td>5.0</td>\n",
       "      <td>PERSONAL</td>\n",
       "      <td>B</td>\n",
       "      <td>15000</td>\n",
       "      <td>11.48</td>\n",
       "      <td>0</td>\n",
       "      <td>0.10</td>\n",
       "      <td>N</td>\n",
       "      <td>26</td>\n",
       "    </tr>\n",
       "    <tr>\n",
       "      <th>32580</th>\n",
       "      <td>66</td>\n",
       "      <td>42000</td>\n",
       "      <td>RENT</td>\n",
       "      <td>2.0</td>\n",
       "      <td>MEDICAL</td>\n",
       "      <td>B</td>\n",
       "      <td>6475</td>\n",
       "      <td>9.99</td>\n",
       "      <td>0</td>\n",
       "      <td>0.15</td>\n",
       "      <td>N</td>\n",
       "      <td>30</td>\n",
       "    </tr>\n",
       "  </tbody>\n",
       "</table>\n",
       "</div>"
      ],
      "text/plain": [
       "       person_age  person_income person_home_ownership  person_emp_length  \\\n",
       "32576          57          53000              MORTGAGE                1.0   \n",
       "32577          54         120000              MORTGAGE                4.0   \n",
       "32578          65          76000                  RENT                3.0   \n",
       "32579          56         150000              MORTGAGE                5.0   \n",
       "32580          66          42000                  RENT                2.0   \n",
       "\n",
       "           loan_intent loan_grade  loan_amnt  loan_int_rate  loan_status  \\\n",
       "32576         PERSONAL          C       5800          13.16            0   \n",
       "32577         PERSONAL          A      17625           7.49            0   \n",
       "32578  HOMEIMPROVEMENT          B      35000          10.99            1   \n",
       "32579         PERSONAL          B      15000          11.48            0   \n",
       "32580          MEDICAL          B       6475           9.99            0   \n",
       "\n",
       "       loan_percent_income cb_person_default_on_file  \\\n",
       "32576                 0.11                         N   \n",
       "32577                 0.15                         N   \n",
       "32578                 0.46                         N   \n",
       "32579                 0.10                         N   \n",
       "32580                 0.15                         N   \n",
       "\n",
       "       cb_person_cred_hist_length  \n",
       "32576                          30  \n",
       "32577                          19  \n",
       "32578                          28  \n",
       "32579                          26  \n",
       "32580                          30  "
      ]
     },
     "execution_count": 12,
     "metadata": {},
     "output_type": "execute_result"
    }
   ],
   "source": [
    "loan_data.tail()"
   ]
  },
  {
   "cell_type": "code",
   "execution_count": 13,
   "id": "ac8e323e-fba8-4d23-9cd7-35a79147d7b8",
   "metadata": {
    "tags": []
   },
   "outputs": [
    {
     "name": "stdout",
     "output_type": "stream",
     "text": [
      "<class 'pandas.core.frame.DataFrame'>\n",
      "RangeIndex: 32581 entries, 0 to 32580\n",
      "Data columns (total 12 columns):\n",
      " #   Column                      Non-Null Count  Dtype  \n",
      "---  ------                      --------------  -----  \n",
      " 0   person_age                  32581 non-null  int64  \n",
      " 1   person_income               32581 non-null  int64  \n",
      " 2   person_home_ownership       32581 non-null  object \n",
      " 3   person_emp_length           31686 non-null  float64\n",
      " 4   loan_intent                 32581 non-null  object \n",
      " 5   loan_grade                  32581 non-null  object \n",
      " 6   loan_amnt                   32581 non-null  int64  \n",
      " 7   loan_int_rate               29465 non-null  float64\n",
      " 8   loan_status                 32581 non-null  int64  \n",
      " 9   loan_percent_income         32581 non-null  float64\n",
      " 10  cb_person_default_on_file   32581 non-null  object \n",
      " 11  cb_person_cred_hist_length  32581 non-null  int64  \n",
      "dtypes: float64(3), int64(5), object(4)\n",
      "memory usage: 3.0+ MB\n"
     ]
    }
   ],
   "source": [
    "loan_data.info()"
   ]
  },
  {
   "cell_type": "markdown",
   "id": "9dce3fd3-ee90-4e91-a77b-24d88c9b9856",
   "metadata": {
    "jp-MarkdownHeadingCollapsed": true,
    "tags": []
   },
   "source": [
    "## Inspect Columns"
   ]
  },
  {
   "cell_type": "markdown",
   "id": "a203ffd8-a620-4506-8038-56328817c164",
   "metadata": {
    "jp-MarkdownHeadingCollapsed": true,
    "tags": []
   },
   "source": [
    "### person_age"
   ]
  },
  {
   "cell_type": "code",
   "execution_count": 21,
   "id": "8870d8fc-120d-4e99-82c0-f444867c8c65",
   "metadata": {
    "tags": []
   },
   "outputs": [
    {
     "data": {
      "text/plain": [
       "array([ 22,  21,  25,  23,  24,  26, 144, 123,  20,  32,  34,  29,  33,\n",
       "        28,  35,  31,  27,  30,  36,  40,  50,  45,  37,  39,  44,  43,\n",
       "        41,  46,  38,  47,  42,  48,  49,  58,  65,  51,  53,  66,  61,\n",
       "        54,  57,  59,  62,  60,  55,  52,  64,  70,  78,  69,  56,  73,\n",
       "        63,  94,  80,  84,  76,  67])"
      ]
     },
     "execution_count": 21,
     "metadata": {},
     "output_type": "execute_result"
    }
   ],
   "source": [
    "loan_data['person_age'].unique()"
   ]
  },
  {
   "cell_type": "markdown",
   "id": "92007882-328b-4180-a4c5-c4ebcecfc34b",
   "metadata": {
    "jp-MarkdownHeadingCollapsed": true,
    "tags": []
   },
   "source": [
    "### person_income"
   ]
  },
  {
   "cell_type": "code",
   "execution_count": 59,
   "id": "2b667607-3b04-4689-ba84-7de602bcfd5d",
   "metadata": {
    "tags": []
   },
   "outputs": [
    {
     "data": {
      "text/plain": [
       "array([  59000,    9600,   65500, ...,  720000, 1900000,    4888])"
      ]
     },
     "execution_count": 59,
     "metadata": {},
     "output_type": "execute_result"
    }
   ],
   "source": [
    "loan_data['person_income'].unique()"
   ]
  },
  {
   "cell_type": "code",
   "execution_count": 61,
   "id": "767b601a-76d1-4198-b204-4f7a92b8913b",
   "metadata": {
    "tags": []
   },
   "outputs": [
    {
     "data": {
      "text/plain": [
       "4000"
      ]
     },
     "execution_count": 61,
     "metadata": {},
     "output_type": "execute_result"
    }
   ],
   "source": [
    "loan_data['person_income'].min()"
   ]
  },
  {
   "cell_type": "code",
   "execution_count": 62,
   "id": "62b5d187-fcb9-4627-a012-e7385215ee9e",
   "metadata": {
    "tags": []
   },
   "outputs": [
    {
     "data": {
      "text/plain": [
       "6000000"
      ]
     },
     "execution_count": 62,
     "metadata": {},
     "output_type": "execute_result"
    }
   ],
   "source": [
    "loan_data['person_income'].max()"
   ]
  },
  {
   "cell_type": "markdown",
   "id": "e0e40619-d6b2-4f23-8724-ff4e5d4aaac8",
   "metadata": {
    "jp-MarkdownHeadingCollapsed": true,
    "tags": []
   },
   "source": [
    "### person_emp_length"
   ]
  },
  {
   "cell_type": "code",
   "execution_count": 45,
   "id": "b0727aa8-8b95-4865-acf2-a9da18319602",
   "metadata": {
    "tags": []
   },
   "outputs": [
    {
     "data": {
      "text/plain": [
       "array([  59000,    9600,   65500, ...,  720000, 1900000,    4888])"
      ]
     },
     "execution_count": 45,
     "metadata": {},
     "output_type": "execute_result"
    }
   ],
   "source": [
    "loan_data['person_income'].unique()"
   ]
  },
  {
   "cell_type": "markdown",
   "id": "d8ed7148-6d96-4820-ae69-e28a2c683ab0",
   "metadata": {
    "jp-MarkdownHeadingCollapsed": true,
    "tags": []
   },
   "source": [
    "### person_home_ownership "
   ]
  },
  {
   "cell_type": "code",
   "execution_count": 36,
   "id": "46e14dad-3e1d-4bb4-a664-f5f4bbc40b58",
   "metadata": {
    "tags": []
   },
   "outputs": [
    {
     "data": {
      "text/plain": [
       "array(['RENT', 'OWN', 'MORTGAGE', 'OTHER'], dtype=object)"
      ]
     },
     "execution_count": 36,
     "metadata": {},
     "output_type": "execute_result"
    }
   ],
   "source": [
    "loan_data['person_home_ownership'].unique()"
   ]
  },
  {
   "cell_type": "markdown",
   "id": "2ef17290-1531-4caa-8402-38e298f547e4",
   "metadata": {
    "jp-MarkdownHeadingCollapsed": true,
    "tags": []
   },
   "source": [
    "### loan_intent"
   ]
  },
  {
   "cell_type": "code",
   "execution_count": 38,
   "id": "21abe7ba-50bc-47ef-814c-0ba0cb3a7a12",
   "metadata": {
    "tags": []
   },
   "outputs": [
    {
     "data": {
      "text/plain": [
       "array(['PERSONAL', 'EDUCATION', 'MEDICAL', 'VENTURE', 'HOMEIMPROVEMENT',\n",
       "       'DEBTCONSOLIDATION'], dtype=object)"
      ]
     },
     "execution_count": 38,
     "metadata": {},
     "output_type": "execute_result"
    }
   ],
   "source": [
    "loan_data['loan_intent'].unique()"
   ]
  },
  {
   "cell_type": "markdown",
   "id": "dbf38936-c4b9-474a-92e2-d1c5f92ed2ad",
   "metadata": {
    "jp-MarkdownHeadingCollapsed": true,
    "tags": []
   },
   "source": [
    "### loan_grade"
   ]
  },
  {
   "cell_type": "code",
   "execution_count": 42,
   "id": "50b23c93-fa3f-4d18-834f-f37cd0a5f4a5",
   "metadata": {
    "tags": []
   },
   "outputs": [
    {
     "data": {
      "text/plain": [
       "array(['D', 'B', 'C', 'A', 'E', 'F', 'G'], dtype=object)"
      ]
     },
     "execution_count": 42,
     "metadata": {},
     "output_type": "execute_result"
    }
   ],
   "source": [
    "loan_data['loan_grade'].unique()"
   ]
  },
  {
   "cell_type": "markdown",
   "id": "a15139ac-5e19-4610-a388-545ad1e44222",
   "metadata": {
    "jp-MarkdownHeadingCollapsed": true,
    "tags": []
   },
   "source": [
    "### loan_amnt"
   ]
  },
  {
   "cell_type": "code",
   "execution_count": 43,
   "id": "36e67344-0601-42ef-a533-efcf4f39e78e",
   "metadata": {
    "tags": []
   },
   "outputs": [
    {
     "data": {
      "text/plain": [
       "array([35000,  1000,  5500,  2500,  1600,  4500, 30000,  1750, 34800,\n",
       "       34000,  1500, 33950, 33000,  4575,  1400, 32500,  4000,  2000,\n",
       "       32000, 31050, 24250,  7800, 20000, 10000, 25000, 18000, 12000,\n",
       "       29100, 28000,  9600,  3000,  6100,  4200,  4750,  4800,  2700,\n",
       "       27600,  3250, 27500, 27050, 27000, 26000, 25600, 25475, 21600,\n",
       "       11900, 25300,  3650,  6000,  2400,  3600,  7500,  4950, 21000,\n",
       "       16000, 22000,  7750, 24000, 15000, 15500,  9000, 23050,  5375,\n",
       "        6250,  5000,  2100, 14000,  6200,  9950,  4475,  2600,  8000,\n",
       "        4600,  3500,  7200,  8800,  3175,  2800, 13000,  1800,  3300,\n",
       "        3200,  2275,  5600,  3625,  4375, 24750, 24500,  3900, 13750,\n",
       "       15250, 24150,  2250,  4975,  4900, 23975, 23750, 23600, 23575,\n",
       "        5400,  3375, 23400, 23000,  1200, 22750, 22500, 22400, 22250,\n",
       "        7400, 21700,  7000, 21500, 21450, 21250,  9250, 20900, 20500,\n",
       "       20400, 20375, 20050,  6400,  5650, 16600,  7125,  3550,  1275,\n",
       "        3800,  1625,  8500,  7575,  5200,  4025,  4400,  3825,  6500,\n",
       "        5875,  1550,  7350,  6700,  8300, 10625, 19900, 19800,   500,\n",
       "         700,   750, 19000, 18950, 18800, 18750, 18725, 18550,  7100,\n",
       "       18500, 18400, 18250,  1300,  5800, 18225, 18200,  1375, 17950,\n",
       "       17800, 17750, 17700,  3975, 17625, 17600, 17500, 17475, 17400,\n",
       "       17200, 17000, 16950, 16875, 16800, 16750, 16700, 16525, 16500,\n",
       "       11500, 16425, 16400, 16300, 16250, 16075, 16050, 11100,  1525,\n",
       "       10800,  7850, 11325, 14500,  5975,  1075,  1100,  1150,  3025,\n",
       "        9475,  1325,  2750,  1350,  3725,  1925,  5175,  6300,  8400,\n",
       "        1450,  9800,  1475, 14125, 12300,  9500,  5225, 12200, 10750,\n",
       "        1675,  1700,  8875,  5150,  1775,  6075,  1825,  1850,  1875,\n",
       "        1900,  1950, 11000, 14950, 14900,  7600, 14850, 14800, 13250,\n",
       "        5125,  2050,  2125,  2150,  3075,  2200,  2225,  2300,  2350,\n",
       "        6600,  6950,  2425,  2450, 13600, 13500,  9200, 13475, 13450,\n",
       "       13400, 13350, 13300, 13275, 13225, 13200, 13100, 13050, 12250,\n",
       "        7550, 11200,  1050, 11225,  8250, 11050,  2850,  2875,  2900,\n",
       "        2925,  2975, 12500, 10150,  8325,  1250, 12375,  8125,  6425,\n",
       "        9750, 14400,  5100, 10950,  6800,  9450, 22550,  6900,  8575,\n",
       "        3050,  3100,  3125,  3150,  7775, 13650,  2950, 12800,   800,\n",
       "        3325,  3350,  3400,  3450,  5775,  8700, 11625, 11300,  5250,\n",
       "        7275, 14775,  5300,  6725,  3525,  3575, 15800, 14600,  6350,\n",
       "       10900, 10875, 12400, 10775, 10700, 10600, 10500, 10450, 10400,\n",
       "       10375, 10325, 10300, 10250, 10200,  3700,  3750,  3850,  3950,\n",
       "        5550,  7675,  5700,  5325,  9875,  4350,  4450,  4300, 10850,\n",
       "        8100,  4550,  4650,  4700,  4725, 13025,  2525, 15450,  6625,\n",
       "       17050,  7975,  9700,  8200,  4850, 19200, 13975,  8675,  9350,\n",
       "        9975,  9100,  9900, 14750,  7050,  5750, 15075, 12600, 15600,\n",
       "       22800,  6650, 13800,  8475, 18900, 14300,  8975,  8950,  8900,\n",
       "        8850,  8650, 14550,  4150,  9050,  4075, 14650,  8450,  9125,\n",
       "        4325,  5950,  9925,  7375, 11700,  9225, 10075,  5275, 23500,\n",
       "        8600,  5425,  5450, 12725, 13850,  5525,  5575,  5625,  5675,\n",
       "        5825,  5850,  5900,  5925,  2550, 15750, 19500, 10525, 18650,\n",
       "       13700,  9825,  9175,  7075,  7025, 11400,  8375,  6025,  6150,\n",
       "       15825,  6225, 15200, 14100,  2650,  6975,  6325,  6375, 19750,\n",
       "        2625,  6550,  6575,  5025,  6850,  6750,  6775,  6475,  6450,\n",
       "        6825,  6875,  6925,  8525,  3775, 24200, 11075,  7150,  7175,\n",
       "        4225,  7875, 21825,  7250,  7300, 19125,  7325,  7475, 17300,\n",
       "        9575, 12875, 11425, 19725,   900, 17450, 14075, 12275, 31300,\n",
       "        7525, 15700, 11600, 14825,  7650,  7700,  7900,  7925,  7950,\n",
       "       13375, 25850, 21200, 23275, 10425, 15850,  6125,  5075,  5050,\n",
       "       12900,  9525, 29800, 21650,  8050,  8075, 23525,  8150,  8350,\n",
       "       27250,  2475,  8550,  8625,  8725,  8750,  8775,  7425,  9150,\n",
       "        9300,  9325,  9375,  9400,  9425,  9550, 29000, 12150, 19600,\n",
       "       26400, 15900,  4275,  4250, 13950,  7450,  4125,  4100,  4050,\n",
       "       11875, 18300, 31825, 11125, 16100, 29700,  6675, 15350, 10675,\n",
       "       10025, 10100, 10125,  3425, 14200, 11250, 17825, 11525, 11550,\n",
       "       11575, 11650, 11750, 11775, 11800, 11850, 11975, 25975, 14625,\n",
       "        8825, 27525, 19075, 14700, 18600,  2825,  4925, 21400,  1125,\n",
       "       20675, 16200, 12475, 18150, 12100, 12125, 13675, 12450,  2775,\n",
       "        2725,  2675,  4175, 12950, 12700, 12750, 24175, 10925, 13625,\n",
       "       13900, 25200, 12975, 14350,  3275, 14275, 20600, 23800, 29175,\n",
       "       21850,  9850, 14525, 14575, 27300, 12075, 17325,  9625, 19950,\n",
       "        4525, 22600, 19400, 20800, 15125, 12225, 15400, 18325, 15550,\n",
       "       15625, 15650, 15675, 23450, 10575, 19425, 19550, 19650,  2375,\n",
       "        2325, 31000, 30750, 29550, 28800, 14725, 22200, 24625, 23850,\n",
       "       23475, 22950, 22650, 21725, 20200,  2075,  5725, 19975, 19850,\n",
       "       19775,   725,   950, 18825, 17975, 17900, 17725, 17250, 16775,\n",
       "       16450, 14975, 13575, 13425, 13150, 13075, 10225,  3925,  5350,\n",
       "       10725, 10550, 10275,  3675, 12775,  9775,  1425, 14675,  4625,\n",
       "        4425,  4675, 12650,  4875,  1225, 17350,  9275, 10825, 10175,\n",
       "       15150,  5475, 17375, 10650,  8275, 15025,  9725,  6525, 15875,\n",
       "       10475, 27575, 10975, 12625,  8025,  7225, 10050,  4775, 20475,\n",
       "        7725,  8225, 23200, 16725, 21100, 22100,  7625, 25500, 20150,\n",
       "       18050, 23700, 19700, 15275, 11175, 11350, 11450, 11475, 19150,\n",
       "       19450,  9075, 21125, 24800, 24400, 12325, 12350,  2575, 12025,\n",
       "       14150, 17875, 11025, 14475, 26375, 13125, 27400, 14050, 28250,\n",
       "       15975, 33250,  6275, 22350, 24100, 15050, 17525, 15175, 23100,\n",
       "       11275, 13175, 19925, 32400, 30600, 31400, 27175, 24375,  8175,\n",
       "       23325, 18125,  3225, 26800, 17925, 14250, 12925, 13775, 17850,\n",
       "       20700, 11375, 15575, 15775, 19275, 29850])"
      ]
     },
     "execution_count": 43,
     "metadata": {},
     "output_type": "execute_result"
    }
   ],
   "source": [
    "loan_data['loan_amnt'].unique()"
   ]
  },
  {
   "cell_type": "markdown",
   "id": "dcd2cd41-72b9-49e9-a47f-a8dab10be757",
   "metadata": {
    "jp-MarkdownHeadingCollapsed": true,
    "tags": []
   },
   "source": [
    "### loan_int_rate"
   ]
  },
  {
   "cell_type": "code",
   "execution_count": 47,
   "id": "f41ce453-4852-4fa9-a2d5-5c1ee7e321d7",
   "metadata": {
    "tags": []
   },
   "outputs": [
    {
     "data": {
      "text/plain": [
       "array([16.02, 11.14, 12.87, 15.23, 14.27,  7.14, 12.42, 11.11,  8.9 ,\n",
       "       14.74, 10.37,  8.63,  7.9 , 18.39, 10.65, 20.25, 18.25, 10.99,\n",
       "        7.49, 16.77, 17.58,  7.29, 14.54, 12.68, 17.74,  9.32,  9.99,\n",
       "       12.84, 11.12,  6.62, 14.17, 13.85, 13.49,  7.51, 16.89,   nan,\n",
       "       17.99, 12.69,  7.88, 19.41, 10.38, 15.33, 16.45, 18.62, 15.96,\n",
       "       11.48,  5.99, 11.58, 15.7 , 15.99, 14.84, 14.42,  6.99, 13.61,\n",
       "        9.91, 13.48, 12.98, 13.57, 15.68, 13.06, 15.62, 11.71,  8.88,\n",
       "       12.18, 13.99,  5.42, 12.73, 11.49, 19.91, 11.83, 14.59,  9.64,\n",
       "       16.35, 18.67, 10.08, 10.36, 12.23, 16.07, 14.22, 14.79, 13.22,\n",
       "       11.86, 13.43, 15.28, 17.93,  9.25, 10.62, 18.43, 11.36, 15.65,\n",
       "       13.04, 17.04, 14.83, 14.65, 16.82, 10.25, 14.96, 11.99,  8.49,\n",
       "        6.17, 16.32, 14.35, 15.21, 14.09, 17.49, 13.92, 16.49,  5.79,\n",
       "       13.11,  6.54, 12.53, 15.95, 10.74, 15.27, 14.72, 13.35,  7.68,\n",
       "       14.46, 13.47,  6.03, 12.92, 18.64, 16.7 , 18.3 ,  9.63, 14.7 ,\n",
       "       15.37, 14.26,  8.  , 11.26, 19.04, 13.98, 15.58, 15.31,  9.33,\n",
       "       11.91,  8.38, 10.59, 16.  , 11.54, 12.61, 17.27, 15.05, 10.75,\n",
       "        6.39, 18.09, 19.74,  6.91, 14.93, 17.14, 11.03,  8.94, 11.46,\n",
       "        7.66, 17.56, 10.39, 16.29, 17.8 , 19.69, 15.83, 20.03, 20.16,\n",
       "       13.79, 11.89, 14.5 , 11.34,  9.62,  9.96, 18.99, 14.11, 17.19,\n",
       "        7.4 , 17.51, 14.61, 21.21, 14.91, 17.26, 10.71, 10.  , 16.95,\n",
       "       11.97, 12.99, 13.16,  9.76, 11.22, 16.69, 12.21,  7.74, 11.78,\n",
       "       11.66, 19.79,  9.88, 13.87, 17.39, 12.29, 10.83, 15.2 , 14.82,\n",
       "       14.88, 13.36,  6.76, 13.23,  9.45, 10.96, 13.72, 12.36, 11.41,\n",
       "       14.3 , 10.91, 16.63,  6.92, 10.95,  8.7 , 12.67, 12.41, 20.11,\n",
       "       14.18, 12.8 , 13.24, 12.09, 17.15, 19.47,  7.91, 10.46,  7.37,\n",
       "       11.28,  8.59, 19.03, 15.57,  8.32, 10.14, 19.29, 11.63, 12.72,\n",
       "       13.8 ,  7.12, 13.3 , 16.59, 21.27,  8.07,  9.67, 11.72, 12.22,\n",
       "       13.75,  9.38, 10.2 , 16.4 , 10.33, 12.54, 21.74,  7.43,  9.07,\n",
       "        6.  ,  9.7 , 10.01,  7.05, 10.28, 20.3 , 13.67,  7.42, 19.42,\n",
       "       21.36, 12.17,  9.83, 18.79, 14.38,  7.75, 14.75, 10.51, 13.12,\n",
       "       17.88,  9.2 , 11.59, 17.43, 13.93, 15.76, 18.21, 13.55, 15.13,\n",
       "        9.01, 16.08, 16.11, 14.12, 12.86, 19.39, 13.17, 15.45, 22.11,\n",
       "       12.62, 19.13, 12.49, 16.2 , 18.84, 16.33, 19.82, 20.89, 10.78,\n",
       "       15.88, 19.16, 20.62, 20.2 ,  9.51, 14.67, 12.12, 12.04, 15.07,\n",
       "       17.06, 13.62, 20.48, 18.53, 17.9 , 11.09, 13.84, 18.78, 15.01,\n",
       "       18.07, 17.03, 21.14, 17.46, 20.99, 21.64, 18.36, 20.17, 18.17,\n",
       "       22.06, 17.54, 17.44, 18.49, 20.86, 20.52, 15.25, 18.72, 20.9 ,\n",
       "       16.96, 15.38, 17.34, 14.62, 14.25, 14.07, 10.64, 22.48, 19.66,\n",
       "       23.22, 20.4 , 16.71, 18.54, 20.69, 16.15, 20.53])"
      ]
     },
     "execution_count": 47,
     "metadata": {},
     "output_type": "execute_result"
    }
   ],
   "source": [
    "loan_data['loan_int_rate'].unique()"
   ]
  },
  {
   "cell_type": "markdown",
   "id": "f655b5f2-04ff-4b26-93be-ad44d3a561c3",
   "metadata": {
    "jp-MarkdownHeadingCollapsed": true,
    "tags": []
   },
   "source": [
    "### loan_status "
   ]
  },
  {
   "cell_type": "code",
   "execution_count": 49,
   "id": "94d1099a-1588-4329-b191-9e5d2ab7be11",
   "metadata": {
    "tags": []
   },
   "outputs": [
    {
     "data": {
      "text/plain": [
       "array([1, 0])"
      ]
     },
     "execution_count": 49,
     "metadata": {},
     "output_type": "execute_result"
    }
   ],
   "source": [
    "loan_data['loan_status'].unique()"
   ]
  },
  {
   "cell_type": "markdown",
   "id": "9b5ff0cd-5cfa-47dd-855c-65a32f753abb",
   "metadata": {
    "jp-MarkdownHeadingCollapsed": true,
    "tags": []
   },
   "source": [
    "### loan_percent_income"
   ]
  },
  {
   "cell_type": "code",
   "execution_count": 50,
   "id": "adde8708-2128-42fd-847d-75d1da122678",
   "metadata": {
    "tags": []
   },
   "outputs": [
    {
     "data": {
      "text/plain": [
       "array([0.59, 0.1 , 0.57, 0.53, 0.55, 0.25, 0.45, 0.44, 0.42, 0.16, 0.41,\n",
       "       0.37, 0.32, 0.3 , 0.06, 0.29, 0.31, 0.22, 0.52, 0.14, 0.49, 0.13,\n",
       "       0.5 , 0.35, 0.17, 0.27, 0.33, 0.08, 0.03, 0.21, 0.63, 0.47, 0.4 ,\n",
       "       0.07, 0.38, 0.34, 0.04, 0.23, 0.15, 0.11, 0.43, 0.51, 0.02, 0.28,\n",
       "       0.26, 0.19, 0.39, 0.09, 0.05, 0.61, 0.18, 0.6 , 0.01, 0.48, 0.12,\n",
       "       0.54, 0.56, 0.46, 0.36, 0.24, 0.2 , 0.72, 0.64, 0.69, 0.77, 0.83,\n",
       "       0.65, 0.67, 0.58, 0.71, 0.68, 0.7 , 0.66, 0.  , 0.76, 0.62, 0.78])"
      ]
     },
     "execution_count": 50,
     "metadata": {},
     "output_type": "execute_result"
    }
   ],
   "source": [
    "loan_data['loan_percent_income'].unique()"
   ]
  },
  {
   "cell_type": "markdown",
   "id": "7d9ffaf5-fb5c-41be-b00b-98309b9231e7",
   "metadata": {
    "jp-MarkdownHeadingCollapsed": true,
    "tags": []
   },
   "source": [
    "### cb_person_default_on_file "
   ]
  },
  {
   "cell_type": "code",
   "execution_count": 52,
   "id": "8668ce5e-6282-4ab3-8f53-f1914b4c9538",
   "metadata": {
    "tags": []
   },
   "outputs": [
    {
     "data": {
      "text/plain": [
       "array(['Y', 'N'], dtype=object)"
      ]
     },
     "execution_count": 52,
     "metadata": {},
     "output_type": "execute_result"
    }
   ],
   "source": [
    "loan_data['cb_person_default_on_file'].unique()"
   ]
  },
  {
   "cell_type": "markdown",
   "id": "f10a404e-181e-4488-87bd-bfbd48bfe66f",
   "metadata": {
    "jp-MarkdownHeadingCollapsed": true,
    "tags": []
   },
   "source": [
    "### cb_person_cred_hist_length"
   ]
  },
  {
   "cell_type": "code",
   "execution_count": 53,
   "id": "04dc7f63-e586-431e-bee8-786cd8c8bd31",
   "metadata": {
    "tags": []
   },
   "outputs": [
    {
     "data": {
      "text/plain": [
       "array([ 3,  2,  4,  8,  7,  6,  9, 10,  5, 11, 16, 15, 12, 13, 17, 14, 25,\n",
       "       28, 27, 22, 19, 29, 23, 26, 20, 21, 30, 24, 18])"
      ]
     },
     "execution_count": 53,
     "metadata": {},
     "output_type": "execute_result"
    }
   ],
   "source": [
    "loan_data['cb_person_cred_hist_length'].unique()"
   ]
  },
  {
   "cell_type": "markdown",
   "id": "41870818-e386-4ad1-9b48-f420c9a1b1d0",
   "metadata": {},
   "source": [
    "## EDA"
   ]
  },
  {
   "cell_type": "code",
   "execution_count": 67,
   "id": "ab5657bb-d9e2-4fdb-a6e0-b8a469db111c",
   "metadata": {
    "tags": []
   },
   "outputs": [
    {
     "data": {
      "text/html": [
       "<div>\n",
       "<style scoped>\n",
       "    .dataframe tbody tr th:only-of-type {\n",
       "        vertical-align: middle;\n",
       "    }\n",
       "\n",
       "    .dataframe tbody tr th {\n",
       "        vertical-align: top;\n",
       "    }\n",
       "\n",
       "    .dataframe thead th {\n",
       "        text-align: right;\n",
       "    }\n",
       "</style>\n",
       "<table border=\"1\" class=\"dataframe\">\n",
       "  <thead>\n",
       "    <tr style=\"text-align: right;\">\n",
       "      <th></th>\n",
       "      <th>person_age</th>\n",
       "      <th>person_income</th>\n",
       "      <th>person_home_ownership</th>\n",
       "      <th>person_emp_length</th>\n",
       "      <th>loan_intent</th>\n",
       "      <th>loan_grade</th>\n",
       "      <th>loan_amnt</th>\n",
       "      <th>loan_int_rate</th>\n",
       "      <th>loan_percent_income</th>\n",
       "      <th>cb_person_default_on_file</th>\n",
       "      <th>cb_person_cred_hist_length</th>\n",
       "    </tr>\n",
       "    <tr>\n",
       "      <th>loan_status</th>\n",
       "      <th></th>\n",
       "      <th></th>\n",
       "      <th></th>\n",
       "      <th></th>\n",
       "      <th></th>\n",
       "      <th></th>\n",
       "      <th></th>\n",
       "      <th></th>\n",
       "      <th></th>\n",
       "      <th></th>\n",
       "      <th></th>\n",
       "    </tr>\n",
       "  </thead>\n",
       "  <tbody>\n",
       "    <tr>\n",
       "      <th>0</th>\n",
       "      <td>25473</td>\n",
       "      <td>25473</td>\n",
       "      <td>25473</td>\n",
       "      <td>24860</td>\n",
       "      <td>25473</td>\n",
       "      <td>25473</td>\n",
       "      <td>25473</td>\n",
       "      <td>23001</td>\n",
       "      <td>25473</td>\n",
       "      <td>25473</td>\n",
       "      <td>25473</td>\n",
       "    </tr>\n",
       "    <tr>\n",
       "      <th>1</th>\n",
       "      <td>7108</td>\n",
       "      <td>7108</td>\n",
       "      <td>7108</td>\n",
       "      <td>6826</td>\n",
       "      <td>7108</td>\n",
       "      <td>7108</td>\n",
       "      <td>7108</td>\n",
       "      <td>6464</td>\n",
       "      <td>7108</td>\n",
       "      <td>7108</td>\n",
       "      <td>7108</td>\n",
       "    </tr>\n",
       "  </tbody>\n",
       "</table>\n",
       "</div>"
      ],
      "text/plain": [
       "             person_age  person_income  person_home_ownership  \\\n",
       "loan_status                                                     \n",
       "0                 25473          25473                  25473   \n",
       "1                  7108           7108                   7108   \n",
       "\n",
       "             person_emp_length  loan_intent  loan_grade  loan_amnt  \\\n",
       "loan_status                                                          \n",
       "0                        24860        25473       25473      25473   \n",
       "1                         6826         7108        7108       7108   \n",
       "\n",
       "             loan_int_rate  loan_percent_income  cb_person_default_on_file  \\\n",
       "loan_status                                                                  \n",
       "0                    23001                25473                      25473   \n",
       "1                     6464                 7108                       7108   \n",
       "\n",
       "             cb_person_cred_hist_length  \n",
       "loan_status                              \n",
       "0                                 25473  \n",
       "1                                  7108  "
      ]
     },
     "execution_count": 67,
     "metadata": {},
     "output_type": "execute_result"
    }
   ],
   "source": [
    "loan_data.groupby(['loan_status']).count()"
   ]
  },
  {
   "cell_type": "code",
   "execution_count": 80,
   "id": "cf412b5b-2725-4348-a448-8233e0f6b1fb",
   "metadata": {
    "tags": []
   },
   "outputs": [
    {
     "data": {
      "text/html": [
       "<div>\n",
       "<style scoped>\n",
       "    .dataframe tbody tr th:only-of-type {\n",
       "        vertical-align: middle;\n",
       "    }\n",
       "\n",
       "    .dataframe tbody tr th {\n",
       "        vertical-align: top;\n",
       "    }\n",
       "\n",
       "    .dataframe thead th {\n",
       "        text-align: right;\n",
       "    }\n",
       "</style>\n",
       "<table border=\"1\" class=\"dataframe\">\n",
       "  <thead>\n",
       "    <tr style=\"text-align: right;\">\n",
       "      <th></th>\n",
       "      <th>person_age</th>\n",
       "      <th>person_income</th>\n",
       "      <th>person_home_ownership</th>\n",
       "      <th>person_emp_length</th>\n",
       "      <th>loan_intent</th>\n",
       "      <th>loan_grade</th>\n",
       "      <th>loan_amnt</th>\n",
       "      <th>loan_int_rate</th>\n",
       "      <th>loan_status</th>\n",
       "      <th>loan_percent_income</th>\n",
       "      <th>cb_person_default_on_file</th>\n",
       "      <th>cb_person_cred_hist_length</th>\n",
       "    </tr>\n",
       "  </thead>\n",
       "  <tbody>\n",
       "    <tr>\n",
       "      <th>0</th>\n",
       "      <td>22</td>\n",
       "      <td>59000</td>\n",
       "      <td>RENT</td>\n",
       "      <td>123.0</td>\n",
       "      <td>PERSONAL</td>\n",
       "      <td>D</td>\n",
       "      <td>35000</td>\n",
       "      <td>16.02</td>\n",
       "      <td>1</td>\n",
       "      <td>0.59</td>\n",
       "      <td>Y</td>\n",
       "      <td>3</td>\n",
       "    </tr>\n",
       "    <tr>\n",
       "      <th>2</th>\n",
       "      <td>25</td>\n",
       "      <td>9600</td>\n",
       "      <td>MORTGAGE</td>\n",
       "      <td>1.0</td>\n",
       "      <td>MEDICAL</td>\n",
       "      <td>C</td>\n",
       "      <td>5500</td>\n",
       "      <td>12.87</td>\n",
       "      <td>1</td>\n",
       "      <td>0.57</td>\n",
       "      <td>N</td>\n",
       "      <td>3</td>\n",
       "    </tr>\n",
       "    <tr>\n",
       "      <th>3</th>\n",
       "      <td>23</td>\n",
       "      <td>65500</td>\n",
       "      <td>RENT</td>\n",
       "      <td>4.0</td>\n",
       "      <td>MEDICAL</td>\n",
       "      <td>C</td>\n",
       "      <td>35000</td>\n",
       "      <td>15.23</td>\n",
       "      <td>1</td>\n",
       "      <td>0.53</td>\n",
       "      <td>N</td>\n",
       "      <td>2</td>\n",
       "    </tr>\n",
       "    <tr>\n",
       "      <th>4</th>\n",
       "      <td>24</td>\n",
       "      <td>54400</td>\n",
       "      <td>RENT</td>\n",
       "      <td>8.0</td>\n",
       "      <td>MEDICAL</td>\n",
       "      <td>C</td>\n",
       "      <td>35000</td>\n",
       "      <td>14.27</td>\n",
       "      <td>1</td>\n",
       "      <td>0.55</td>\n",
       "      <td>Y</td>\n",
       "      <td>4</td>\n",
       "    </tr>\n",
       "    <tr>\n",
       "      <th>5</th>\n",
       "      <td>21</td>\n",
       "      <td>9900</td>\n",
       "      <td>OWN</td>\n",
       "      <td>2.0</td>\n",
       "      <td>VENTURE</td>\n",
       "      <td>A</td>\n",
       "      <td>2500</td>\n",
       "      <td>7.14</td>\n",
       "      <td>1</td>\n",
       "      <td>0.25</td>\n",
       "      <td>N</td>\n",
       "      <td>2</td>\n",
       "    </tr>\n",
       "    <tr>\n",
       "      <th>...</th>\n",
       "      <td>...</td>\n",
       "      <td>...</td>\n",
       "      <td>...</td>\n",
       "      <td>...</td>\n",
       "      <td>...</td>\n",
       "      <td>...</td>\n",
       "      <td>...</td>\n",
       "      <td>...</td>\n",
       "      <td>...</td>\n",
       "      <td>...</td>\n",
       "      <td>...</td>\n",
       "      <td>...</td>\n",
       "    </tr>\n",
       "    <tr>\n",
       "      <th>32563</th>\n",
       "      <td>52</td>\n",
       "      <td>71520</td>\n",
       "      <td>RENT</td>\n",
       "      <td>0.0</td>\n",
       "      <td>EDUCATION</td>\n",
       "      <td>E</td>\n",
       "      <td>7000</td>\n",
       "      <td>16.82</td>\n",
       "      <td>1</td>\n",
       "      <td>0.10</td>\n",
       "      <td>Y</td>\n",
       "      <td>24</td>\n",
       "    </tr>\n",
       "    <tr>\n",
       "      <th>32565</th>\n",
       "      <td>57</td>\n",
       "      <td>40000</td>\n",
       "      <td>RENT</td>\n",
       "      <td>1.0</td>\n",
       "      <td>MEDICAL</td>\n",
       "      <td>A</td>\n",
       "      <td>15000</td>\n",
       "      <td>8.90</td>\n",
       "      <td>1</td>\n",
       "      <td>0.38</td>\n",
       "      <td>N</td>\n",
       "      <td>21</td>\n",
       "    </tr>\n",
       "    <tr>\n",
       "      <th>32571</th>\n",
       "      <td>60</td>\n",
       "      <td>45600</td>\n",
       "      <td>RENT</td>\n",
       "      <td>1.0</td>\n",
       "      <td>VENTURE</td>\n",
       "      <td>B</td>\n",
       "      <td>20000</td>\n",
       "      <td>10.00</td>\n",
       "      <td>1</td>\n",
       "      <td>0.44</td>\n",
       "      <td>N</td>\n",
       "      <td>26</td>\n",
       "    </tr>\n",
       "    <tr>\n",
       "      <th>32574</th>\n",
       "      <td>52</td>\n",
       "      <td>65004</td>\n",
       "      <td>RENT</td>\n",
       "      <td>4.0</td>\n",
       "      <td>PERSONAL</td>\n",
       "      <td>D</td>\n",
       "      <td>20000</td>\n",
       "      <td>15.58</td>\n",
       "      <td>1</td>\n",
       "      <td>0.31</td>\n",
       "      <td>Y</td>\n",
       "      <td>19</td>\n",
       "    </tr>\n",
       "    <tr>\n",
       "      <th>32578</th>\n",
       "      <td>65</td>\n",
       "      <td>76000</td>\n",
       "      <td>RENT</td>\n",
       "      <td>3.0</td>\n",
       "      <td>HOMEIMPROVEMENT</td>\n",
       "      <td>B</td>\n",
       "      <td>35000</td>\n",
       "      <td>10.99</td>\n",
       "      <td>1</td>\n",
       "      <td>0.46</td>\n",
       "      <td>N</td>\n",
       "      <td>28</td>\n",
       "    </tr>\n",
       "  </tbody>\n",
       "</table>\n",
       "<p>7108 rows × 12 columns</p>\n",
       "</div>"
      ],
      "text/plain": [
       "       person_age  person_income person_home_ownership  person_emp_length  \\\n",
       "0              22          59000                  RENT              123.0   \n",
       "2              25           9600              MORTGAGE                1.0   \n",
       "3              23          65500                  RENT                4.0   \n",
       "4              24          54400                  RENT                8.0   \n",
       "5              21           9900                   OWN                2.0   \n",
       "...           ...            ...                   ...                ...   \n",
       "32563          52          71520                  RENT                0.0   \n",
       "32565          57          40000                  RENT                1.0   \n",
       "32571          60          45600                  RENT                1.0   \n",
       "32574          52          65004                  RENT                4.0   \n",
       "32578          65          76000                  RENT                3.0   \n",
       "\n",
       "           loan_intent loan_grade  loan_amnt  loan_int_rate  loan_status  \\\n",
       "0             PERSONAL          D      35000          16.02            1   \n",
       "2              MEDICAL          C       5500          12.87            1   \n",
       "3              MEDICAL          C      35000          15.23            1   \n",
       "4              MEDICAL          C      35000          14.27            1   \n",
       "5              VENTURE          A       2500           7.14            1   \n",
       "...                ...        ...        ...            ...          ...   \n",
       "32563        EDUCATION          E       7000          16.82            1   \n",
       "32565          MEDICAL          A      15000           8.90            1   \n",
       "32571          VENTURE          B      20000          10.00            1   \n",
       "32574         PERSONAL          D      20000          15.58            1   \n",
       "32578  HOMEIMPROVEMENT          B      35000          10.99            1   \n",
       "\n",
       "       loan_percent_income cb_person_default_on_file  \\\n",
       "0                     0.59                         Y   \n",
       "2                     0.57                         N   \n",
       "3                     0.53                         N   \n",
       "4                     0.55                         Y   \n",
       "5                     0.25                         N   \n",
       "...                    ...                       ...   \n",
       "32563                 0.10                         Y   \n",
       "32565                 0.38                         N   \n",
       "32571                 0.44                         N   \n",
       "32574                 0.31                         Y   \n",
       "32578                 0.46                         N   \n",
       "\n",
       "       cb_person_cred_hist_length  \n",
       "0                               3  \n",
       "2                               3  \n",
       "3                               2  \n",
       "4                               4  \n",
       "5                               2  \n",
       "...                           ...  \n",
       "32563                          24  \n",
       "32565                          21  \n",
       "32571                          26  \n",
       "32574                          19  \n",
       "32578                          28  \n",
       "\n",
       "[7108 rows x 12 columns]"
      ]
     },
     "execution_count": 80,
     "metadata": {},
     "output_type": "execute_result"
    }
   ],
   "source": [
    "status_1 = loan_data.loc[loan_data['loan_status'] > 0]\n",
    "status_1"
   ]
  },
  {
   "cell_type": "code",
   "execution_count": 81,
   "id": "98267f40-d8a2-4a2a-8d4b-88340163acae",
   "metadata": {
    "tags": []
   },
   "outputs": [
    {
     "data": {
      "text/html": [
       "<div>\n",
       "<style scoped>\n",
       "    .dataframe tbody tr th:only-of-type {\n",
       "        vertical-align: middle;\n",
       "    }\n",
       "\n",
       "    .dataframe tbody tr th {\n",
       "        vertical-align: top;\n",
       "    }\n",
       "\n",
       "    .dataframe thead th {\n",
       "        text-align: right;\n",
       "    }\n",
       "</style>\n",
       "<table border=\"1\" class=\"dataframe\">\n",
       "  <thead>\n",
       "    <tr style=\"text-align: right;\">\n",
       "      <th></th>\n",
       "      <th>person_age</th>\n",
       "      <th>person_income</th>\n",
       "      <th>person_home_ownership</th>\n",
       "      <th>person_emp_length</th>\n",
       "      <th>loan_intent</th>\n",
       "      <th>loan_grade</th>\n",
       "      <th>loan_amnt</th>\n",
       "      <th>loan_int_rate</th>\n",
       "      <th>loan_status</th>\n",
       "      <th>loan_percent_income</th>\n",
       "      <th>cb_person_default_on_file</th>\n",
       "      <th>cb_person_cred_hist_length</th>\n",
       "    </tr>\n",
       "  </thead>\n",
       "  <tbody>\n",
       "    <tr>\n",
       "      <th>1</th>\n",
       "      <td>21</td>\n",
       "      <td>9600</td>\n",
       "      <td>OWN</td>\n",
       "      <td>5.0</td>\n",
       "      <td>EDUCATION</td>\n",
       "      <td>B</td>\n",
       "      <td>1000</td>\n",
       "      <td>11.14</td>\n",
       "      <td>0</td>\n",
       "      <td>0.10</td>\n",
       "      <td>N</td>\n",
       "      <td>2</td>\n",
       "    </tr>\n",
       "    <tr>\n",
       "      <th>14</th>\n",
       "      <td>23</td>\n",
       "      <td>115000</td>\n",
       "      <td>RENT</td>\n",
       "      <td>2.0</td>\n",
       "      <td>EDUCATION</td>\n",
       "      <td>A</td>\n",
       "      <td>35000</td>\n",
       "      <td>7.90</td>\n",
       "      <td>0</td>\n",
       "      <td>0.30</td>\n",
       "      <td>N</td>\n",
       "      <td>4</td>\n",
       "    </tr>\n",
       "    <tr>\n",
       "      <th>15</th>\n",
       "      <td>23</td>\n",
       "      <td>500000</td>\n",
       "      <td>MORTGAGE</td>\n",
       "      <td>7.0</td>\n",
       "      <td>DEBTCONSOLIDATION</td>\n",
       "      <td>B</td>\n",
       "      <td>30000</td>\n",
       "      <td>10.65</td>\n",
       "      <td>0</td>\n",
       "      <td>0.06</td>\n",
       "      <td>N</td>\n",
       "      <td>3</td>\n",
       "    </tr>\n",
       "    <tr>\n",
       "      <th>16</th>\n",
       "      <td>23</td>\n",
       "      <td>120000</td>\n",
       "      <td>RENT</td>\n",
       "      <td>0.0</td>\n",
       "      <td>EDUCATION</td>\n",
       "      <td>A</td>\n",
       "      <td>35000</td>\n",
       "      <td>7.90</td>\n",
       "      <td>0</td>\n",
       "      <td>0.29</td>\n",
       "      <td>N</td>\n",
       "      <td>4</td>\n",
       "    </tr>\n",
       "    <tr>\n",
       "      <th>20</th>\n",
       "      <td>25</td>\n",
       "      <td>162500</td>\n",
       "      <td>RENT</td>\n",
       "      <td>2.0</td>\n",
       "      <td>VENTURE</td>\n",
       "      <td>A</td>\n",
       "      <td>35000</td>\n",
       "      <td>7.49</td>\n",
       "      <td>0</td>\n",
       "      <td>0.22</td>\n",
       "      <td>N</td>\n",
       "      <td>4</td>\n",
       "    </tr>\n",
       "    <tr>\n",
       "      <th>...</th>\n",
       "      <td>...</td>\n",
       "      <td>...</td>\n",
       "      <td>...</td>\n",
       "      <td>...</td>\n",
       "      <td>...</td>\n",
       "      <td>...</td>\n",
       "      <td>...</td>\n",
       "      <td>...</td>\n",
       "      <td>...</td>\n",
       "      <td>...</td>\n",
       "      <td>...</td>\n",
       "      <td>...</td>\n",
       "    </tr>\n",
       "    <tr>\n",
       "      <th>32575</th>\n",
       "      <td>52</td>\n",
       "      <td>64500</td>\n",
       "      <td>RENT</td>\n",
       "      <td>0.0</td>\n",
       "      <td>EDUCATION</td>\n",
       "      <td>B</td>\n",
       "      <td>5000</td>\n",
       "      <td>11.26</td>\n",
       "      <td>0</td>\n",
       "      <td>0.08</td>\n",
       "      <td>N</td>\n",
       "      <td>20</td>\n",
       "    </tr>\n",
       "    <tr>\n",
       "      <th>32576</th>\n",
       "      <td>57</td>\n",
       "      <td>53000</td>\n",
       "      <td>MORTGAGE</td>\n",
       "      <td>1.0</td>\n",
       "      <td>PERSONAL</td>\n",
       "      <td>C</td>\n",
       "      <td>5800</td>\n",
       "      <td>13.16</td>\n",
       "      <td>0</td>\n",
       "      <td>0.11</td>\n",
       "      <td>N</td>\n",
       "      <td>30</td>\n",
       "    </tr>\n",
       "    <tr>\n",
       "      <th>32577</th>\n",
       "      <td>54</td>\n",
       "      <td>120000</td>\n",
       "      <td>MORTGAGE</td>\n",
       "      <td>4.0</td>\n",
       "      <td>PERSONAL</td>\n",
       "      <td>A</td>\n",
       "      <td>17625</td>\n",
       "      <td>7.49</td>\n",
       "      <td>0</td>\n",
       "      <td>0.15</td>\n",
       "      <td>N</td>\n",
       "      <td>19</td>\n",
       "    </tr>\n",
       "    <tr>\n",
       "      <th>32579</th>\n",
       "      <td>56</td>\n",
       "      <td>150000</td>\n",
       "      <td>MORTGAGE</td>\n",
       "      <td>5.0</td>\n",
       "      <td>PERSONAL</td>\n",
       "      <td>B</td>\n",
       "      <td>15000</td>\n",
       "      <td>11.48</td>\n",
       "      <td>0</td>\n",
       "      <td>0.10</td>\n",
       "      <td>N</td>\n",
       "      <td>26</td>\n",
       "    </tr>\n",
       "    <tr>\n",
       "      <th>32580</th>\n",
       "      <td>66</td>\n",
       "      <td>42000</td>\n",
       "      <td>RENT</td>\n",
       "      <td>2.0</td>\n",
       "      <td>MEDICAL</td>\n",
       "      <td>B</td>\n",
       "      <td>6475</td>\n",
       "      <td>9.99</td>\n",
       "      <td>0</td>\n",
       "      <td>0.15</td>\n",
       "      <td>N</td>\n",
       "      <td>30</td>\n",
       "    </tr>\n",
       "  </tbody>\n",
       "</table>\n",
       "<p>25473 rows × 12 columns</p>\n",
       "</div>"
      ],
      "text/plain": [
       "       person_age  person_income person_home_ownership  person_emp_length  \\\n",
       "1              21           9600                   OWN                5.0   \n",
       "14             23         115000                  RENT                2.0   \n",
       "15             23         500000              MORTGAGE                7.0   \n",
       "16             23         120000                  RENT                0.0   \n",
       "20             25         162500                  RENT                2.0   \n",
       "...           ...            ...                   ...                ...   \n",
       "32575          52          64500                  RENT                0.0   \n",
       "32576          57          53000              MORTGAGE                1.0   \n",
       "32577          54         120000              MORTGAGE                4.0   \n",
       "32579          56         150000              MORTGAGE                5.0   \n",
       "32580          66          42000                  RENT                2.0   \n",
       "\n",
       "             loan_intent loan_grade  loan_amnt  loan_int_rate  loan_status  \\\n",
       "1              EDUCATION          B       1000          11.14            0   \n",
       "14             EDUCATION          A      35000           7.90            0   \n",
       "15     DEBTCONSOLIDATION          B      30000          10.65            0   \n",
       "16             EDUCATION          A      35000           7.90            0   \n",
       "20               VENTURE          A      35000           7.49            0   \n",
       "...                  ...        ...        ...            ...          ...   \n",
       "32575          EDUCATION          B       5000          11.26            0   \n",
       "32576           PERSONAL          C       5800          13.16            0   \n",
       "32577           PERSONAL          A      17625           7.49            0   \n",
       "32579           PERSONAL          B      15000          11.48            0   \n",
       "32580            MEDICAL          B       6475           9.99            0   \n",
       "\n",
       "       loan_percent_income cb_person_default_on_file  \\\n",
       "1                     0.10                         N   \n",
       "14                    0.30                         N   \n",
       "15                    0.06                         N   \n",
       "16                    0.29                         N   \n",
       "20                    0.22                         N   \n",
       "...                    ...                       ...   \n",
       "32575                 0.08                         N   \n",
       "32576                 0.11                         N   \n",
       "32577                 0.15                         N   \n",
       "32579                 0.10                         N   \n",
       "32580                 0.15                         N   \n",
       "\n",
       "       cb_person_cred_hist_length  \n",
       "1                               2  \n",
       "14                              4  \n",
       "15                              3  \n",
       "16                              4  \n",
       "20                              4  \n",
       "...                           ...  \n",
       "32575                          20  \n",
       "32576                          30  \n",
       "32577                          19  \n",
       "32579                          26  \n",
       "32580                          30  \n",
       "\n",
       "[25473 rows x 12 columns]"
      ]
     },
     "execution_count": 81,
     "metadata": {},
     "output_type": "execute_result"
    }
   ],
   "source": [
    "status_0 = loan_data.loc[loan_data['loan_status'] < 1]\n",
    "status_0"
   ]
  },
  {
   "cell_type": "code",
   "execution_count": 85,
   "id": "1d6adc20-3d62-44fd-bb51-5907742e3e89",
   "metadata": {
    "tags": []
   },
   "outputs": [
    {
     "data": {
      "text/plain": [
       "0        D\n",
       "2        C\n",
       "3        C\n",
       "4        C\n",
       "5        A\n",
       "        ..\n",
       "32563    E\n",
       "32565    A\n",
       "32571    B\n",
       "32574    D\n",
       "32578    B\n",
       "Name: loan_grade, Length: 7108, dtype: object"
      ]
     },
     "execution_count": 85,
     "metadata": {},
     "output_type": "execute_result"
    }
   ],
   "source": [
    "status_1['loan_grade']"
   ]
  },
  {
   "cell_type": "code",
   "execution_count": 84,
   "id": "cb78a91f-3ae7-4f85-afd1-86db08a07e8a",
   "metadata": {
    "tags": []
   },
   "outputs": [
    {
     "data": {
      "text/plain": [
       "1        B\n",
       "14       A\n",
       "15       B\n",
       "16       A\n",
       "20       A\n",
       "        ..\n",
       "32575    B\n",
       "32576    C\n",
       "32577    A\n",
       "32579    B\n",
       "32580    B\n",
       "Name: loan_grade, Length: 25473, dtype: object"
      ]
     },
     "execution_count": 84,
     "metadata": {},
     "output_type": "execute_result"
    }
   ],
   "source": [
    "status_0['loan_grade']"
   ]
  },
  {
   "cell_type": "code",
   "execution_count": null,
   "id": "b05975ee-b6e7-4e0c-909a-950a729a33ef",
   "metadata": {},
   "outputs": [],
   "source": []
  }
 ],
 "metadata": {
  "kernelspec": {
   "display_name": "Python (dojo-env)",
   "language": "python",
   "name": "dojo-env"
  },
  "language_info": {
   "codemirror_mode": {
    "name": "ipython",
    "version": 3
   },
   "file_extension": ".py",
   "mimetype": "text/x-python",
   "name": "python",
   "nbconvert_exporter": "python",
   "pygments_lexer": "ipython3",
   "version": "3.10.10"
  },
  "toc-showtags": false,
  "widgets": {
   "application/vnd.jupyter.widget-state+json": {
    "state": {},
    "version_major": 2,
    "version_minor": 0
   }
  }
 },
 "nbformat": 4,
 "nbformat_minor": 5
}
